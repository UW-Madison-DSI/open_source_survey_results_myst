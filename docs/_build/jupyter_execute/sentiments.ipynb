{
 "cells": [
  {
   "cell_type": "code",
   "execution_count": 1,
   "id": "d056bbfb",
   "metadata": {
    "tags": [
     "remove-input"
    ]
   },
   "outputs": [],
   "source": [
    "# Imports\n",
    "import pandas as pd\n",
    "import plotly.express as px\n",
    "import plotly.graph_objects as go\n",
    "from pathlib import Path\n",
    "import plotly.io as pio\n",
    "import matplotlib as mpl\n",
    "import numpy as np\n",
    "from collections import Counter\n",
    "import re\n",
    "\n",
    "from setup import *\n",
    "\n",
    "df = survey_results"
   ]
  },
  {
   "cell_type": "markdown",
   "id": "35af5a53",
   "metadata": {},
   "source": [
    "# Perceptions\n",
    "\n",
    "## Value of Open Source Projects\n",
    "When asked to characterize the importance of open source tools to their education, teaching, and research, respondents said the following:"
   ]
  },
  {
   "cell_type": "code",
   "execution_count": 2,
   "id": "1f84d13a",
   "metadata": {
    "tags": [
     "remove-input"
    ]
   },
   "outputs": [
    {
     "data": {
      "application/vnd.plotly.v1+json": {
       "config": {
        "plotlyServerURL": "https://plot.ly"
       },
       "data": [
        {
         "hovertemplate": "Respondent Type=Faculty<br>QID16=%{x}<br>Percent=%{y}<extra></extra>",
         "legendgroup": "Faculty",
         "marker": {
          "color": "#9B0000",
          "pattern": {
           "shape": ""
          }
         },
         "name": "Faculty",
         "orientation": "v",
         "showlegend": true,
         "textposition": "auto",
         "type": "bar",
         "x": [
          "Critical/Vital/Essential",
          "Valuable",
          "Neutral",
          "Little importance",
          "Irrelevant"
         ],
         "xaxis": "x",
         "y": {
          "bdata": "5iybf8Y0yT931b1DoorAP96uundIVKE/5iybf8Y0eT/mLJt/xjRpPw==",
          "dtype": "f8"
         },
         "yaxis": "y"
        },
        {
         "hovertemplate": "Respondent Type=Graduate Student<br>QID16=%{x}<br>Percent=%{y}<extra></extra>",
         "legendgroup": "Graduate Student",
         "marker": {
          "color": "#666666",
          "pattern": {
           "shape": ""
          }
         },
         "name": "Graduate Student",
         "orientation": "v",
         "showlegend": true,
         "textposition": "auto",
         "type": "bar",
         "x": [
          "Critical/Vital/Essential",
          "Valuable",
          "Neutral"
         ],
         "xaxis": "x",
         "y": {
          "bdata": "+fS1xcGCwj9Jx6evLQ6mPyD4gR/4gY8/",
          "dtype": "f8"
         },
         "yaxis": "y"
        },
        {
         "hovertemplate": "Respondent Type=Other<br>QID16=%{x}<br>Percent=%{y}<extra></extra>",
         "legendgroup": "Other",
         "marker": {
          "color": "#B60205",
          "pattern": {
           "shape": ""
          }
         },
         "name": "Other",
         "orientation": "v",
         "showlegend": true,
         "textposition": "auto",
         "type": "bar",
         "x": [
          "Critical/Vital/Essential",
          "Valuable",
          "Neutral",
          "Irrelevant"
         ],
         "xaxis": "x",
         "y": {
          "bdata": "Scenry0Olj+tYbTflOeCP+Ysm3/GNGk/5iybf8Y0aT8=",
          "dtype": "f8"
         },
         "yaxis": "y"
        },
        {
         "hovertemplate": "Respondent Type=Postdoc<br>QID16=%{x}<br>Percent=%{y}<extra></extra>",
         "legendgroup": "Postdoc",
         "marker": {
          "color": "#8c1515",
          "pattern": {
           "shape": ""
          }
         },
         "name": "Postdoc",
         "orientation": "v",
         "showlegend": true,
         "textposition": "auto",
         "type": "bar",
         "x": [
          "Critical/Vital/Essential",
          "Valuable",
          "Neutral"
         ],
         "xaxis": "x",
         "y": {
          "bdata": "rWG035Tnkj/mLJt/xjR5P+Ysm3/GNGk/",
          "dtype": "f8"
         },
         "yaxis": "y"
        },
        {
         "hovertemplate": "Respondent Type=Staff<br>QID16=%{x}<br>Percent=%{y}<extra></extra>",
         "legendgroup": "Staff",
         "marker": {
          "color": "#9c9c9c",
          "pattern": {
           "shape": ""
          }
         },
         "name": "Staff",
         "orientation": "v",
         "showlegend": true,
         "textposition": "auto",
         "type": "bar",
         "x": [
          "Critical/Vital/Essential",
          "Valuable",
          "Neutral",
          "Little importance",
          "Irrelevant"
         ],
         "xaxis": "x",
         "y": {
          "bdata": "tN+U5xLIyj931b1DooqwPxh6oRd6oac/5iybf8Y0iT/mLJt/xjRpPw==",
          "dtype": "f8"
         },
         "yaxis": "y"
        },
        {
         "hovertemplate": "Respondent Type=Unaffiliated<br>QID16=%{x}<br>Percent=%{y}<extra></extra>",
         "legendgroup": "Unaffiliated",
         "marker": {
          "color": "#c2c2c2",
          "pattern": {
           "shape": ""
          }
         },
         "name": "Unaffiliated",
         "orientation": "v",
         "showlegend": true,
         "textposition": "auto",
         "type": "bar",
         "x": [
          "Critical/Vital/Essential"
         ],
         "xaxis": "x",
         "y": {
          "bdata": "rWG035Tngj8=",
          "dtype": "f8"
         },
         "yaxis": "y"
        },
        {
         "hovertemplate": "Respondent Type=Undergraduate Student<br>QID16=%{x}<br>Percent=%{y}<extra></extra>",
         "legendgroup": "Undergraduate Student",
         "marker": {
          "color": "#9B0000",
          "pattern": {
           "shape": ""
          }
         },
         "name": "Undergraduate Student",
         "orientation": "v",
         "showlegend": true,
         "textposition": "auto",
         "type": "bar",
         "x": [
          "Critical/Vital/Essential",
          "Valuable",
          "Neutral"
         ],
         "xaxis": "x",
         "y": {
          "bdata": "rWG035Tngj/mLJt/xjR5P+Ysm3/GNGk/",
          "dtype": "f8"
         },
         "yaxis": "y"
        }
       ],
       "layout": {
        "barmode": "stack",
        "legend": {
         "title": {
          "text": "Respondent Type"
         },
         "tracegroupgap": 0
        },
        "template": {
         "data": {
          "bar": [
           {
            "error_x": {
             "color": "#2a3f5f"
            },
            "error_y": {
             "color": "#2a3f5f"
            },
            "marker": {
             "line": {
              "color": "white",
              "width": 0.5
             },
             "pattern": {
              "fillmode": "overlay",
              "size": 10,
              "solidity": 0.2
             }
            },
            "type": "bar"
           }
          ],
          "barpolar": [
           {
            "marker": {
             "line": {
              "color": "white",
              "width": 0.5
             },
             "pattern": {
              "fillmode": "overlay",
              "size": 10,
              "solidity": 0.2
             }
            },
            "type": "barpolar"
           }
          ],
          "carpet": [
           {
            "aaxis": {
             "endlinecolor": "#2a3f5f",
             "gridcolor": "#C8D4E3",
             "linecolor": "#C8D4E3",
             "minorgridcolor": "#C8D4E3",
             "startlinecolor": "#2a3f5f"
            },
            "baxis": {
             "endlinecolor": "#2a3f5f",
             "gridcolor": "#C8D4E3",
             "linecolor": "#C8D4E3",
             "minorgridcolor": "#C8D4E3",
             "startlinecolor": "#2a3f5f"
            },
            "type": "carpet"
           }
          ],
          "choropleth": [
           {
            "colorbar": {
             "outlinewidth": 0,
             "ticks": ""
            },
            "type": "choropleth"
           }
          ],
          "contour": [
           {
            "colorbar": {
             "outlinewidth": 0,
             "ticks": ""
            },
            "colorscale": [
             [
              0.0,
              "#0d0887"
             ],
             [
              0.1111111111111111,
              "#46039f"
             ],
             [
              0.2222222222222222,
              "#7201a8"
             ],
             [
              0.3333333333333333,
              "#9c179e"
             ],
             [
              0.4444444444444444,
              "#bd3786"
             ],
             [
              0.5555555555555556,
              "#d8576b"
             ],
             [
              0.6666666666666666,
              "#ed7953"
             ],
             [
              0.7777777777777778,
              "#fb9f3a"
             ],
             [
              0.8888888888888888,
              "#fdca26"
             ],
             [
              1.0,
              "#f0f921"
             ]
            ],
            "type": "contour"
           }
          ],
          "contourcarpet": [
           {
            "colorbar": {
             "outlinewidth": 0,
             "ticks": ""
            },
            "type": "contourcarpet"
           }
          ],
          "heatmap": [
           {
            "colorbar": {
             "outlinewidth": 0,
             "ticks": ""
            },
            "colorscale": [
             [
              0.0,
              "#0d0887"
             ],
             [
              0.1111111111111111,
              "#46039f"
             ],
             [
              0.2222222222222222,
              "#7201a8"
             ],
             [
              0.3333333333333333,
              "#9c179e"
             ],
             [
              0.4444444444444444,
              "#bd3786"
             ],
             [
              0.5555555555555556,
              "#d8576b"
             ],
             [
              0.6666666666666666,
              "#ed7953"
             ],
             [
              0.7777777777777778,
              "#fb9f3a"
             ],
             [
              0.8888888888888888,
              "#fdca26"
             ],
             [
              1.0,
              "#f0f921"
             ]
            ],
            "type": "heatmap"
           }
          ],
          "histogram": [
           {
            "marker": {
             "pattern": {
              "fillmode": "overlay",
              "size": 10,
              "solidity": 0.2
             }
            },
            "type": "histogram"
           }
          ],
          "histogram2d": [
           {
            "colorbar": {
             "outlinewidth": 0,
             "ticks": ""
            },
            "colorscale": [
             [
              0.0,
              "#0d0887"
             ],
             [
              0.1111111111111111,
              "#46039f"
             ],
             [
              0.2222222222222222,
              "#7201a8"
             ],
             [
              0.3333333333333333,
              "#9c179e"
             ],
             [
              0.4444444444444444,
              "#bd3786"
             ],
             [
              0.5555555555555556,
              "#d8576b"
             ],
             [
              0.6666666666666666,
              "#ed7953"
             ],
             [
              0.7777777777777778,
              "#fb9f3a"
             ],
             [
              0.8888888888888888,
              "#fdca26"
             ],
             [
              1.0,
              "#f0f921"
             ]
            ],
            "type": "histogram2d"
           }
          ],
          "histogram2dcontour": [
           {
            "colorbar": {
             "outlinewidth": 0,
             "ticks": ""
            },
            "colorscale": [
             [
              0.0,
              "#0d0887"
             ],
             [
              0.1111111111111111,
              "#46039f"
             ],
             [
              0.2222222222222222,
              "#7201a8"
             ],
             [
              0.3333333333333333,
              "#9c179e"
             ],
             [
              0.4444444444444444,
              "#bd3786"
             ],
             [
              0.5555555555555556,
              "#d8576b"
             ],
             [
              0.6666666666666666,
              "#ed7953"
             ],
             [
              0.7777777777777778,
              "#fb9f3a"
             ],
             [
              0.8888888888888888,
              "#fdca26"
             ],
             [
              1.0,
              "#f0f921"
             ]
            ],
            "type": "histogram2dcontour"
           }
          ],
          "mesh3d": [
           {
            "colorbar": {
             "outlinewidth": 0,
             "ticks": ""
            },
            "type": "mesh3d"
           }
          ],
          "parcoords": [
           {
            "line": {
             "colorbar": {
              "outlinewidth": 0,
              "ticks": ""
             }
            },
            "type": "parcoords"
           }
          ],
          "pie": [
           {
            "automargin": true,
            "type": "pie"
           }
          ],
          "scatter": [
           {
            "fillpattern": {
             "fillmode": "overlay",
             "size": 10,
             "solidity": 0.2
            },
            "type": "scatter"
           }
          ],
          "scatter3d": [
           {
            "line": {
             "colorbar": {
              "outlinewidth": 0,
              "ticks": ""
             }
            },
            "marker": {
             "colorbar": {
              "outlinewidth": 0,
              "ticks": ""
             }
            },
            "type": "scatter3d"
           }
          ],
          "scattercarpet": [
           {
            "marker": {
             "colorbar": {
              "outlinewidth": 0,
              "ticks": ""
             }
            },
            "type": "scattercarpet"
           }
          ],
          "scattergeo": [
           {
            "marker": {
             "colorbar": {
              "outlinewidth": 0,
              "ticks": ""
             }
            },
            "type": "scattergeo"
           }
          ],
          "scattergl": [
           {
            "marker": {
             "colorbar": {
              "outlinewidth": 0,
              "ticks": ""
             }
            },
            "type": "scattergl"
           }
          ],
          "scattermap": [
           {
            "marker": {
             "colorbar": {
              "outlinewidth": 0,
              "ticks": ""
             }
            },
            "type": "scattermap"
           }
          ],
          "scattermapbox": [
           {
            "marker": {
             "colorbar": {
              "outlinewidth": 0,
              "ticks": ""
             }
            },
            "type": "scattermapbox"
           }
          ],
          "scatterpolar": [
           {
            "marker": {
             "colorbar": {
              "outlinewidth": 0,
              "ticks": ""
             }
            },
            "type": "scatterpolar"
           }
          ],
          "scatterpolargl": [
           {
            "marker": {
             "colorbar": {
              "outlinewidth": 0,
              "ticks": ""
             }
            },
            "type": "scatterpolargl"
           }
          ],
          "scatterternary": [
           {
            "marker": {
             "colorbar": {
              "outlinewidth": 0,
              "ticks": ""
             }
            },
            "type": "scatterternary"
           }
          ],
          "surface": [
           {
            "colorbar": {
             "outlinewidth": 0,
             "ticks": ""
            },
            "colorscale": [
             [
              0.0,
              "#0d0887"
             ],
             [
              0.1111111111111111,
              "#46039f"
             ],
             [
              0.2222222222222222,
              "#7201a8"
             ],
             [
              0.3333333333333333,
              "#9c179e"
             ],
             [
              0.4444444444444444,
              "#bd3786"
             ],
             [
              0.5555555555555556,
              "#d8576b"
             ],
             [
              0.6666666666666666,
              "#ed7953"
             ],
             [
              0.7777777777777778,
              "#fb9f3a"
             ],
             [
              0.8888888888888888,
              "#fdca26"
             ],
             [
              1.0,
              "#f0f921"
             ]
            ],
            "type": "surface"
           }
          ],
          "table": [
           {
            "cells": {
             "fill": {
              "color": "#EBF0F8"
             },
             "line": {
              "color": "white"
             }
            },
            "header": {
             "fill": {
              "color": "#C8D4E3"
             },
             "line": {
              "color": "white"
             }
            },
            "type": "table"
           }
          ]
         },
         "layout": {
          "annotationdefaults": {
           "arrowcolor": "#2a3f5f",
           "arrowhead": 0,
           "arrowwidth": 1
          },
          "autotypenumbers": "strict",
          "coloraxis": {
           "colorbar": {
            "outlinewidth": 0,
            "ticks": ""
           }
          },
          "colorscale": {
           "diverging": [
            [
             0,
             "#8e0152"
            ],
            [
             0.1,
             "#c51b7d"
            ],
            [
             0.2,
             "#de77ae"
            ],
            [
             0.3,
             "#f1b6da"
            ],
            [
             0.4,
             "#fde0ef"
            ],
            [
             0.5,
             "#f7f7f7"
            ],
            [
             0.6,
             "#e6f5d0"
            ],
            [
             0.7,
             "#b8e186"
            ],
            [
             0.8,
             "#7fbc41"
            ],
            [
             0.9,
             "#4d9221"
            ],
            [
             1,
             "#276419"
            ]
           ],
           "sequential": [
            [
             0.0,
             "#0d0887"
            ],
            [
             0.1111111111111111,
             "#46039f"
            ],
            [
             0.2222222222222222,
             "#7201a8"
            ],
            [
             0.3333333333333333,
             "#9c179e"
            ],
            [
             0.4444444444444444,
             "#bd3786"
            ],
            [
             0.5555555555555556,
             "#d8576b"
            ],
            [
             0.6666666666666666,
             "#ed7953"
            ],
            [
             0.7777777777777778,
             "#fb9f3a"
            ],
            [
             0.8888888888888888,
             "#fdca26"
            ],
            [
             1.0,
             "#f0f921"
            ]
           ],
           "sequentialminus": [
            [
             0.0,
             "#0d0887"
            ],
            [
             0.1111111111111111,
             "#46039f"
            ],
            [
             0.2222222222222222,
             "#7201a8"
            ],
            [
             0.3333333333333333,
             "#9c179e"
            ],
            [
             0.4444444444444444,
             "#bd3786"
            ],
            [
             0.5555555555555556,
             "#d8576b"
            ],
            [
             0.6666666666666666,
             "#ed7953"
            ],
            [
             0.7777777777777778,
             "#fb9f3a"
            ],
            [
             0.8888888888888888,
             "#fdca26"
            ],
            [
             1.0,
             "#f0f921"
            ]
           ]
          },
          "colorway": [
           "#9B0000",
           "#666666",
           "#B60205",
           "#8c1515",
           "#9c9c9c",
           "#c2c2c2"
          ],
          "font": {
           "color": "#2a3f5f",
           "family": "Red Hat Text, Arial, sans-serif"
          },
          "geo": {
           "bgcolor": "white",
           "lakecolor": "white",
           "landcolor": "white",
           "showlakes": true,
           "showland": true,
           "subunitcolor": "#C8D4E3"
          },
          "hoverlabel": {
           "align": "left"
          },
          "hovermode": "closest",
          "legend": {
           "bgcolor": "rgba(0,0,0,0)"
          },
          "mapbox": {
           "style": "light"
          },
          "margin": {
           "b": 40,
           "l": 40,
           "r": 20,
           "t": 60
          },
          "paper_bgcolor": "#F7F7F7",
          "plot_bgcolor": "#F7F7F7",
          "polar": {
           "angularaxis": {
            "gridcolor": "#EBF0F8",
            "linecolor": "#EBF0F8",
            "ticks": ""
           },
           "bgcolor": "white",
           "radialaxis": {
            "gridcolor": "#EBF0F8",
            "linecolor": "#EBF0F8",
            "ticks": ""
           }
          },
          "scene": {
           "xaxis": {
            "backgroundcolor": "white",
            "gridcolor": "#DFE8F3",
            "gridwidth": 2,
            "linecolor": "#EBF0F8",
            "showbackground": true,
            "ticks": "",
            "zerolinecolor": "#EBF0F8"
           },
           "yaxis": {
            "backgroundcolor": "white",
            "gridcolor": "#DFE8F3",
            "gridwidth": 2,
            "linecolor": "#EBF0F8",
            "showbackground": true,
            "ticks": "",
            "zerolinecolor": "#EBF0F8"
           },
           "zaxis": {
            "backgroundcolor": "white",
            "gridcolor": "#DFE8F3",
            "gridwidth": 2,
            "linecolor": "#EBF0F8",
            "showbackground": true,
            "ticks": "",
            "zerolinecolor": "#EBF0F8"
           }
          },
          "shapedefaults": {
           "line": {
            "color": "#2a3f5f"
           }
          },
          "ternary": {
           "aaxis": {
            "gridcolor": "#DFE8F3",
            "linecolor": "#A2B1C6",
            "ticks": ""
           },
           "baxis": {
            "gridcolor": "#DFE8F3",
            "linecolor": "#A2B1C6",
            "ticks": ""
           },
           "bgcolor": "white",
           "caxis": {
            "gridcolor": "#DFE8F3",
            "linecolor": "#A2B1C6",
            "ticks": ""
           }
          },
          "title": {
           "x": 0.01,
           "xanchor": "left"
          },
          "xaxis": {
           "automargin": true,
           "gridcolor": "#e9e9e9",
           "linecolor": "#EBF0F8",
           "ticks": "",
           "title": {
            "standoff": 15
           },
           "zeroline": false,
           "zerolinecolor": "#EBF0F8",
           "zerolinewidth": 2
          },
          "yaxis": {
           "automargin": true,
           "gridcolor": "#e9e9e9",
           "linecolor": "#EBF0F8",
           "ticks": "",
           "title": {
            "standoff": 15
           },
           "zeroline": false,
           "zerolinecolor": "#EBF0F8",
           "zerolinewidth": 2
          }
         }
        },
        "xaxis": {
         "anchor": "y",
         "domain": [
          0.0,
          1.0
         ],
         "title": {
          "text": ""
         }
        },
        "yaxis": {
         "anchor": "x",
         "domain": [
          0.0,
          1.0
         ],
         "gridcolor": "#ffffff",
         "tickformat": ".1%",
         "title": {
          "text": "Percent"
         },
         "zerolinecolor": "#ffffff",
         "zerolinewidth": 2
        }
       }
      }
     },
     "metadata": {},
     "output_type": "display_data"
    }
   ],
   "source": [
    "# Software familiarity\n",
    "import pandas as pd\n",
    "import plotly.express as px\n",
    "import plotly.graph_objects as go\n",
    "\n",
    "# Create the equivalent of your R pipeline\n",
    "s1_df = (\n",
    "    survey_results.assign(\n",
    "        QID4=survey_results[\"QID4\"].fillna(\"Unaffiliated\"),  # equivalent to ifelse(is.na(QID4), 'Unaffiliated', QID4)\n",
    "        QID16=pd.Categorical(\n",
    "            survey_results[\"QID16\"], \n",
    "            categories=[\n",
    "                'Critical/Vital/Essential',\n",
    "                'Valuable', \n",
    "                'Neutral',\n",
    "                'Little importance',\n",
    "                'Irrelevant'\n",
    "            ], \n",
    "            ordered=True\n",
    "        )\n",
    "    )\n",
    "    .rename(columns={\"QID4\": \"Respondent Type\"})  # equivalent to rename()\n",
    "    .groupby([\"QID16\", \"Respondent Type\"], observed=True, dropna=False)  # group_by()\n",
    "    .size()  # equivalent to summarise(Count = n())\n",
    "    .reset_index(name=\"Count\")\n",
    ")\n",
    "\n",
    "# Calculate percentage\n",
    "s1_df[\"Percent\"] = s1_df[\"Count\"] / len(survey_results)\n",
    "\n",
    "# Create the plot using plotly express (simpler than go.Figure)\n",
    "fig = px.bar(\n",
    "    s1_df, \n",
    "    x=\"QID16\", \n",
    "    y=\"Percent\",\n",
    "    color=\"Respondent Type\",\n",
    "    barmode=\"stack\"\n",
    ")\n",
    "\n",
    "# Update layout to match your styling\n",
    "fig.update_layout(\n",
    "    xaxis=dict(title=\"\"),\n",
    "    yaxis=dict(\n",
    "        zerolinecolor=\"#ffffff\",\n",
    "        zerolinewidth=2,\n",
    "        gridcolor=\"#ffffff\",\n",
    "        tickformat=\".1%\"\n",
    "    )\n",
    ")\n",
    "\n",
    "fig.show()\n",
    "fig.write_html('_static/perceptions.html', full_html=False, include_plotlyjs='cdn')"
   ]
  },
  {
   "cell_type": "markdown",
   "id": "33fc1134",
   "metadata": {},
   "source": [
    "```{raw} html\n",
    ":file: _static/perceptions.html\n",
    "```\n",
    "\n",
    "Survey takers were also asked how much they agree that 1) open source tools are a valuable form of research output and 2) open source tools are an important way to translate research into entrepreneurship and innovation.\n",
    "\n",
    "### Open Source is a valuable Research Output"
   ]
  },
  {
   "cell_type": "code",
   "execution_count": 3,
   "id": "cdba0bba",
   "metadata": {
    "tags": [
     "remove-input"
    ]
   },
   "outputs": [],
   "source": [
    "# Copy to avoid mutating the original\n",
    "s2_df = survey_results.copy()\n",
    "s3_df = survey_results.copy()\n",
    "\n",
    "# Replace NA in QID4 with \"Unaffiliated\"\n",
    "s2_df[\"QID4\"] = s2_df[\"QID4\"].fillna(\"Unaffiliated\")\n",
    "s3_df[\"QID4\"] = s3_df[\"QID4\"].fillna(\"Unaffiliated\")\n",
    "\n",
    "# Rename QID4 → Respondent Type\n",
    "s2_df = s2_df.rename(columns={\"QID4\": \"Respondent Type\"})\n",
    "s3_df = s3_df.rename(columns={\"QID4\": \"Respondent Type\"})\n",
    "\n",
    "# Set factor (ordered categories)\n",
    "qid_levels = [\n",
    "    \"Strongly agree\",\n",
    "    \"Somewhat agree\",\n",
    "    \"Neither agree nor disagree\",\n",
    "    \"Somewhat disagree\",\n",
    "    \"Strongly disagree\",\n",
    "]\n",
    "\n",
    "s2_df[\"QID20\"] = pd.Categorical(s2_df[\"QID20\"], categories=qid_levels, ordered=True)\n",
    "s3_df[\"QID21\"] = pd.Categorical(s3_df[\"QID21\"], categories=qid_levels, ordered=True)\n",
    "\n",
    "# Group + summarise\n",
    "s2_df = (\n",
    "    s2_df.groupby([\"QID20\", \"Respondent Type\"], observed=True, dropna=False)\n",
    "         .size()\n",
    "         .reset_index(name=\"Count\")\n",
    ")\n",
    "s2_df[\"Percent\"] = s2_df[\"Count\"] / len(survey_results)\n",
    "\n",
    "s3_df = (\n",
    "    s3_df.groupby([\"QID21\", \"Respondent Type\"], observed=True, dropna=False)\n",
    "         .size()\n",
    "         .reset_index(name=\"Count\")\n",
    ")\n",
    "s3_df[\"Percent\"] = s3_df[\"Count\"] / len(survey_results)\n",
    "\n",
    "\n",
    "\n",
    "\n",
    "s2 = s2_df.copy()\n",
    "\n",
    "# Order x by total Percent (descending)\n",
    "order = (\n",
    "    s2.groupby(\"QID20\",observed=True, as_index=False)[\"Percent\"].sum()\n",
    "      .sort_values(\"Percent\", ascending=False)[\"QID20\"]\n",
    ")\n",
    "s2[\"QID20\"] = pd.Categorical(s2[\"QID20\"], categories=order, ordered=True)\n",
    "\n",
    "\n",
    "fig = px.bar(\n",
    "    s2.sort_values(\"QID20\"),\n",
    "    x=\"QID20\",\n",
    "    y=\"Percent\",\n",
    "    color=\"Respondent Type\",\n",
    ")\n",
    "\n",
    "fig.update_layout(\n",
    "    barmode=\"stack\",\n",
    "    xaxis_title=\"\"\n",
    ")\n",
    "fig.write_html('_static/os_valuable_ro.html', full_html=False, include_plotlyjs='cdn')\n",
    "\n",
    "\n",
    "fig2 = px.bar(\n",
    "    s3_df.sort_values(\"QID21\"),\n",
    "    x=\"QID21\",\n",
    "    y=\"Percent\",\n",
    "    color=\"Respondent Type\",\n",
    ")\n",
    "\n",
    "fig2.update_layout(\n",
    "    barmode=\"stack\",\n",
    "    xaxis_title=\"\"\n",
    ")\n",
    "fig2.write_html('_static/os_translates.html', full_html=False, include_plotlyjs='cdn')"
   ]
  },
  {
   "cell_type": "markdown",
   "id": "85f10ede",
   "metadata": {},
   "source": [
    "```{raw} html\n",
    ":file: _static/os_valuable_ro.html\n",
    "```\n",
    "\n",
    "### Open Source Translates research into innovation\n",
    "\n",
    "```{raw} html\n",
    ":file: _static/os_translates.html\n",
    "```\n",
    "\n",
    "## Benefits of Open Source Tools in Academic Settings"
   ]
  },
  {
   "cell_type": "code",
   "execution_count": 4,
   "id": "ba4539a7",
   "metadata": {
    "tags": [
     "remove-input"
    ]
   },
   "outputs": [],
   "source": [
    "# Create the equivalent of your R pipeline\n",
    "s4 = (\n",
    "    survey_results[[\"ResponseId\", \"QID18\"]]  # select()\n",
    "    .assign(QID18=survey_results[\"QID18\"].astype(str))  # ensure string type\n",
    "    .assign(QID18=lambda df: df[\"QID18\"].str.split(','))  # prepare for explode\n",
    "    .explode(\"QID18\")  # equivalent to separate_rows()\n",
    "    .assign(QID18=lambda df: df[\"QID18\"].str.strip())  # remove whitespace\n",
    "    .groupby(\"QID18\",observed=True, dropna=False)  # group_by()\n",
    "    .size()  # equivalent to summarise(count = n())\n",
    "    .reset_index(name=\"count\")\n",
    "    .rename(columns={\"QID18\": \"Benefit\"})\n",
    "    .assign(pct=lambda df: df[\"count\"] / len(survey_results))  # calculate percentage\n",
    "    .assign(Benefit=lambda df: df[\"Benefit\"].fillna(\"None\"))  # handle NAs\n",
    "    .sort_values(\"pct\", ascending=False)  # arrange(desc(pct))\n",
    ")\n",
    "\n",
    "# Create lollipop plot\n",
    "fig = go.Figure()\n",
    "\n",
    "# Add only the markers (no connecting lines between different categories)\n",
    "fig.add_trace(go.Scatter(\n",
    "    x=s4[\"pct\"],\n",
    "    y=s4[\"Benefit\"],\n",
    "    mode='markers',  # Changed from 'lines+markers' to just 'markers'\n",
    "    marker=dict(size=8, color=PRIMARY_COLOR),\n",
    "    orientation='h',\n",
    "    hovertemplate='%{y}<br>%{x:.2%}<extra></extra>',\n",
    "    showlegend=False\n",
    "))\n",
    "\n",
    "# Add individual line segments for lollipop effect (from 0 to each point)\n",
    "for i, row in s4.iterrows():\n",
    "    fig.add_shape(\n",
    "        type=\"line\",\n",
    "        x0=0, x1=row[\"pct\"],\n",
    "        y0=row[\"Benefit\"], y1=row[\"Benefit\"],\n",
    "        line=dict(color=PRIMARY_COLOR, width=2)\n",
    "    )\n",
    "\n",
    "# Update layout\n",
    "fig.update_layout(\n",
    "    xaxis=dict(\n",
    "        title=\"Percent of Respondents Agreeing with Benefits of Using Open Source Software\",\n",
    "        tickformat=\".1%\",\n",
    "        range=[0, 1]\n",
    "    ),\n",
    "    yaxis=dict(\n",
    "        title=\"\",\n",
    "        categoryorder=\"array\",\n",
    "        categoryarray=s4.sort_values(\"pct\")[\"Benefit\"].tolist()\n",
    "    ),\n",
    "    showlegend=False\n",
    ")\n",
    "\n",
    "\n",
    "fig.write_html('_static/benefits.html', full_html=False, include_plotlyjs='cdn')"
   ]
  },
  {
   "cell_type": "markdown",
   "id": "d0ccc53a",
   "metadata": {},
   "source": [
    "We asked survey respondents to choose among a list of potential benefits of using open-source tools in their work. Of the survey-takers who identified benefits, the percentage of respondents who identified each benefit are shown below:\n",
    "\n",
    "```{raw} html\n",
    ":file: _static/benefits.html\n",
    "```"
   ]
  }
 ],
 "metadata": {
  "jupytext": {
   "text_representation": {
    "format_name": "myst"
   }
  },
  "kernelspec": {
   "display_name": "Python 3",
   "language": "python",
   "name": "python3"
  },
  "language_info": {
   "codemirror_mode": {
    "name": "ipython",
    "version": 3
   },
   "file_extension": ".py",
   "mimetype": "text/x-python",
   "name": "python",
   "nbconvert_exporter": "python",
   "pygments_lexer": "ipython3",
   "version": "3.10.14"
  },
  "source_map": [
   12,
   28,
   36,
   90,
   100,
   182,
   197,
   256
  ],
  "title": "Perceptions"
 },
 "nbformat": 4,
 "nbformat_minor": 5
}