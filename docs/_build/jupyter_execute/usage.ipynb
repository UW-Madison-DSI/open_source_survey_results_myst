{
 "cells": [
  {
   "cell_type": "markdown",
   "id": "9cecd6d7",
   "metadata": {},
   "source": [
    "# Usage\n",
    "\n",
    "## Familiarity with Open Source Tools"
   ]
  },
  {
   "cell_type": "code",
   "execution_count": 1,
   "id": "6c87a104",
   "metadata": {
    "tags": [
     "remove-input"
    ]
   },
   "outputs": [],
   "source": [
    "# Imports\n",
    "import pandas as pd\n",
    "import plotly.express as px\n",
    "import plotly.graph_objects as go\n",
    "from pathlib import Path\n",
    "import plotly.io as pio\n",
    "import matplotlib as mpl\n",
    "import numpy as np\n",
    "from collections import Counter\n",
    "import re\n",
    "from myst_nb import glue\n",
    "from setup import *\n",
    "\n",
    "df = survey_results"
   ]
  },
  {
   "cell_type": "markdown",
   "id": "6f58ab15",
   "metadata": {},
   "source": [
    "We asked respondents how familiar they are with the concepts of open source."
   ]
  },
  {
   "cell_type": "code",
   "execution_count": 2,
   "id": "7047b43b",
   "metadata": {
    "tags": [
     "remove-input"
    ]
   },
   "outputs": [],
   "source": [
    "# Software familiarity\n",
    "familiarity_order = [\n",
    "    'Extremely familiar',\n",
    "    'Very familiar', \n",
    "    'Moderately familiar',\n",
    "    'Slightly familiar',\n",
    "    'Not familiar at all'\n",
    "]\n",
    "\n",
    "# Software (QID11)\n",
    "df_f1 = (\n",
    "    df.assign(\n",
    "        QID4=df[\"QID4\"].map(fill_unaffiliated),\n",
    "        QID11=pd.Categorical(df[\"QID11\"], categories=familiarity_order, ordered=True)\n",
    "    )\n",
    "    .rename(columns={\"QID4\": \"Respondent Type\"})\n",
    ")\n",
    "\n",
    "f1_df = (\n",
    "    df_f1.groupby([\"QID11\", \"Respondent Type\"], observed=True, dropna=False)\n",
    "         .size()\n",
    "         .reset_index(name=\"Count\")\n",
    ")\n",
    "f1_df[\"Percent\"] = f1_df[\"Count\"] / len(df)\n",
    "\n",
    "# Hardware (QID10)\n",
    "df_f2 = (\n",
    "    df.assign(\n",
    "        QID4=df[\"QID4\"].map(fill_unaffiliated),\n",
    "        QID10=pd.Categorical(df[\"QID10\"], categories=familiarity_order, ordered=True)\n",
    "    )\n",
    "    .rename(columns={\"QID4\": \"Respondent Type\"})\n",
    ")\n",
    "\n",
    "f2_df = (\n",
    "    df_f2.groupby([\"QID10\", \"Respondent Type\"], observed=True, dropna=False)\n",
    "         .size()\n",
    "         .reset_index(name=\"Count\")\n",
    ")\n",
    "f2_df[\"Percent\"] = f2_df[\"Count\"] / len(df)\n",
    "\n",
    "# Educational materials (QID12)\n",
    "df_f3 = (\n",
    "    df.assign(\n",
    "        QID4=df[\"QID4\"].map(fill_unaffiliated),\n",
    "        QID12=pd.Categorical(df[\"QID12\"], categories=familiarity_order, ordered=True)\n",
    "    )\n",
    "    .rename(columns={\"QID4\": \"Respondent Type\"})\n",
    ")\n",
    "\n",
    "f3_df = (\n",
    "    df_f3.groupby([\"QID12\", \"Respondent Type\"], observed=True, dropna=False)\n",
    "         .size()\n",
    "         .reset_index(name=\"Count\")\n",
    ")\n",
    "f3_df[\"Percent\"] = f3_df[\"Count\"] / len(df)"
   ]
  },
  {
   "cell_type": "markdown",
   "id": "ae39d4c8",
   "metadata": {},
   "source": [
    "Examples of open source software include [Python](https://www.python.org/) and [git](https://git-scm.com/)"
   ]
  },
  {
   "cell_type": "code",
   "execution_count": 3,
   "id": "f934c402",
   "metadata": {
    "tags": [
     "remove-input"
    ]
   },
   "outputs": [
    {
     "data": {
      "application/vnd.plotly.v1+json": {
       "config": {
        "plotlyServerURL": "https://plot.ly"
       },
       "data": [
        {
         "hovertemplate": "Respondent Type=Faculty<br>QID11=%{x}<br>Percent=%{y}<extra></extra>",
         "legendgroup": "Faculty",
         "marker": {
          "color": "#9B0000",
          "pattern": {
           "shape": ""
          }
         },
         "name": "Faculty",
         "orientation": "v",
         "showlegend": true,
         "textposition": "auto",
         "type": "bar",
         "x": [
          "Extremely familiar",
          "Very familiar",
          "Moderately familiar",
          "Slightly familiar",
          "Not familiar at all"
         ],
         "xaxis": "x",
         "y": {
          "bdata": "w2i/Kc8lwD/errp3SFTBP1FFiLer7q0/exSuR+F6pD+tYbTflOeCPw==",
          "dtype": "f8"
         },
         "yaxis": "y"
        },
        {
         "hovertemplate": "Respondent Type=Graduate Student<br>QID11=%{x}<br>Percent=%{y}<extra></extra>",
         "legendgroup": "Graduate Student",
         "marker": {
          "color": "#666666",
          "pattern": {
           "shape": ""
          }
         },
         "name": "Graduate Student",
         "orientation": "v",
         "showlegend": true,
         "textposition": "auto",
         "type": "bar",
         "x": [
          "Extremely familiar",
          "Very familiar",
          "Moderately familiar",
          "Slightly familiar",
          "Not familiar at all"
         ],
         "xaxis": "x",
         "y": {
          "bdata": "GHqhF3qhtz9RRYi3q+6tP96uundIVKE/5iybf8Y0iT/mLJt/xjR5Pw==",
          "dtype": "f8"
         },
         "yaxis": "y"
        },
        {
         "hovertemplate": "Respondent Type=Other<br>QID11=%{x}<br>Percent=%{y}<extra></extra>",
         "legendgroup": "Other",
         "marker": {
          "color": "#B60205",
          "pattern": {
           "shape": ""
          }
         },
         "name": "Other",
         "orientation": "v",
         "showlegend": true,
         "textposition": "auto",
         "type": "bar",
         "x": [
          "Extremely familiar",
          "Very familiar",
          "Moderately familiar",
          "Slightly familiar",
          "Not familiar at all"
         ],
         "xaxis": "x",
         "y": {
          "bdata": "rWG035Tngj/mLJt/xjSJP61htN+U54I/5iybf8Y0aT/mLJt/xjRpPw==",
          "dtype": "f8"
         },
         "yaxis": "y"
        },
        {
         "hovertemplate": "Respondent Type=Postdoc<br>QID11=%{x}<br>Percent=%{y}<extra></extra>",
         "legendgroup": "Postdoc",
         "marker": {
          "color": "#8c1515",
          "pattern": {
           "shape": ""
          }
         },
         "name": "Postdoc",
         "orientation": "v",
         "showlegend": true,
         "textposition": "auto",
         "type": "bar",
         "x": [
          "Extremely familiar",
          "Very familiar",
          "Moderately familiar",
          "Slightly familiar"
         ],
         "xaxis": "x",
         "y": {
          "bdata": "5iybf8Y0iT/mLJt/xjRpP+Ysm3/GNHk/5iybf8Y0eT8=",
          "dtype": "f8"
         },
         "yaxis": "y"
        },
        {
         "hovertemplate": "Respondent Type=Staff<br>QID11=%{x}<br>Percent=%{y}<extra></extra>",
         "legendgroup": "Staff",
         "marker": {
          "color": "#9c9c9c",
          "pattern": {
           "shape": ""
          }
         },
         "name": "Staff",
         "orientation": "v",
         "showlegend": true,
         "textposition": "auto",
         "type": "bar",
         "x": [
          "Extremely familiar",
          "Very familiar",
          "Moderately familiar",
          "Slightly familiar",
          "Not familiar at all"
         ],
         "xaxis": "x",
         "y": {
          "bdata": "khu5kRu5wT9NBpizbP65Pxh6oRd6oac/5iybf8Y0mT/mLJt/xjSZPw==",
          "dtype": "f8"
         },
         "yaxis": "y"
        },
        {
         "hovertemplate": "Respondent Type=Unaffiliated<br>QID11=%{x}<br>Percent=%{y}<extra></extra>",
         "legendgroup": "Unaffiliated",
         "marker": {
          "color": "#c2c2c2",
          "pattern": {
           "shape": ""
          }
         },
         "name": "Unaffiliated",
         "orientation": "v",
         "showlegend": true,
         "textposition": "auto",
         "type": "bar",
         "x": [
          "Extremely familiar"
         ],
         "xaxis": "x",
         "y": {
          "bdata": "rWG035Tngj8=",
          "dtype": "f8"
         },
         "yaxis": "y"
        },
        {
         "hovertemplate": "Respondent Type=Undergraduate Student<br>QID11=%{x}<br>Percent=%{y}<extra></extra>",
         "legendgroup": "Undergraduate Student",
         "marker": {
          "color": "#9B0000",
          "pattern": {
           "shape": ""
          }
         },
         "name": "Undergraduate Student",
         "orientation": "v",
         "showlegend": true,
         "textposition": "auto",
         "type": "bar",
         "x": [
          "Extremely familiar",
          "Very familiar",
          "Moderately familiar",
          "Not familiar at all"
         ],
         "xaxis": "x",
         "y": {
          "bdata": "rWG035Tngj/mLJt/xjRpP+Ysm3/GNGk/5iybf8Y0aT8=",
          "dtype": "f8"
         },
         "yaxis": "y"
        }
       ],
       "layout": {
        "barmode": "stack",
        "legend": {
         "title": {
          "text": "Respondent Type"
         },
         "tracegroupgap": 0
        },
        "paper_bgcolor": "white",
        "plot_bgcolor": "white",
        "template": {
         "data": {
          "bar": [
           {
            "error_x": {
             "color": "#2a3f5f"
            },
            "error_y": {
             "color": "#2a3f5f"
            },
            "marker": {
             "line": {
              "color": "white",
              "width": 0.5
             },
             "pattern": {
              "fillmode": "overlay",
              "size": 10,
              "solidity": 0.2
             }
            },
            "type": "bar"
           }
          ],
          "barpolar": [
           {
            "marker": {
             "line": {
              "color": "white",
              "width": 0.5
             },
             "pattern": {
              "fillmode": "overlay",
              "size": 10,
              "solidity": 0.2
             }
            },
            "type": "barpolar"
           }
          ],
          "carpet": [
           {
            "aaxis": {
             "endlinecolor": "#2a3f5f",
             "gridcolor": "#C8D4E3",
             "linecolor": "#C8D4E3",
             "minorgridcolor": "#C8D4E3",
             "startlinecolor": "#2a3f5f"
            },
            "baxis": {
             "endlinecolor": "#2a3f5f",
             "gridcolor": "#C8D4E3",
             "linecolor": "#C8D4E3",
             "minorgridcolor": "#C8D4E3",
             "startlinecolor": "#2a3f5f"
            },
            "type": "carpet"
           }
          ],
          "choropleth": [
           {
            "colorbar": {
             "outlinewidth": 0,
             "ticks": ""
            },
            "type": "choropleth"
           }
          ],
          "contour": [
           {
            "colorbar": {
             "outlinewidth": 0,
             "ticks": ""
            },
            "colorscale": [
             [
              0.0,
              "#0d0887"
             ],
             [
              0.1111111111111111,
              "#46039f"
             ],
             [
              0.2222222222222222,
              "#7201a8"
             ],
             [
              0.3333333333333333,
              "#9c179e"
             ],
             [
              0.4444444444444444,
              "#bd3786"
             ],
             [
              0.5555555555555556,
              "#d8576b"
             ],
             [
              0.6666666666666666,
              "#ed7953"
             ],
             [
              0.7777777777777778,
              "#fb9f3a"
             ],
             [
              0.8888888888888888,
              "#fdca26"
             ],
             [
              1.0,
              "#f0f921"
             ]
            ],
            "type": "contour"
           }
          ],
          "contourcarpet": [
           {
            "colorbar": {
             "outlinewidth": 0,
             "ticks": ""
            },
            "type": "contourcarpet"
           }
          ],
          "heatmap": [
           {
            "colorbar": {
             "outlinewidth": 0,
             "ticks": ""
            },
            "colorscale": [
             [
              0.0,
              "#0d0887"
             ],
             [
              0.1111111111111111,
              "#46039f"
             ],
             [
              0.2222222222222222,
              "#7201a8"
             ],
             [
              0.3333333333333333,
              "#9c179e"
             ],
             [
              0.4444444444444444,
              "#bd3786"
             ],
             [
              0.5555555555555556,
              "#d8576b"
             ],
             [
              0.6666666666666666,
              "#ed7953"
             ],
             [
              0.7777777777777778,
              "#fb9f3a"
             ],
             [
              0.8888888888888888,
              "#fdca26"
             ],
             [
              1.0,
              "#f0f921"
             ]
            ],
            "type": "heatmap"
           }
          ],
          "histogram": [
           {
            "marker": {
             "pattern": {
              "fillmode": "overlay",
              "size": 10,
              "solidity": 0.2
             }
            },
            "type": "histogram"
           }
          ],
          "histogram2d": [
           {
            "colorbar": {
             "outlinewidth": 0,
             "ticks": ""
            },
            "colorscale": [
             [
              0.0,
              "#0d0887"
             ],
             [
              0.1111111111111111,
              "#46039f"
             ],
             [
              0.2222222222222222,
              "#7201a8"
             ],
             [
              0.3333333333333333,
              "#9c179e"
             ],
             [
              0.4444444444444444,
              "#bd3786"
             ],
             [
              0.5555555555555556,
              "#d8576b"
             ],
             [
              0.6666666666666666,
              "#ed7953"
             ],
             [
              0.7777777777777778,
              "#fb9f3a"
             ],
             [
              0.8888888888888888,
              "#fdca26"
             ],
             [
              1.0,
              "#f0f921"
             ]
            ],
            "type": "histogram2d"
           }
          ],
          "histogram2dcontour": [
           {
            "colorbar": {
             "outlinewidth": 0,
             "ticks": ""
            },
            "colorscale": [
             [
              0.0,
              "#0d0887"
             ],
             [
              0.1111111111111111,
              "#46039f"
             ],
             [
              0.2222222222222222,
              "#7201a8"
             ],
             [
              0.3333333333333333,
              "#9c179e"
             ],
             [
              0.4444444444444444,
              "#bd3786"
             ],
             [
              0.5555555555555556,
              "#d8576b"
             ],
             [
              0.6666666666666666,
              "#ed7953"
             ],
             [
              0.7777777777777778,
              "#fb9f3a"
             ],
             [
              0.8888888888888888,
              "#fdca26"
             ],
             [
              1.0,
              "#f0f921"
             ]
            ],
            "type": "histogram2dcontour"
           }
          ],
          "mesh3d": [
           {
            "colorbar": {
             "outlinewidth": 0,
             "ticks": ""
            },
            "type": "mesh3d"
           }
          ],
          "parcoords": [
           {
            "line": {
             "colorbar": {
              "outlinewidth": 0,
              "ticks": ""
             }
            },
            "type": "parcoords"
           }
          ],
          "pie": [
           {
            "automargin": true,
            "type": "pie"
           }
          ],
          "scatter": [
           {
            "fillpattern": {
             "fillmode": "overlay",
             "size": 10,
             "solidity": 0.2
            },
            "type": "scatter"
           }
          ],
          "scatter3d": [
           {
            "line": {
             "colorbar": {
              "outlinewidth": 0,
              "ticks": ""
             }
            },
            "marker": {
             "colorbar": {
              "outlinewidth": 0,
              "ticks": ""
             }
            },
            "type": "scatter3d"
           }
          ],
          "scattercarpet": [
           {
            "marker": {
             "colorbar": {
              "outlinewidth": 0,
              "ticks": ""
             }
            },
            "type": "scattercarpet"
           }
          ],
          "scattergeo": [
           {
            "marker": {
             "colorbar": {
              "outlinewidth": 0,
              "ticks": ""
             }
            },
            "type": "scattergeo"
           }
          ],
          "scattergl": [
           {
            "marker": {
             "colorbar": {
              "outlinewidth": 0,
              "ticks": ""
             }
            },
            "type": "scattergl"
           }
          ],
          "scattermap": [
           {
            "marker": {
             "colorbar": {
              "outlinewidth": 0,
              "ticks": ""
             }
            },
            "type": "scattermap"
           }
          ],
          "scattermapbox": [
           {
            "marker": {
             "colorbar": {
              "outlinewidth": 0,
              "ticks": ""
             }
            },
            "type": "scattermapbox"
           }
          ],
          "scatterpolar": [
           {
            "marker": {
             "colorbar": {
              "outlinewidth": 0,
              "ticks": ""
             }
            },
            "type": "scatterpolar"
           }
          ],
          "scatterpolargl": [
           {
            "marker": {
             "colorbar": {
              "outlinewidth": 0,
              "ticks": ""
             }
            },
            "type": "scatterpolargl"
           }
          ],
          "scatterternary": [
           {
            "marker": {
             "colorbar": {
              "outlinewidth": 0,
              "ticks": ""
             }
            },
            "type": "scatterternary"
           }
          ],
          "surface": [
           {
            "colorbar": {
             "outlinewidth": 0,
             "ticks": ""
            },
            "colorscale": [
             [
              0.0,
              "#0d0887"
             ],
             [
              0.1111111111111111,
              "#46039f"
             ],
             [
              0.2222222222222222,
              "#7201a8"
             ],
             [
              0.3333333333333333,
              "#9c179e"
             ],
             [
              0.4444444444444444,
              "#bd3786"
             ],
             [
              0.5555555555555556,
              "#d8576b"
             ],
             [
              0.6666666666666666,
              "#ed7953"
             ],
             [
              0.7777777777777778,
              "#fb9f3a"
             ],
             [
              0.8888888888888888,
              "#fdca26"
             ],
             [
              1.0,
              "#f0f921"
             ]
            ],
            "type": "surface"
           }
          ],
          "table": [
           {
            "cells": {
             "fill": {
              "color": "#EBF0F8"
             },
             "line": {
              "color": "white"
             }
            },
            "header": {
             "fill": {
              "color": "#C8D4E3"
             },
             "line": {
              "color": "white"
             }
            },
            "type": "table"
           }
          ]
         },
         "layout": {
          "annotationdefaults": {
           "arrowcolor": "#2a3f5f",
           "arrowhead": 0,
           "arrowwidth": 1
          },
          "autotypenumbers": "strict",
          "coloraxis": {
           "colorbar": {
            "outlinewidth": 0,
            "ticks": ""
           }
          },
          "colorscale": {
           "diverging": [
            [
             0,
             "#8e0152"
            ],
            [
             0.1,
             "#c51b7d"
            ],
            [
             0.2,
             "#de77ae"
            ],
            [
             0.3,
             "#f1b6da"
            ],
            [
             0.4,
             "#fde0ef"
            ],
            [
             0.5,
             "#f7f7f7"
            ],
            [
             0.6,
             "#e6f5d0"
            ],
            [
             0.7,
             "#b8e186"
            ],
            [
             0.8,
             "#7fbc41"
            ],
            [
             0.9,
             "#4d9221"
            ],
            [
             1,
             "#276419"
            ]
           ],
           "sequential": [
            [
             0.0,
             "#0d0887"
            ],
            [
             0.1111111111111111,
             "#46039f"
            ],
            [
             0.2222222222222222,
             "#7201a8"
            ],
            [
             0.3333333333333333,
             "#9c179e"
            ],
            [
             0.4444444444444444,
             "#bd3786"
            ],
            [
             0.5555555555555556,
             "#d8576b"
            ],
            [
             0.6666666666666666,
             "#ed7953"
            ],
            [
             0.7777777777777778,
             "#fb9f3a"
            ],
            [
             0.8888888888888888,
             "#fdca26"
            ],
            [
             1.0,
             "#f0f921"
            ]
           ],
           "sequentialminus": [
            [
             0.0,
             "#0d0887"
            ],
            [
             0.1111111111111111,
             "#46039f"
            ],
            [
             0.2222222222222222,
             "#7201a8"
            ],
            [
             0.3333333333333333,
             "#9c179e"
            ],
            [
             0.4444444444444444,
             "#bd3786"
            ],
            [
             0.5555555555555556,
             "#d8576b"
            ],
            [
             0.6666666666666666,
             "#ed7953"
            ],
            [
             0.7777777777777778,
             "#fb9f3a"
            ],
            [
             0.8888888888888888,
             "#fdca26"
            ],
            [
             1.0,
             "#f0f921"
            ]
           ]
          },
          "colorway": [
           "#9B0000",
           "#666666",
           "#B60205",
           "#8c1515",
           "#9c9c9c",
           "#c2c2c2"
          ],
          "font": {
           "color": "#2a3f5f",
           "family": "Red Hat Text, Arial, sans-serif"
          },
          "geo": {
           "bgcolor": "white",
           "lakecolor": "white",
           "landcolor": "white",
           "showlakes": true,
           "showland": true,
           "subunitcolor": "#C8D4E3"
          },
          "hoverlabel": {
           "align": "left"
          },
          "hovermode": "closest",
          "legend": {
           "bgcolor": "rgba(0,0,0,0)"
          },
          "mapbox": {
           "style": "light"
          },
          "margin": {
           "b": 40,
           "l": 40,
           "r": 20,
           "t": 60
          },
          "paper_bgcolor": "#F7F7F7",
          "plot_bgcolor": "#F7F7F7",
          "polar": {
           "angularaxis": {
            "gridcolor": "#EBF0F8",
            "linecolor": "#EBF0F8",
            "ticks": ""
           },
           "bgcolor": "white",
           "radialaxis": {
            "gridcolor": "#EBF0F8",
            "linecolor": "#EBF0F8",
            "ticks": ""
           }
          },
          "scene": {
           "xaxis": {
            "backgroundcolor": "white",
            "gridcolor": "#DFE8F3",
            "gridwidth": 2,
            "linecolor": "#EBF0F8",
            "showbackground": true,
            "ticks": "",
            "zerolinecolor": "#EBF0F8"
           },
           "yaxis": {
            "backgroundcolor": "white",
            "gridcolor": "#DFE8F3",
            "gridwidth": 2,
            "linecolor": "#EBF0F8",
            "showbackground": true,
            "ticks": "",
            "zerolinecolor": "#EBF0F8"
           },
           "zaxis": {
            "backgroundcolor": "white",
            "gridcolor": "#DFE8F3",
            "gridwidth": 2,
            "linecolor": "#EBF0F8",
            "showbackground": true,
            "ticks": "",
            "zerolinecolor": "#EBF0F8"
           }
          },
          "shapedefaults": {
           "line": {
            "color": "#2a3f5f"
           }
          },
          "ternary": {
           "aaxis": {
            "gridcolor": "#DFE8F3",
            "linecolor": "#A2B1C6",
            "ticks": ""
           },
           "baxis": {
            "gridcolor": "#DFE8F3",
            "linecolor": "#A2B1C6",
            "ticks": ""
           },
           "bgcolor": "white",
           "caxis": {
            "gridcolor": "#DFE8F3",
            "linecolor": "#A2B1C6",
            "ticks": ""
           }
          },
          "title": {
           "x": 0.01,
           "xanchor": "left"
          },
          "xaxis": {
           "automargin": true,
           "gridcolor": "#e9e9e9",
           "linecolor": "#EBF0F8",
           "ticks": "",
           "title": {
            "standoff": 15
           },
           "zeroline": false,
           "zerolinecolor": "#EBF0F8",
           "zerolinewidth": 2
          },
          "yaxis": {
           "automargin": true,
           "gridcolor": "#e9e9e9",
           "linecolor": "#EBF0F8",
           "ticks": "",
           "title": {
            "standoff": 15
           },
           "zeroline": false,
           "zerolinecolor": "#EBF0F8",
           "zerolinewidth": 2
          }
         }
        },
        "xaxis": {
         "anchor": "y",
         "domain": [
          0.0,
          1.0
         ],
         "title": {
          "text": ""
         }
        },
        "yaxis": {
         "anchor": "x",
         "domain": [
          0.0,
          1.0
         ],
         "tickformat": ".1%",
         "title": {
          "text": "Percent"
         }
        }
       }
      }
     },
     "metadata": {},
     "output_type": "display_data"
    }
   ],
   "source": [
    "fig1 = px.bar(\n",
    "    f1_df, x=\"QID11\", y=\"Percent\",\n",
    "    color=\"Respondent Type\",\n",
    "    barmode=\"stack\"\n",
    ")\n",
    "fig1.update_layout(\n",
    "    yaxis=dict(tickformat=\".1%\"),\n",
    "    xaxis_title=\"\",\n",
    "    plot_bgcolor=\"white\",\n",
    "    paper_bgcolor=\"white\"\n",
    ")\n",
    "fig1.show()\n",
    "fig1.write_html('_static/familiarity_software.html', full_html=False, include_plotlyjs='cdn')"
   ]
  },
  {
   "cell_type": "markdown",
   "id": "e9b9daab",
   "metadata": {},
   "source": [
    "```{raw} html\n",
    ":file: _static/familiarity_software.html\n",
    "```\n",
    "\n",
    "[Arduino boards](https://www.arduino.cc/) are an example of open source hardware"
   ]
  },
  {
   "cell_type": "code",
   "execution_count": 4,
   "id": "379327f0",
   "metadata": {
    "tags": [
     "remove-input"
    ]
   },
   "outputs": [
    {
     "data": {
      "application/vnd.plotly.v1+json": {
       "config": {
        "plotlyServerURL": "https://plot.ly"
       },
       "data": [
        {
         "hovertemplate": "Respondent Type=Faculty<br>QID10=%{x}<br>Percent=%{y}<extra></extra>",
         "legendgroup": "Faculty",
         "marker": {
          "color": "#9B0000",
          "pattern": {
           "shape": ""
          }
         },
         "name": "Faculty",
         "orientation": "v",
         "showlegend": true,
         "textposition": "auto",
         "type": "bar",
         "x": [
          "Extremely familiar",
          "Very familiar",
          "Moderately familiar",
          "Slightly familiar",
          "Not familiar at all"
         ],
         "xaxis": "x",
         "y": {
          "bdata": "IPiBH/iBnz97FK5H4XqkP+Ysm3/GNKk/6muLgwUlvT/errp3SFTBPw==",
          "dtype": "f8"
         },
         "yaxis": "y"
        },
        {
         "hovertemplate": "Respondent Type=Graduate Student<br>QID10=%{x}<br>Percent=%{y}<extra></extra>",
         "legendgroup": "Graduate Student",
         "marker": {
          "color": "#666666",
          "pattern": {
           "shape": ""
          }
         },
         "name": "Graduate Student",
         "orientation": "v",
         "showlegend": true,
         "textposition": "auto",
         "type": "bar",
         "x": [
          "Extremely familiar",
          "Very familiar",
          "Moderately familiar",
          "Slightly familiar",
          "Not familiar at all"
         ],
         "xaxis": "x",
         "y": {
          "bdata": "IPiBH/iBjz9Jx6evLQ6mP4OSjk9fW5w/Scenry0Opj+tYbTflOeyPw==",
          "dtype": "f8"
         },
         "yaxis": "y"
        },
        {
         "hovertemplate": "Respondent Type=Other<br>QID10=%{x}<br>Percent=%{y}<extra></extra>",
         "legendgroup": "Other",
         "marker": {
          "color": "#B60205",
          "pattern": {
           "shape": ""
          }
         },
         "name": "Other",
         "orientation": "v",
         "showlegend": true,
         "textposition": "auto",
         "type": "bar",
         "x": [
          "Extremely familiar",
          "Very familiar",
          "Moderately familiar",
          "Slightly familiar",
          "Not familiar at all"
         ],
         "xaxis": "x",
         "y": {
          "bdata": "5iybf8Y0eT/mLJt/xjRpP61htN+U54I/5iybf8Y0eT/mLJt/xjSJPw==",
          "dtype": "f8"
         },
         "yaxis": "y"
        },
        {
         "hovertemplate": "Respondent Type=Postdoc<br>QID10=%{x}<br>Percent=%{y}<extra></extra>",
         "legendgroup": "Postdoc",
         "marker": {
          "color": "#8c1515",
          "pattern": {
           "shape": ""
          }
         },
         "name": "Postdoc",
         "orientation": "v",
         "showlegend": true,
         "textposition": "auto",
         "type": "bar",
         "x": [
          "Extremely familiar",
          "Moderately familiar",
          "Slightly familiar",
          "Not familiar at all"
         ],
         "xaxis": "x",
         "y": {
          "bdata": "5iybf8Y0aT/mLJt/xjRpP+Ysm3/GNIk/rWG035Tngj8=",
          "dtype": "f8"
         },
         "yaxis": "y"
        },
        {
         "hovertemplate": "Respondent Type=Staff<br>QID10=%{x}<br>Percent=%{y}<extra></extra>",
         "legendgroup": "Staff",
         "marker": {
          "color": "#9c9c9c",
          "pattern": {
           "shape": ""
          }
         },
         "name": "Staff",
         "orientation": "v",
         "showlegend": true,
         "textposition": "auto",
         "type": "bar",
         "x": [
          "Extremely familiar",
          "Very familiar",
          "Moderately familiar",
          "Slightly familiar",
          "Not familiar at all"
         ],
         "xaxis": "x",
         "y": {
          "bdata": "rWG035Tnkj97FK5H4XqkP+Ysm3/GNLk/GHqhF3qhtz9Jx6evLQ62Pw==",
          "dtype": "f8"
         },
         "yaxis": "y"
        },
        {
         "hovertemplate": "Respondent Type=Unaffiliated<br>QID10=%{x}<br>Percent=%{y}<extra></extra>",
         "legendgroup": "Unaffiliated",
         "marker": {
          "color": "#c2c2c2",
          "pattern": {
           "shape": ""
          }
         },
         "name": "Unaffiliated",
         "orientation": "v",
         "showlegend": true,
         "textposition": "auto",
         "type": "bar",
         "x": [
          "Extremely familiar",
          "Moderately familiar"
         ],
         "xaxis": "x",
         "y": {
          "bdata": "5iybf8Y0aT/mLJt/xjR5Pw==",
          "dtype": "f8"
         },
         "yaxis": "y"
        },
        {
         "hovertemplate": "Respondent Type=Undergraduate Student<br>QID10=%{x}<br>Percent=%{y}<extra></extra>",
         "legendgroup": "Undergraduate Student",
         "marker": {
          "color": "#9B0000",
          "pattern": {
           "shape": ""
          }
         },
         "name": "Undergraduate Student",
         "orientation": "v",
         "showlegend": true,
         "textposition": "auto",
         "type": "bar",
         "x": [
          "Extremely familiar",
          "Very familiar",
          "Moderately familiar",
          "Slightly familiar",
          "Not familiar at all"
         ],
         "xaxis": "x",
         "y": {
          "bdata": "5iybf8Y0aT/mLJt/xjRpP+Ysm3/GNGk/5iybf8Y0aT/mLJt/xjR5Pw==",
          "dtype": "f8"
         },
         "yaxis": "y"
        }
       ],
       "layout": {
        "barmode": "stack",
        "legend": {
         "title": {
          "text": "Respondent Type"
         },
         "tracegroupgap": 0
        },
        "paper_bgcolor": "white",
        "plot_bgcolor": "white",
        "template": {
         "data": {
          "bar": [
           {
            "error_x": {
             "color": "#2a3f5f"
            },
            "error_y": {
             "color": "#2a3f5f"
            },
            "marker": {
             "line": {
              "color": "white",
              "width": 0.5
             },
             "pattern": {
              "fillmode": "overlay",
              "size": 10,
              "solidity": 0.2
             }
            },
            "type": "bar"
           }
          ],
          "barpolar": [
           {
            "marker": {
             "line": {
              "color": "white",
              "width": 0.5
             },
             "pattern": {
              "fillmode": "overlay",
              "size": 10,
              "solidity": 0.2
             }
            },
            "type": "barpolar"
           }
          ],
          "carpet": [
           {
            "aaxis": {
             "endlinecolor": "#2a3f5f",
             "gridcolor": "#C8D4E3",
             "linecolor": "#C8D4E3",
             "minorgridcolor": "#C8D4E3",
             "startlinecolor": "#2a3f5f"
            },
            "baxis": {
             "endlinecolor": "#2a3f5f",
             "gridcolor": "#C8D4E3",
             "linecolor": "#C8D4E3",
             "minorgridcolor": "#C8D4E3",
             "startlinecolor": "#2a3f5f"
            },
            "type": "carpet"
           }
          ],
          "choropleth": [
           {
            "colorbar": {
             "outlinewidth": 0,
             "ticks": ""
            },
            "type": "choropleth"
           }
          ],
          "contour": [
           {
            "colorbar": {
             "outlinewidth": 0,
             "ticks": ""
            },
            "colorscale": [
             [
              0.0,
              "#0d0887"
             ],
             [
              0.1111111111111111,
              "#46039f"
             ],
             [
              0.2222222222222222,
              "#7201a8"
             ],
             [
              0.3333333333333333,
              "#9c179e"
             ],
             [
              0.4444444444444444,
              "#bd3786"
             ],
             [
              0.5555555555555556,
              "#d8576b"
             ],
             [
              0.6666666666666666,
              "#ed7953"
             ],
             [
              0.7777777777777778,
              "#fb9f3a"
             ],
             [
              0.8888888888888888,
              "#fdca26"
             ],
             [
              1.0,
              "#f0f921"
             ]
            ],
            "type": "contour"
           }
          ],
          "contourcarpet": [
           {
            "colorbar": {
             "outlinewidth": 0,
             "ticks": ""
            },
            "type": "contourcarpet"
           }
          ],
          "heatmap": [
           {
            "colorbar": {
             "outlinewidth": 0,
             "ticks": ""
            },
            "colorscale": [
             [
              0.0,
              "#0d0887"
             ],
             [
              0.1111111111111111,
              "#46039f"
             ],
             [
              0.2222222222222222,
              "#7201a8"
             ],
             [
              0.3333333333333333,
              "#9c179e"
             ],
             [
              0.4444444444444444,
              "#bd3786"
             ],
             [
              0.5555555555555556,
              "#d8576b"
             ],
             [
              0.6666666666666666,
              "#ed7953"
             ],
             [
              0.7777777777777778,
              "#fb9f3a"
             ],
             [
              0.8888888888888888,
              "#fdca26"
             ],
             [
              1.0,
              "#f0f921"
             ]
            ],
            "type": "heatmap"
           }
          ],
          "histogram": [
           {
            "marker": {
             "pattern": {
              "fillmode": "overlay",
              "size": 10,
              "solidity": 0.2
             }
            },
            "type": "histogram"
           }
          ],
          "histogram2d": [
           {
            "colorbar": {
             "outlinewidth": 0,
             "ticks": ""
            },
            "colorscale": [
             [
              0.0,
              "#0d0887"
             ],
             [
              0.1111111111111111,
              "#46039f"
             ],
             [
              0.2222222222222222,
              "#7201a8"
             ],
             [
              0.3333333333333333,
              "#9c179e"
             ],
             [
              0.4444444444444444,
              "#bd3786"
             ],
             [
              0.5555555555555556,
              "#d8576b"
             ],
             [
              0.6666666666666666,
              "#ed7953"
             ],
             [
              0.7777777777777778,
              "#fb9f3a"
             ],
             [
              0.8888888888888888,
              "#fdca26"
             ],
             [
              1.0,
              "#f0f921"
             ]
            ],
            "type": "histogram2d"
           }
          ],
          "histogram2dcontour": [
           {
            "colorbar": {
             "outlinewidth": 0,
             "ticks": ""
            },
            "colorscale": [
             [
              0.0,
              "#0d0887"
             ],
             [
              0.1111111111111111,
              "#46039f"
             ],
             [
              0.2222222222222222,
              "#7201a8"
             ],
             [
              0.3333333333333333,
              "#9c179e"
             ],
             [
              0.4444444444444444,
              "#bd3786"
             ],
             [
              0.5555555555555556,
              "#d8576b"
             ],
             [
              0.6666666666666666,
              "#ed7953"
             ],
             [
              0.7777777777777778,
              "#fb9f3a"
             ],
             [
              0.8888888888888888,
              "#fdca26"
             ],
             [
              1.0,
              "#f0f921"
             ]
            ],
            "type": "histogram2dcontour"
           }
          ],
          "mesh3d": [
           {
            "colorbar": {
             "outlinewidth": 0,
             "ticks": ""
            },
            "type": "mesh3d"
           }
          ],
          "parcoords": [
           {
            "line": {
             "colorbar": {
              "outlinewidth": 0,
              "ticks": ""
             }
            },
            "type": "parcoords"
           }
          ],
          "pie": [
           {
            "automargin": true,
            "type": "pie"
           }
          ],
          "scatter": [
           {
            "fillpattern": {
             "fillmode": "overlay",
             "size": 10,
             "solidity": 0.2
            },
            "type": "scatter"
           }
          ],
          "scatter3d": [
           {
            "line": {
             "colorbar": {
              "outlinewidth": 0,
              "ticks": ""
             }
            },
            "marker": {
             "colorbar": {
              "outlinewidth": 0,
              "ticks": ""
             }
            },
            "type": "scatter3d"
           }
          ],
          "scattercarpet": [
           {
            "marker": {
             "colorbar": {
              "outlinewidth": 0,
              "ticks": ""
             }
            },
            "type": "scattercarpet"
           }
          ],
          "scattergeo": [
           {
            "marker": {
             "colorbar": {
              "outlinewidth": 0,
              "ticks": ""
             }
            },
            "type": "scattergeo"
           }
          ],
          "scattergl": [
           {
            "marker": {
             "colorbar": {
              "outlinewidth": 0,
              "ticks": ""
             }
            },
            "type": "scattergl"
           }
          ],
          "scattermap": [
           {
            "marker": {
             "colorbar": {
              "outlinewidth": 0,
              "ticks": ""
             }
            },
            "type": "scattermap"
           }
          ],
          "scattermapbox": [
           {
            "marker": {
             "colorbar": {
              "outlinewidth": 0,
              "ticks": ""
             }
            },
            "type": "scattermapbox"
           }
          ],
          "scatterpolar": [
           {
            "marker": {
             "colorbar": {
              "outlinewidth": 0,
              "ticks": ""
             }
            },
            "type": "scatterpolar"
           }
          ],
          "scatterpolargl": [
           {
            "marker": {
             "colorbar": {
              "outlinewidth": 0,
              "ticks": ""
             }
            },
            "type": "scatterpolargl"
           }
          ],
          "scatterternary": [
           {
            "marker": {
             "colorbar": {
              "outlinewidth": 0,
              "ticks": ""
             }
            },
            "type": "scatterternary"
           }
          ],
          "surface": [
           {
            "colorbar": {
             "outlinewidth": 0,
             "ticks": ""
            },
            "colorscale": [
             [
              0.0,
              "#0d0887"
             ],
             [
              0.1111111111111111,
              "#46039f"
             ],
             [
              0.2222222222222222,
              "#7201a8"
             ],
             [
              0.3333333333333333,
              "#9c179e"
             ],
             [
              0.4444444444444444,
              "#bd3786"
             ],
             [
              0.5555555555555556,
              "#d8576b"
             ],
             [
              0.6666666666666666,
              "#ed7953"
             ],
             [
              0.7777777777777778,
              "#fb9f3a"
             ],
             [
              0.8888888888888888,
              "#fdca26"
             ],
             [
              1.0,
              "#f0f921"
             ]
            ],
            "type": "surface"
           }
          ],
          "table": [
           {
            "cells": {
             "fill": {
              "color": "#EBF0F8"
             },
             "line": {
              "color": "white"
             }
            },
            "header": {
             "fill": {
              "color": "#C8D4E3"
             },
             "line": {
              "color": "white"
             }
            },
            "type": "table"
           }
          ]
         },
         "layout": {
          "annotationdefaults": {
           "arrowcolor": "#2a3f5f",
           "arrowhead": 0,
           "arrowwidth": 1
          },
          "autotypenumbers": "strict",
          "coloraxis": {
           "colorbar": {
            "outlinewidth": 0,
            "ticks": ""
           }
          },
          "colorscale": {
           "diverging": [
            [
             0,
             "#8e0152"
            ],
            [
             0.1,
             "#c51b7d"
            ],
            [
             0.2,
             "#de77ae"
            ],
            [
             0.3,
             "#f1b6da"
            ],
            [
             0.4,
             "#fde0ef"
            ],
            [
             0.5,
             "#f7f7f7"
            ],
            [
             0.6,
             "#e6f5d0"
            ],
            [
             0.7,
             "#b8e186"
            ],
            [
             0.8,
             "#7fbc41"
            ],
            [
             0.9,
             "#4d9221"
            ],
            [
             1,
             "#276419"
            ]
           ],
           "sequential": [
            [
             0.0,
             "#0d0887"
            ],
            [
             0.1111111111111111,
             "#46039f"
            ],
            [
             0.2222222222222222,
             "#7201a8"
            ],
            [
             0.3333333333333333,
             "#9c179e"
            ],
            [
             0.4444444444444444,
             "#bd3786"
            ],
            [
             0.5555555555555556,
             "#d8576b"
            ],
            [
             0.6666666666666666,
             "#ed7953"
            ],
            [
             0.7777777777777778,
             "#fb9f3a"
            ],
            [
             0.8888888888888888,
             "#fdca26"
            ],
            [
             1.0,
             "#f0f921"
            ]
           ],
           "sequentialminus": [
            [
             0.0,
             "#0d0887"
            ],
            [
             0.1111111111111111,
             "#46039f"
            ],
            [
             0.2222222222222222,
             "#7201a8"
            ],
            [
             0.3333333333333333,
             "#9c179e"
            ],
            [
             0.4444444444444444,
             "#bd3786"
            ],
            [
             0.5555555555555556,
             "#d8576b"
            ],
            [
             0.6666666666666666,
             "#ed7953"
            ],
            [
             0.7777777777777778,
             "#fb9f3a"
            ],
            [
             0.8888888888888888,
             "#fdca26"
            ],
            [
             1.0,
             "#f0f921"
            ]
           ]
          },
          "colorway": [
           "#9B0000",
           "#666666",
           "#B60205",
           "#8c1515",
           "#9c9c9c",
           "#c2c2c2"
          ],
          "font": {
           "color": "#2a3f5f",
           "family": "Red Hat Text, Arial, sans-serif"
          },
          "geo": {
           "bgcolor": "white",
           "lakecolor": "white",
           "landcolor": "white",
           "showlakes": true,
           "showland": true,
           "subunitcolor": "#C8D4E3"
          },
          "hoverlabel": {
           "align": "left"
          },
          "hovermode": "closest",
          "legend": {
           "bgcolor": "rgba(0,0,0,0)"
          },
          "mapbox": {
           "style": "light"
          },
          "margin": {
           "b": 40,
           "l": 40,
           "r": 20,
           "t": 60
          },
          "paper_bgcolor": "#F7F7F7",
          "plot_bgcolor": "#F7F7F7",
          "polar": {
           "angularaxis": {
            "gridcolor": "#EBF0F8",
            "linecolor": "#EBF0F8",
            "ticks": ""
           },
           "bgcolor": "white",
           "radialaxis": {
            "gridcolor": "#EBF0F8",
            "linecolor": "#EBF0F8",
            "ticks": ""
           }
          },
          "scene": {
           "xaxis": {
            "backgroundcolor": "white",
            "gridcolor": "#DFE8F3",
            "gridwidth": 2,
            "linecolor": "#EBF0F8",
            "showbackground": true,
            "ticks": "",
            "zerolinecolor": "#EBF0F8"
           },
           "yaxis": {
            "backgroundcolor": "white",
            "gridcolor": "#DFE8F3",
            "gridwidth": 2,
            "linecolor": "#EBF0F8",
            "showbackground": true,
            "ticks": "",
            "zerolinecolor": "#EBF0F8"
           },
           "zaxis": {
            "backgroundcolor": "white",
            "gridcolor": "#DFE8F3",
            "gridwidth": 2,
            "linecolor": "#EBF0F8",
            "showbackground": true,
            "ticks": "",
            "zerolinecolor": "#EBF0F8"
           }
          },
          "shapedefaults": {
           "line": {
            "color": "#2a3f5f"
           }
          },
          "ternary": {
           "aaxis": {
            "gridcolor": "#DFE8F3",
            "linecolor": "#A2B1C6",
            "ticks": ""
           },
           "baxis": {
            "gridcolor": "#DFE8F3",
            "linecolor": "#A2B1C6",
            "ticks": ""
           },
           "bgcolor": "white",
           "caxis": {
            "gridcolor": "#DFE8F3",
            "linecolor": "#A2B1C6",
            "ticks": ""
           }
          },
          "title": {
           "x": 0.01,
           "xanchor": "left"
          },
          "xaxis": {
           "automargin": true,
           "gridcolor": "#e9e9e9",
           "linecolor": "#EBF0F8",
           "ticks": "",
           "title": {
            "standoff": 15
           },
           "zeroline": false,
           "zerolinecolor": "#EBF0F8",
           "zerolinewidth": 2
          },
          "yaxis": {
           "automargin": true,
           "gridcolor": "#e9e9e9",
           "linecolor": "#EBF0F8",
           "ticks": "",
           "title": {
            "standoff": 15
           },
           "zeroline": false,
           "zerolinecolor": "#EBF0F8",
           "zerolinewidth": 2
          }
         }
        },
        "xaxis": {
         "anchor": "y",
         "domain": [
          0.0,
          1.0
         ],
         "title": {
          "text": ""
         }
        },
        "yaxis": {
         "anchor": "x",
         "domain": [
          0.0,
          1.0
         ],
         "tickformat": ".1%",
         "title": {
          "text": "Percent"
         }
        }
       }
      }
     },
     "metadata": {},
     "output_type": "display_data"
    }
   ],
   "source": [
    "fig2 = px.bar(\n",
    "    f2_df, x=\"QID10\", y=\"Percent\",\n",
    "    color=\"Respondent Type\",\n",
    "    barmode=\"stack\"\n",
    ")\n",
    "fig2.update_layout(\n",
    "    yaxis=dict(tickformat=\".1%\"),\n",
    "    xaxis_title=\"\",\n",
    "    plot_bgcolor=\"white\",\n",
    "    paper_bgcolor=\"white\"\n",
    ")\n",
    "fig2.show()\n",
    "fig2.write_html('_static/familiarity_hardware.html', full_html=False, include_plotlyjs='cdn')"
   ]
  },
  {
   "cell_type": "markdown",
   "id": "163fb782",
   "metadata": {},
   "source": [
    "```{raw} html\n",
    ":file: _static/familiarity_hardware.html\n",
    "```\n",
    "\n",
    "[Khan Academy](https://www.khanacademy.org/) and [MIT OpenCourseWare](https://ocw.mit.edu/) are examples of open source educational materials."
   ]
  },
  {
   "cell_type": "code",
   "execution_count": 5,
   "id": "b7efb124",
   "metadata": {
    "tags": [
     "remove-input"
    ]
   },
   "outputs": [
    {
     "data": {
      "application/vnd.plotly.v1+json": {
       "config": {
        "plotlyServerURL": "https://plot.ly"
       },
       "data": [
        {
         "hovertemplate": "Respondent Type=Faculty<br>QID12=%{x}<br>Percent=%{y}<extra></extra>",
         "legendgroup": "Faculty",
         "marker": {
          "color": "#9B0000",
          "pattern": {
           "shape": ""
          }
         },
         "name": "Faculty",
         "orientation": "v",
         "showlegend": true,
         "textposition": "auto",
         "type": "bar",
         "x": [
          "Extremely familiar",
          "Very familiar",
          "Moderately familiar",
          "Slightly familiar",
          "Not familiar at all"
         ],
         "xaxis": "x",
         "y": {
          "bdata": "g5KOT19bnD8g+IEf+IG/PytCvF1178A/IPiBH/iBrz/mLJt/xjSZPw==",
          "dtype": "f8"
         },
         "yaxis": "y"
        },
        {
         "hovertemplate": "Respondent Type=Graduate Student<br>QID12=%{x}<br>Percent=%{y}<extra></extra>",
         "legendgroup": "Graduate Student",
         "marker": {
          "color": "#666666",
          "pattern": {
           "shape": ""
          }
         },
         "name": "Graduate Student",
         "orientation": "v",
         "showlegend": true,
         "textposition": "auto",
         "type": "bar",
         "x": [
          "Extremely familiar",
          "Very familiar",
          "Moderately familiar",
          "Slightly familiar",
          "Not familiar at all"
         ],
         "xaxis": "x",
         "y": {
          "bdata": "Scenry0Opj8UO7ETO7GzPxh6oRd6oac/g5KOT19bnD+tYbTflOeCPw==",
          "dtype": "f8"
         },
         "yaxis": "y"
        },
        {
         "hovertemplate": "Respondent Type=Other<br>QID12=%{x}<br>Percent=%{y}<extra></extra>",
         "legendgroup": "Other",
         "marker": {
          "color": "#B60205",
          "pattern": {
           "shape": ""
          }
         },
         "name": "Other",
         "orientation": "v",
         "showlegend": true,
         "textposition": "auto",
         "type": "bar",
         "x": [
          "Extremely familiar",
          "Very familiar",
          "Moderately familiar",
          "Slightly familiar",
          "Not familiar at all"
         ],
         "xaxis": "x",
         "y": {
          "bdata": "5iybf8Y0eT/mLJt/xjRpP+Ysm3/GNIk/5iybf8Y0aT/mLJt/xjSJPw==",
          "dtype": "f8"
         },
         "yaxis": "y"
        },
        {
         "hovertemplate": "Respondent Type=Postdoc<br>QID12=%{x}<br>Percent=%{y}<extra></extra>",
         "legendgroup": "Postdoc",
         "marker": {
          "color": "#8c1515",
          "pattern": {
           "shape": ""
          }
         },
         "name": "Postdoc",
         "orientation": "v",
         "showlegend": true,
         "textposition": "auto",
         "type": "bar",
         "x": [
          "Extremely familiar",
          "Very familiar",
          "Slightly familiar",
          "Not familiar at all"
         ],
         "xaxis": "x",
         "y": {
          "bdata": "rWG035Tngj+tYbTflOeCP+Ysm3/GNHk/5iybf8Y0aT8=",
          "dtype": "f8"
         },
         "yaxis": "y"
        },
        {
         "hovertemplate": "Respondent Type=Staff<br>QID12=%{x}<br>Percent=%{y}<extra></extra>",
         "legendgroup": "Staff",
         "marker": {
          "color": "#9c9c9c",
          "pattern": {
           "shape": ""
          }
         },
         "name": "Staff",
         "orientation": "v",
         "showlegend": true,
         "textposition": "auto",
         "type": "bar",
         "x": [
          "Extremely familiar",
          "Very familiar",
          "Moderately familiar",
          "Slightly familiar",
          "Not familiar at all"
         ],
         "xaxis": "x",
         "y": {
          "bdata": "UUWIt6vurT+woKTj09e2P+pri4MFJb0/GHqhF3qhpz+Dko5PX1ucPw==",
          "dtype": "f8"
         },
         "yaxis": "y"
        },
        {
         "hovertemplate": "Respondent Type=Unaffiliated<br>QID12=%{x}<br>Percent=%{y}<extra></extra>",
         "legendgroup": "Unaffiliated",
         "marker": {
          "color": "#c2c2c2",
          "pattern": {
           "shape": ""
          }
         },
         "name": "Unaffiliated",
         "orientation": "v",
         "showlegend": true,
         "textposition": "auto",
         "type": "bar",
         "x": [
          "Extremely familiar",
          "Very familiar"
         ],
         "xaxis": "x",
         "y": {
          "bdata": "5iybf8Y0aT/mLJt/xjR5Pw==",
          "dtype": "f8"
         },
         "yaxis": "y"
        },
        {
         "hovertemplate": "Respondent Type=Undergraduate Student<br>QID12=%{x}<br>Percent=%{y}<extra></extra>",
         "legendgroup": "Undergraduate Student",
         "marker": {
          "color": "#9B0000",
          "pattern": {
           "shape": ""
          }
         },
         "name": "Undergraduate Student",
         "orientation": "v",
         "showlegend": true,
         "textposition": "auto",
         "type": "bar",
         "x": [
          "Extremely familiar",
          "Very familiar",
          "Moderately familiar",
          "Slightly familiar"
         ],
         "xaxis": "x",
         "y": {
          "bdata": "5iybf8Y0eT/mLJt/xjRpP+Ysm3/GNHk/5iybf8Y0aT8=",
          "dtype": "f8"
         },
         "yaxis": "y"
        }
       ],
       "layout": {
        "barmode": "stack",
        "legend": {
         "title": {
          "text": "Respondent Type"
         },
         "tracegroupgap": 0
        },
        "paper_bgcolor": "white",
        "plot_bgcolor": "white",
        "template": {
         "data": {
          "bar": [
           {
            "error_x": {
             "color": "#2a3f5f"
            },
            "error_y": {
             "color": "#2a3f5f"
            },
            "marker": {
             "line": {
              "color": "white",
              "width": 0.5
             },
             "pattern": {
              "fillmode": "overlay",
              "size": 10,
              "solidity": 0.2
             }
            },
            "type": "bar"
           }
          ],
          "barpolar": [
           {
            "marker": {
             "line": {
              "color": "white",
              "width": 0.5
             },
             "pattern": {
              "fillmode": "overlay",
              "size": 10,
              "solidity": 0.2
             }
            },
            "type": "barpolar"
           }
          ],
          "carpet": [
           {
            "aaxis": {
             "endlinecolor": "#2a3f5f",
             "gridcolor": "#C8D4E3",
             "linecolor": "#C8D4E3",
             "minorgridcolor": "#C8D4E3",
             "startlinecolor": "#2a3f5f"
            },
            "baxis": {
             "endlinecolor": "#2a3f5f",
             "gridcolor": "#C8D4E3",
             "linecolor": "#C8D4E3",
             "minorgridcolor": "#C8D4E3",
             "startlinecolor": "#2a3f5f"
            },
            "type": "carpet"
           }
          ],
          "choropleth": [
           {
            "colorbar": {
             "outlinewidth": 0,
             "ticks": ""
            },
            "type": "choropleth"
           }
          ],
          "contour": [
           {
            "colorbar": {
             "outlinewidth": 0,
             "ticks": ""
            },
            "colorscale": [
             [
              0.0,
              "#0d0887"
             ],
             [
              0.1111111111111111,
              "#46039f"
             ],
             [
              0.2222222222222222,
              "#7201a8"
             ],
             [
              0.3333333333333333,
              "#9c179e"
             ],
             [
              0.4444444444444444,
              "#bd3786"
             ],
             [
              0.5555555555555556,
              "#d8576b"
             ],
             [
              0.6666666666666666,
              "#ed7953"
             ],
             [
              0.7777777777777778,
              "#fb9f3a"
             ],
             [
              0.8888888888888888,
              "#fdca26"
             ],
             [
              1.0,
              "#f0f921"
             ]
            ],
            "type": "contour"
           }
          ],
          "contourcarpet": [
           {
            "colorbar": {
             "outlinewidth": 0,
             "ticks": ""
            },
            "type": "contourcarpet"
           }
          ],
          "heatmap": [
           {
            "colorbar": {
             "outlinewidth": 0,
             "ticks": ""
            },
            "colorscale": [
             [
              0.0,
              "#0d0887"
             ],
             [
              0.1111111111111111,
              "#46039f"
             ],
             [
              0.2222222222222222,
              "#7201a8"
             ],
             [
              0.3333333333333333,
              "#9c179e"
             ],
             [
              0.4444444444444444,
              "#bd3786"
             ],
             [
              0.5555555555555556,
              "#d8576b"
             ],
             [
              0.6666666666666666,
              "#ed7953"
             ],
             [
              0.7777777777777778,
              "#fb9f3a"
             ],
             [
              0.8888888888888888,
              "#fdca26"
             ],
             [
              1.0,
              "#f0f921"
             ]
            ],
            "type": "heatmap"
           }
          ],
          "histogram": [
           {
            "marker": {
             "pattern": {
              "fillmode": "overlay",
              "size": 10,
              "solidity": 0.2
             }
            },
            "type": "histogram"
           }
          ],
          "histogram2d": [
           {
            "colorbar": {
             "outlinewidth": 0,
             "ticks": ""
            },
            "colorscale": [
             [
              0.0,
              "#0d0887"
             ],
             [
              0.1111111111111111,
              "#46039f"
             ],
             [
              0.2222222222222222,
              "#7201a8"
             ],
             [
              0.3333333333333333,
              "#9c179e"
             ],
             [
              0.4444444444444444,
              "#bd3786"
             ],
             [
              0.5555555555555556,
              "#d8576b"
             ],
             [
              0.6666666666666666,
              "#ed7953"
             ],
             [
              0.7777777777777778,
              "#fb9f3a"
             ],
             [
              0.8888888888888888,
              "#fdca26"
             ],
             [
              1.0,
              "#f0f921"
             ]
            ],
            "type": "histogram2d"
           }
          ],
          "histogram2dcontour": [
           {
            "colorbar": {
             "outlinewidth": 0,
             "ticks": ""
            },
            "colorscale": [
             [
              0.0,
              "#0d0887"
             ],
             [
              0.1111111111111111,
              "#46039f"
             ],
             [
              0.2222222222222222,
              "#7201a8"
             ],
             [
              0.3333333333333333,
              "#9c179e"
             ],
             [
              0.4444444444444444,
              "#bd3786"
             ],
             [
              0.5555555555555556,
              "#d8576b"
             ],
             [
              0.6666666666666666,
              "#ed7953"
             ],
             [
              0.7777777777777778,
              "#fb9f3a"
             ],
             [
              0.8888888888888888,
              "#fdca26"
             ],
             [
              1.0,
              "#f0f921"
             ]
            ],
            "type": "histogram2dcontour"
           }
          ],
          "mesh3d": [
           {
            "colorbar": {
             "outlinewidth": 0,
             "ticks": ""
            },
            "type": "mesh3d"
           }
          ],
          "parcoords": [
           {
            "line": {
             "colorbar": {
              "outlinewidth": 0,
              "ticks": ""
             }
            },
            "type": "parcoords"
           }
          ],
          "pie": [
           {
            "automargin": true,
            "type": "pie"
           }
          ],
          "scatter": [
           {
            "fillpattern": {
             "fillmode": "overlay",
             "size": 10,
             "solidity": 0.2
            },
            "type": "scatter"
           }
          ],
          "scatter3d": [
           {
            "line": {
             "colorbar": {
              "outlinewidth": 0,
              "ticks": ""
             }
            },
            "marker": {
             "colorbar": {
              "outlinewidth": 0,
              "ticks": ""
             }
            },
            "type": "scatter3d"
           }
          ],
          "scattercarpet": [
           {
            "marker": {
             "colorbar": {
              "outlinewidth": 0,
              "ticks": ""
             }
            },
            "type": "scattercarpet"
           }
          ],
          "scattergeo": [
           {
            "marker": {
             "colorbar": {
              "outlinewidth": 0,
              "ticks": ""
             }
            },
            "type": "scattergeo"
           }
          ],
          "scattergl": [
           {
            "marker": {
             "colorbar": {
              "outlinewidth": 0,
              "ticks": ""
             }
            },
            "type": "scattergl"
           }
          ],
          "scattermap": [
           {
            "marker": {
             "colorbar": {
              "outlinewidth": 0,
              "ticks": ""
             }
            },
            "type": "scattermap"
           }
          ],
          "scattermapbox": [
           {
            "marker": {
             "colorbar": {
              "outlinewidth": 0,
              "ticks": ""
             }
            },
            "type": "scattermapbox"
           }
          ],
          "scatterpolar": [
           {
            "marker": {
             "colorbar": {
              "outlinewidth": 0,
              "ticks": ""
             }
            },
            "type": "scatterpolar"
           }
          ],
          "scatterpolargl": [
           {
            "marker": {
             "colorbar": {
              "outlinewidth": 0,
              "ticks": ""
             }
            },
            "type": "scatterpolargl"
           }
          ],
          "scatterternary": [
           {
            "marker": {
             "colorbar": {
              "outlinewidth": 0,
              "ticks": ""
             }
            },
            "type": "scatterternary"
           }
          ],
          "surface": [
           {
            "colorbar": {
             "outlinewidth": 0,
             "ticks": ""
            },
            "colorscale": [
             [
              0.0,
              "#0d0887"
             ],
             [
              0.1111111111111111,
              "#46039f"
             ],
             [
              0.2222222222222222,
              "#7201a8"
             ],
             [
              0.3333333333333333,
              "#9c179e"
             ],
             [
              0.4444444444444444,
              "#bd3786"
             ],
             [
              0.5555555555555556,
              "#d8576b"
             ],
             [
              0.6666666666666666,
              "#ed7953"
             ],
             [
              0.7777777777777778,
              "#fb9f3a"
             ],
             [
              0.8888888888888888,
              "#fdca26"
             ],
             [
              1.0,
              "#f0f921"
             ]
            ],
            "type": "surface"
           }
          ],
          "table": [
           {
            "cells": {
             "fill": {
              "color": "#EBF0F8"
             },
             "line": {
              "color": "white"
             }
            },
            "header": {
             "fill": {
              "color": "#C8D4E3"
             },
             "line": {
              "color": "white"
             }
            },
            "type": "table"
           }
          ]
         },
         "layout": {
          "annotationdefaults": {
           "arrowcolor": "#2a3f5f",
           "arrowhead": 0,
           "arrowwidth": 1
          },
          "autotypenumbers": "strict",
          "coloraxis": {
           "colorbar": {
            "outlinewidth": 0,
            "ticks": ""
           }
          },
          "colorscale": {
           "diverging": [
            [
             0,
             "#8e0152"
            ],
            [
             0.1,
             "#c51b7d"
            ],
            [
             0.2,
             "#de77ae"
            ],
            [
             0.3,
             "#f1b6da"
            ],
            [
             0.4,
             "#fde0ef"
            ],
            [
             0.5,
             "#f7f7f7"
            ],
            [
             0.6,
             "#e6f5d0"
            ],
            [
             0.7,
             "#b8e186"
            ],
            [
             0.8,
             "#7fbc41"
            ],
            [
             0.9,
             "#4d9221"
            ],
            [
             1,
             "#276419"
            ]
           ],
           "sequential": [
            [
             0.0,
             "#0d0887"
            ],
            [
             0.1111111111111111,
             "#46039f"
            ],
            [
             0.2222222222222222,
             "#7201a8"
            ],
            [
             0.3333333333333333,
             "#9c179e"
            ],
            [
             0.4444444444444444,
             "#bd3786"
            ],
            [
             0.5555555555555556,
             "#d8576b"
            ],
            [
             0.6666666666666666,
             "#ed7953"
            ],
            [
             0.7777777777777778,
             "#fb9f3a"
            ],
            [
             0.8888888888888888,
             "#fdca26"
            ],
            [
             1.0,
             "#f0f921"
            ]
           ],
           "sequentialminus": [
            [
             0.0,
             "#0d0887"
            ],
            [
             0.1111111111111111,
             "#46039f"
            ],
            [
             0.2222222222222222,
             "#7201a8"
            ],
            [
             0.3333333333333333,
             "#9c179e"
            ],
            [
             0.4444444444444444,
             "#bd3786"
            ],
            [
             0.5555555555555556,
             "#d8576b"
            ],
            [
             0.6666666666666666,
             "#ed7953"
            ],
            [
             0.7777777777777778,
             "#fb9f3a"
            ],
            [
             0.8888888888888888,
             "#fdca26"
            ],
            [
             1.0,
             "#f0f921"
            ]
           ]
          },
          "colorway": [
           "#9B0000",
           "#666666",
           "#B60205",
           "#8c1515",
           "#9c9c9c",
           "#c2c2c2"
          ],
          "font": {
           "color": "#2a3f5f",
           "family": "Red Hat Text, Arial, sans-serif"
          },
          "geo": {
           "bgcolor": "white",
           "lakecolor": "white",
           "landcolor": "white",
           "showlakes": true,
           "showland": true,
           "subunitcolor": "#C8D4E3"
          },
          "hoverlabel": {
           "align": "left"
          },
          "hovermode": "closest",
          "legend": {
           "bgcolor": "rgba(0,0,0,0)"
          },
          "mapbox": {
           "style": "light"
          },
          "margin": {
           "b": 40,
           "l": 40,
           "r": 20,
           "t": 60
          },
          "paper_bgcolor": "#F7F7F7",
          "plot_bgcolor": "#F7F7F7",
          "polar": {
           "angularaxis": {
            "gridcolor": "#EBF0F8",
            "linecolor": "#EBF0F8",
            "ticks": ""
           },
           "bgcolor": "white",
           "radialaxis": {
            "gridcolor": "#EBF0F8",
            "linecolor": "#EBF0F8",
            "ticks": ""
           }
          },
          "scene": {
           "xaxis": {
            "backgroundcolor": "white",
            "gridcolor": "#DFE8F3",
            "gridwidth": 2,
            "linecolor": "#EBF0F8",
            "showbackground": true,
            "ticks": "",
            "zerolinecolor": "#EBF0F8"
           },
           "yaxis": {
            "backgroundcolor": "white",
            "gridcolor": "#DFE8F3",
            "gridwidth": 2,
            "linecolor": "#EBF0F8",
            "showbackground": true,
            "ticks": "",
            "zerolinecolor": "#EBF0F8"
           },
           "zaxis": {
            "backgroundcolor": "white",
            "gridcolor": "#DFE8F3",
            "gridwidth": 2,
            "linecolor": "#EBF0F8",
            "showbackground": true,
            "ticks": "",
            "zerolinecolor": "#EBF0F8"
           }
          },
          "shapedefaults": {
           "line": {
            "color": "#2a3f5f"
           }
          },
          "ternary": {
           "aaxis": {
            "gridcolor": "#DFE8F3",
            "linecolor": "#A2B1C6",
            "ticks": ""
           },
           "baxis": {
            "gridcolor": "#DFE8F3",
            "linecolor": "#A2B1C6",
            "ticks": ""
           },
           "bgcolor": "white",
           "caxis": {
            "gridcolor": "#DFE8F3",
            "linecolor": "#A2B1C6",
            "ticks": ""
           }
          },
          "title": {
           "x": 0.01,
           "xanchor": "left"
          },
          "xaxis": {
           "automargin": true,
           "gridcolor": "#e9e9e9",
           "linecolor": "#EBF0F8",
           "ticks": "",
           "title": {
            "standoff": 15
           },
           "zeroline": false,
           "zerolinecolor": "#EBF0F8",
           "zerolinewidth": 2
          },
          "yaxis": {
           "automargin": true,
           "gridcolor": "#e9e9e9",
           "linecolor": "#EBF0F8",
           "ticks": "",
           "title": {
            "standoff": 15
           },
           "zeroline": false,
           "zerolinecolor": "#EBF0F8",
           "zerolinewidth": 2
          }
         }
        },
        "xaxis": {
         "anchor": "y",
         "domain": [
          0.0,
          1.0
         ],
         "title": {
          "text": ""
         }
        },
        "yaxis": {
         "anchor": "x",
         "domain": [
          0.0,
          1.0
         ],
         "tickformat": ".1%",
         "title": {
          "text": "Percent"
         }
        }
       }
      }
     },
     "metadata": {},
     "output_type": "display_data"
    }
   ],
   "source": [
    "fig3 = px.bar(\n",
    "    f3_df, x=\"QID12\", y=\"Percent\",\n",
    "    color=\"Respondent Type\",\n",
    "    barmode=\"stack\"\n",
    ")\n",
    "fig3.update_layout(\n",
    "    yaxis=dict(tickformat=\".1%\"),\n",
    "    xaxis_title=\"\",\n",
    "    plot_bgcolor=\"white\",\n",
    "    paper_bgcolor=\"white\"\n",
    ")\n",
    "fig3.show()\n",
    "fig3.write_html('_static/familiarity_educational.html', full_html=False, include_plotlyjs='cdn')"
   ]
  },
  {
   "cell_type": "markdown",
   "id": "45d76ee5",
   "metadata": {},
   "source": [
    "```{raw} html\n",
    ":file: _static/familiarity_educational.html\n",
    "```\n",
    "\n",
    "\n",
    "## What Open Source Tools Do Respondents Use?\n",
    "\n",
    "\n",
    "Tools respondents identified included:"
   ]
  },
  {
   "cell_type": "code",
   "execution_count": 6,
   "id": "07e71bf2",
   "metadata": {
    "tags": [
     "remove-input"
    ]
   },
   "outputs": [
    {
     "data": {
      "application/vnd.plotly.v1+json": {
       "config": {
        "plotlyServerURL": "https://plot.ly"
       },
       "data": [
        {
         "hovertemplate": "Tool: %{y}<br>Percent: %{x:.2%}<extra></extra>",
         "line": {
          "color": "lightgray",
          "width": 1
         },
         "marker": {
          "color": [
           "#7f7f7f",
           "#7f7f7f",
           "#7f7f7f",
           "#7f7f7f",
           "#1f77b4",
           "#7f7f7f",
           "#7f7f7f",
           "#7f7f7f",
           "#7f7f7f",
           "#1f77b4",
           "#7f7f7f",
           "#7f7f7f",
           "#7f7f7f",
           "#7f7f7f",
           "#7f7f7f",
           "#7f7f7f",
           "#7f7f7f",
           "#7f7f7f",
           "#7f7f7f",
           "#7f7f7f",
           "#1f77b4",
           "#7f7f7f",
           "#7f7f7f",
           "#7f7f7f",
           "#1f77b4"
          ],
          "size": 8
         },
         "mode": "markers+lines",
         "orientation": "h",
         "type": "scatter",
         "x": {
          "bdata": "5iybf8Y0mT/mLJt/xjSZP4OSjk9fW5w/g5KOT19bnD8g+IEf+IGfPyD4gR/4gZ8/IPiBH/iBnz/errp3SFShP96uundIVKE/rWG035Tnoj+tYbTflOeiP3sUrkfheqQ/GHqhF3qhpz/mLJt/xjSpP7TflOcSyKo/tN+U5xLIqj+035TnEsiqP4OSjk9fW6w/UUWIt6vurT9RRYi3q+6tPxQ7sRM7sbM/f1OeSyBruD8g+IEf+IG/P0nHp68tDsY/LoGsYbTf1D8=",
          "dtype": "f8"
         },
         "y": [
          "gnu",
          "matplotlib",
          "imagej",
          "scikit",
          "git",
          "tensorflow",
          "with",
          "qgis",
          "scipy",
          "latex",
          "gcc",
          "htcondor",
          "apache",
          "other",
          "github",
          "such",
          "pytorch",
          "that",
          "are",
          "numpy",
          "julia",
          "for",
          "the",
          "linux",
          "python"
         ]
        }
       ],
       "layout": {
        "paper_bgcolor": "white",
        "plot_bgcolor": "white",
        "shapes": [
         {
          "line": {
           "color": "#1f77b4",
           "width": 2
          },
          "type": "line",
          "x0": 0,
          "x1": 0.024615384615384615,
          "y0": "gnu",
          "y1": "gnu"
         },
         {
          "line": {
           "color": "#7f7f7f",
           "width": 2
          },
          "type": "line",
          "x0": 0,
          "x1": 0.024615384615384615,
          "y0": "matplotlib",
          "y1": "matplotlib"
         },
         {
          "line": {
           "color": "#7f7f7f",
           "width": 2
          },
          "type": "line",
          "x0": 0,
          "x1": 0.027692307692307693,
          "y0": "imagej",
          "y1": "imagej"
         },
         {
          "line": {
           "color": "#7f7f7f",
           "width": 2
          },
          "type": "line",
          "x0": 0,
          "x1": 0.027692307692307693,
          "y0": "scikit",
          "y1": "scikit"
         },
         {
          "line": {
           "color": "#1f77b4",
           "width": 2
          },
          "type": "line",
          "x0": 0,
          "x1": 0.03076923076923077,
          "y0": "git",
          "y1": "git"
         },
         {
          "line": {
           "color": "#7f7f7f",
           "width": 2
          },
          "type": "line",
          "x0": 0,
          "x1": 0.03076923076923077,
          "y0": "tensorflow",
          "y1": "tensorflow"
         },
         {
          "line": {
           "color": "#7f7f7f",
           "width": 2
          },
          "type": "line",
          "x0": 0,
          "x1": 0.03076923076923077,
          "y0": "with",
          "y1": "with"
         },
         {
          "line": {
           "color": "#7f7f7f",
           "width": 2
          },
          "type": "line",
          "x0": 0,
          "x1": 0.033846153846153845,
          "y0": "qgis",
          "y1": "qgis"
         },
         {
          "line": {
           "color": "#7f7f7f",
           "width": 2
          },
          "type": "line",
          "x0": 0,
          "x1": 0.033846153846153845,
          "y0": "scipy",
          "y1": "scipy"
         },
         {
          "line": {
           "color": "#7f7f7f",
           "width": 2
          },
          "type": "line",
          "x0": 0,
          "x1": 0.036923076923076927,
          "y0": "latex",
          "y1": "latex"
         },
         {
          "line": {
           "color": "#7f7f7f",
           "width": 2
          },
          "type": "line",
          "x0": 0,
          "x1": 0.036923076923076927,
          "y0": "gcc",
          "y1": "gcc"
         },
         {
          "line": {
           "color": "#7f7f7f",
           "width": 2
          },
          "type": "line",
          "x0": 0,
          "x1": 0.04,
          "y0": "htcondor",
          "y1": "htcondor"
         },
         {
          "line": {
           "color": "#7f7f7f",
           "width": 2
          },
          "type": "line",
          "x0": 0,
          "x1": 0.046153846153846156,
          "y0": "apache",
          "y1": "apache"
         },
         {
          "line": {
           "color": "#7f7f7f",
           "width": 2
          },
          "type": "line",
          "x0": 0,
          "x1": 0.04923076923076923,
          "y0": "other",
          "y1": "other"
         },
         {
          "line": {
           "color": "#7f7f7f",
           "width": 2
          },
          "type": "line",
          "x0": 0,
          "x1": 0.052307692307692305,
          "y0": "github",
          "y1": "github"
         },
         {
          "line": {
           "color": "#1f77b4",
           "width": 2
          },
          "type": "line",
          "x0": 0,
          "x1": 0.052307692307692305,
          "y0": "such",
          "y1": "such"
         },
         {
          "line": {
           "color": "#7f7f7f",
           "width": 2
          },
          "type": "line",
          "x0": 0,
          "x1": 0.052307692307692305,
          "y0": "pytorch",
          "y1": "pytorch"
         },
         {
          "line": {
           "color": "#7f7f7f",
           "width": 2
          },
          "type": "line",
          "x0": 0,
          "x1": 0.055384615384615386,
          "y0": "that",
          "y1": "that"
         },
         {
          "line": {
           "color": "#7f7f7f",
           "width": 2
          },
          "type": "line",
          "x0": 0,
          "x1": 0.05846153846153846,
          "y0": "are",
          "y1": "are"
         },
         {
          "line": {
           "color": "#7f7f7f",
           "width": 2
          },
          "type": "line",
          "x0": 0,
          "x1": 0.05846153846153846,
          "y0": "numpy",
          "y1": "numpy"
         },
         {
          "line": {
           "color": "#1f77b4",
           "width": 2
          },
          "type": "line",
          "x0": 0,
          "x1": 0.07692307692307693,
          "y0": "julia",
          "y1": "julia"
         },
         {
          "line": {
           "color": "#7f7f7f",
           "width": 2
          },
          "type": "line",
          "x0": 0,
          "x1": 0.09538461538461539,
          "y0": "for",
          "y1": "for"
         },
         {
          "line": {
           "color": "#7f7f7f",
           "width": 2
          },
          "type": "line",
          "x0": 0,
          "x1": 0.12307692307692308,
          "y0": "the",
          "y1": "the"
         },
         {
          "line": {
           "color": "#7f7f7f",
           "width": 2
          },
          "type": "line",
          "x0": 0,
          "x1": 0.1723076923076923,
          "y0": "linux",
          "y1": "linux"
         },
         {
          "line": {
           "color": "#7f7f7f",
           "width": 2
          },
          "type": "line",
          "x0": 0,
          "x1": 0.3261538461538461,
          "y0": "python",
          "y1": "python"
         }
        ],
        "showlegend": false,
        "template": {
         "data": {
          "bar": [
           {
            "error_x": {
             "color": "#2a3f5f"
            },
            "error_y": {
             "color": "#2a3f5f"
            },
            "marker": {
             "line": {
              "color": "white",
              "width": 0.5
             },
             "pattern": {
              "fillmode": "overlay",
              "size": 10,
              "solidity": 0.2
             }
            },
            "type": "bar"
           }
          ],
          "barpolar": [
           {
            "marker": {
             "line": {
              "color": "white",
              "width": 0.5
             },
             "pattern": {
              "fillmode": "overlay",
              "size": 10,
              "solidity": 0.2
             }
            },
            "type": "barpolar"
           }
          ],
          "carpet": [
           {
            "aaxis": {
             "endlinecolor": "#2a3f5f",
             "gridcolor": "#C8D4E3",
             "linecolor": "#C8D4E3",
             "minorgridcolor": "#C8D4E3",
             "startlinecolor": "#2a3f5f"
            },
            "baxis": {
             "endlinecolor": "#2a3f5f",
             "gridcolor": "#C8D4E3",
             "linecolor": "#C8D4E3",
             "minorgridcolor": "#C8D4E3",
             "startlinecolor": "#2a3f5f"
            },
            "type": "carpet"
           }
          ],
          "choropleth": [
           {
            "colorbar": {
             "outlinewidth": 0,
             "ticks": ""
            },
            "type": "choropleth"
           }
          ],
          "contour": [
           {
            "colorbar": {
             "outlinewidth": 0,
             "ticks": ""
            },
            "colorscale": [
             [
              0.0,
              "#0d0887"
             ],
             [
              0.1111111111111111,
              "#46039f"
             ],
             [
              0.2222222222222222,
              "#7201a8"
             ],
             [
              0.3333333333333333,
              "#9c179e"
             ],
             [
              0.4444444444444444,
              "#bd3786"
             ],
             [
              0.5555555555555556,
              "#d8576b"
             ],
             [
              0.6666666666666666,
              "#ed7953"
             ],
             [
              0.7777777777777778,
              "#fb9f3a"
             ],
             [
              0.8888888888888888,
              "#fdca26"
             ],
             [
              1.0,
              "#f0f921"
             ]
            ],
            "type": "contour"
           }
          ],
          "contourcarpet": [
           {
            "colorbar": {
             "outlinewidth": 0,
             "ticks": ""
            },
            "type": "contourcarpet"
           }
          ],
          "heatmap": [
           {
            "colorbar": {
             "outlinewidth": 0,
             "ticks": ""
            },
            "colorscale": [
             [
              0.0,
              "#0d0887"
             ],
             [
              0.1111111111111111,
              "#46039f"
             ],
             [
              0.2222222222222222,
              "#7201a8"
             ],
             [
              0.3333333333333333,
              "#9c179e"
             ],
             [
              0.4444444444444444,
              "#bd3786"
             ],
             [
              0.5555555555555556,
              "#d8576b"
             ],
             [
              0.6666666666666666,
              "#ed7953"
             ],
             [
              0.7777777777777778,
              "#fb9f3a"
             ],
             [
              0.8888888888888888,
              "#fdca26"
             ],
             [
              1.0,
              "#f0f921"
             ]
            ],
            "type": "heatmap"
           }
          ],
          "histogram": [
           {
            "marker": {
             "pattern": {
              "fillmode": "overlay",
              "size": 10,
              "solidity": 0.2
             }
            },
            "type": "histogram"
           }
          ],
          "histogram2d": [
           {
            "colorbar": {
             "outlinewidth": 0,
             "ticks": ""
            },
            "colorscale": [
             [
              0.0,
              "#0d0887"
             ],
             [
              0.1111111111111111,
              "#46039f"
             ],
             [
              0.2222222222222222,
              "#7201a8"
             ],
             [
              0.3333333333333333,
              "#9c179e"
             ],
             [
              0.4444444444444444,
              "#bd3786"
             ],
             [
              0.5555555555555556,
              "#d8576b"
             ],
             [
              0.6666666666666666,
              "#ed7953"
             ],
             [
              0.7777777777777778,
              "#fb9f3a"
             ],
             [
              0.8888888888888888,
              "#fdca26"
             ],
             [
              1.0,
              "#f0f921"
             ]
            ],
            "type": "histogram2d"
           }
          ],
          "histogram2dcontour": [
           {
            "colorbar": {
             "outlinewidth": 0,
             "ticks": ""
            },
            "colorscale": [
             [
              0.0,
              "#0d0887"
             ],
             [
              0.1111111111111111,
              "#46039f"
             ],
             [
              0.2222222222222222,
              "#7201a8"
             ],
             [
              0.3333333333333333,
              "#9c179e"
             ],
             [
              0.4444444444444444,
              "#bd3786"
             ],
             [
              0.5555555555555556,
              "#d8576b"
             ],
             [
              0.6666666666666666,
              "#ed7953"
             ],
             [
              0.7777777777777778,
              "#fb9f3a"
             ],
             [
              0.8888888888888888,
              "#fdca26"
             ],
             [
              1.0,
              "#f0f921"
             ]
            ],
            "type": "histogram2dcontour"
           }
          ],
          "mesh3d": [
           {
            "colorbar": {
             "outlinewidth": 0,
             "ticks": ""
            },
            "type": "mesh3d"
           }
          ],
          "parcoords": [
           {
            "line": {
             "colorbar": {
              "outlinewidth": 0,
              "ticks": ""
             }
            },
            "type": "parcoords"
           }
          ],
          "pie": [
           {
            "automargin": true,
            "type": "pie"
           }
          ],
          "scatter": [
           {
            "fillpattern": {
             "fillmode": "overlay",
             "size": 10,
             "solidity": 0.2
            },
            "type": "scatter"
           }
          ],
          "scatter3d": [
           {
            "line": {
             "colorbar": {
              "outlinewidth": 0,
              "ticks": ""
             }
            },
            "marker": {
             "colorbar": {
              "outlinewidth": 0,
              "ticks": ""
             }
            },
            "type": "scatter3d"
           }
          ],
          "scattercarpet": [
           {
            "marker": {
             "colorbar": {
              "outlinewidth": 0,
              "ticks": ""
             }
            },
            "type": "scattercarpet"
           }
          ],
          "scattergeo": [
           {
            "marker": {
             "colorbar": {
              "outlinewidth": 0,
              "ticks": ""
             }
            },
            "type": "scattergeo"
           }
          ],
          "scattergl": [
           {
            "marker": {
             "colorbar": {
              "outlinewidth": 0,
              "ticks": ""
             }
            },
            "type": "scattergl"
           }
          ],
          "scattermap": [
           {
            "marker": {
             "colorbar": {
              "outlinewidth": 0,
              "ticks": ""
             }
            },
            "type": "scattermap"
           }
          ],
          "scattermapbox": [
           {
            "marker": {
             "colorbar": {
              "outlinewidth": 0,
              "ticks": ""
             }
            },
            "type": "scattermapbox"
           }
          ],
          "scatterpolar": [
           {
            "marker": {
             "colorbar": {
              "outlinewidth": 0,
              "ticks": ""
             }
            },
            "type": "scatterpolar"
           }
          ],
          "scatterpolargl": [
           {
            "marker": {
             "colorbar": {
              "outlinewidth": 0,
              "ticks": ""
             }
            },
            "type": "scatterpolargl"
           }
          ],
          "scatterternary": [
           {
            "marker": {
             "colorbar": {
              "outlinewidth": 0,
              "ticks": ""
             }
            },
            "type": "scatterternary"
           }
          ],
          "surface": [
           {
            "colorbar": {
             "outlinewidth": 0,
             "ticks": ""
            },
            "colorscale": [
             [
              0.0,
              "#0d0887"
             ],
             [
              0.1111111111111111,
              "#46039f"
             ],
             [
              0.2222222222222222,
              "#7201a8"
             ],
             [
              0.3333333333333333,
              "#9c179e"
             ],
             [
              0.4444444444444444,
              "#bd3786"
             ],
             [
              0.5555555555555556,
              "#d8576b"
             ],
             [
              0.6666666666666666,
              "#ed7953"
             ],
             [
              0.7777777777777778,
              "#fb9f3a"
             ],
             [
              0.8888888888888888,
              "#fdca26"
             ],
             [
              1.0,
              "#f0f921"
             ]
            ],
            "type": "surface"
           }
          ],
          "table": [
           {
            "cells": {
             "fill": {
              "color": "#EBF0F8"
             },
             "line": {
              "color": "white"
             }
            },
            "header": {
             "fill": {
              "color": "#C8D4E3"
             },
             "line": {
              "color": "white"
             }
            },
            "type": "table"
           }
          ]
         },
         "layout": {
          "annotationdefaults": {
           "arrowcolor": "#2a3f5f",
           "arrowhead": 0,
           "arrowwidth": 1
          },
          "autotypenumbers": "strict",
          "coloraxis": {
           "colorbar": {
            "outlinewidth": 0,
            "ticks": ""
           }
          },
          "colorscale": {
           "diverging": [
            [
             0,
             "#8e0152"
            ],
            [
             0.1,
             "#c51b7d"
            ],
            [
             0.2,
             "#de77ae"
            ],
            [
             0.3,
             "#f1b6da"
            ],
            [
             0.4,
             "#fde0ef"
            ],
            [
             0.5,
             "#f7f7f7"
            ],
            [
             0.6,
             "#e6f5d0"
            ],
            [
             0.7,
             "#b8e186"
            ],
            [
             0.8,
             "#7fbc41"
            ],
            [
             0.9,
             "#4d9221"
            ],
            [
             1,
             "#276419"
            ]
           ],
           "sequential": [
            [
             0.0,
             "#0d0887"
            ],
            [
             0.1111111111111111,
             "#46039f"
            ],
            [
             0.2222222222222222,
             "#7201a8"
            ],
            [
             0.3333333333333333,
             "#9c179e"
            ],
            [
             0.4444444444444444,
             "#bd3786"
            ],
            [
             0.5555555555555556,
             "#d8576b"
            ],
            [
             0.6666666666666666,
             "#ed7953"
            ],
            [
             0.7777777777777778,
             "#fb9f3a"
            ],
            [
             0.8888888888888888,
             "#fdca26"
            ],
            [
             1.0,
             "#f0f921"
            ]
           ],
           "sequentialminus": [
            [
             0.0,
             "#0d0887"
            ],
            [
             0.1111111111111111,
             "#46039f"
            ],
            [
             0.2222222222222222,
             "#7201a8"
            ],
            [
             0.3333333333333333,
             "#9c179e"
            ],
            [
             0.4444444444444444,
             "#bd3786"
            ],
            [
             0.5555555555555556,
             "#d8576b"
            ],
            [
             0.6666666666666666,
             "#ed7953"
            ],
            [
             0.7777777777777778,
             "#fb9f3a"
            ],
            [
             0.8888888888888888,
             "#fdca26"
            ],
            [
             1.0,
             "#f0f921"
            ]
           ]
          },
          "colorway": [
           "#9B0000",
           "#666666",
           "#B60205",
           "#8c1515",
           "#9c9c9c",
           "#c2c2c2"
          ],
          "font": {
           "color": "#2a3f5f",
           "family": "Red Hat Text, Arial, sans-serif"
          },
          "geo": {
           "bgcolor": "white",
           "lakecolor": "white",
           "landcolor": "white",
           "showlakes": true,
           "showland": true,
           "subunitcolor": "#C8D4E3"
          },
          "hoverlabel": {
           "align": "left"
          },
          "hovermode": "closest",
          "legend": {
           "bgcolor": "rgba(0,0,0,0)"
          },
          "mapbox": {
           "style": "light"
          },
          "margin": {
           "b": 40,
           "l": 40,
           "r": 20,
           "t": 60
          },
          "paper_bgcolor": "#F7F7F7",
          "plot_bgcolor": "#F7F7F7",
          "polar": {
           "angularaxis": {
            "gridcolor": "#EBF0F8",
            "linecolor": "#EBF0F8",
            "ticks": ""
           },
           "bgcolor": "white",
           "radialaxis": {
            "gridcolor": "#EBF0F8",
            "linecolor": "#EBF0F8",
            "ticks": ""
           }
          },
          "scene": {
           "xaxis": {
            "backgroundcolor": "white",
            "gridcolor": "#DFE8F3",
            "gridwidth": 2,
            "linecolor": "#EBF0F8",
            "showbackground": true,
            "ticks": "",
            "zerolinecolor": "#EBF0F8"
           },
           "yaxis": {
            "backgroundcolor": "white",
            "gridcolor": "#DFE8F3",
            "gridwidth": 2,
            "linecolor": "#EBF0F8",
            "showbackground": true,
            "ticks": "",
            "zerolinecolor": "#EBF0F8"
           },
           "zaxis": {
            "backgroundcolor": "white",
            "gridcolor": "#DFE8F3",
            "gridwidth": 2,
            "linecolor": "#EBF0F8",
            "showbackground": true,
            "ticks": "",
            "zerolinecolor": "#EBF0F8"
           }
          },
          "shapedefaults": {
           "line": {
            "color": "#2a3f5f"
           }
          },
          "ternary": {
           "aaxis": {
            "gridcolor": "#DFE8F3",
            "linecolor": "#A2B1C6",
            "ticks": ""
           },
           "baxis": {
            "gridcolor": "#DFE8F3",
            "linecolor": "#A2B1C6",
            "ticks": ""
           },
           "bgcolor": "white",
           "caxis": {
            "gridcolor": "#DFE8F3",
            "linecolor": "#A2B1C6",
            "ticks": ""
           }
          },
          "title": {
           "x": 0.01,
           "xanchor": "left"
          },
          "xaxis": {
           "automargin": true,
           "gridcolor": "#e9e9e9",
           "linecolor": "#EBF0F8",
           "ticks": "",
           "title": {
            "standoff": 15
           },
           "zeroline": false,
           "zerolinecolor": "#EBF0F8",
           "zerolinewidth": 2
          },
          "yaxis": {
           "automargin": true,
           "gridcolor": "#e9e9e9",
           "linecolor": "#EBF0F8",
           "ticks": "",
           "title": {
            "standoff": 15
           },
           "zeroline": false,
           "zerolinecolor": "#EBF0F8",
           "zerolinewidth": 2
          }
         }
        },
        "xaxis": {
         "tickformat": ".0%",
         "title": {
          "text": "Responses Identifying Open Source Tool Use"
         }
        },
        "yaxis": {
         "title": {
          "text": ""
         }
        }
       }
      }
     },
     "metadata": {},
     "output_type": "display_data"
    }
   ],
   "source": [
    "respondents_pct = prop(df[\"QID13\"], lambda s: s == \"Yes\")\n",
    "glue(\"respondents_pct\", respondents_pct, display=False)\n",
    " \n",
    "# Text processing for word frequency analysis\n",
    "rm_terms = {\n",
    "    'open', 'and', 'source', 'analysis', 'use', 'used', 'data', 'many', 'software',\n",
    "    'programming', 'language', 'languages', 'tools', 'code', 'etc', 'package',\n",
    "    'packages', 'list', 'everything', 'including', 'libraries', 'like',\n",
    "    'various', 'research', 'statistical', 'ecosystem', 'opensource', 'web',\n",
    "    'google', 'system', 'compilers', 'academy', 'numerous', 'systems'\n",
    "}\n",
    "\n",
    "def clean_text(text):\n",
    "    if pd.isna(text):\n",
    "        return \"\"\n",
    "    # Convert to lowercase and remove punctuation\n",
    "    text = re.sub(r'[^\\w\\s]', ' ', text.lower())\n",
    "    # Split into words and filter\n",
    "    words = [word for word in text.split() \n",
    "             if word not in rm_terms and len(word) > 2]\n",
    "    return ' '.join(words)\n",
    "\n",
    "# Process text responses\n",
    "tools_text = df['QID15'].dropna().apply(clean_text)\n",
    "all_words = ' '.join(tools_text).split()\n",
    "word_freq = Counter(all_words)\n",
    "\n",
    "# Create dataframe for plotting\n",
    "tools_highlight = ['python', 'r', 'julia', 'git', 'latex']\n",
    "top_25_words = dict(word_freq.most_common(25))\n",
    "\n",
    "tools_df = pd.DataFrame([\n",
    "    {'word': word, 'freq': freq, 'pct': freq / len(df)}\n",
    "    for word, freq in top_25_words.items()\n",
    "    if word != '•'\n",
    "]).sort_values('freq')\n",
    "\n",
    "# Create lollipop plot\n",
    "fig4 = go.Figure()\n",
    "\n",
    "colors = ['#1f77b4' if word in tools_highlight else '#7f7f7f' \n",
    "          for word in tools_df['word']]\n",
    "\n",
    "fig4.add_trace(go.Scatter(\n",
    "    x=tools_df['pct'],\n",
    "    y=tools_df['word'],\n",
    "    mode='markers+lines',\n",
    "    marker=dict(size=8, color=colors),\n",
    "    line=dict(color='lightgray', width=1),\n",
    "    orientation='h',\n",
    "    hovertemplate='Tool: %{y}<br>Percent: %{x:.2%}<extra></extra>'\n",
    "))\n",
    "\n",
    "# Add line segments\n",
    "for i, row in tools_df.iterrows():\n",
    "    fig4.add_shape(\n",
    "        type=\"line\",\n",
    "        x0=0, x1=row['pct'],\n",
    "        y0=row['word'], y1=row['word'],\n",
    "        line=dict(color=colors[i], width=2)\n",
    "    )\n",
    "\n",
    "fig4.update_layout(\n",
    "    xaxis=dict(\n",
    "        title=\"Responses Identifying Open Source Tool Use\",\n",
    "        tickformat='.0%'\n",
    "    ),\n",
    "    yaxis_title=\"\",\n",
    "    showlegend=False,\n",
    "    plot_bgcolor=\"white\",\n",
    "    paper_bgcolor=\"white\"\n",
    ")\n",
    "fig4.show()\n",
    "fig4.write_html('_static/tools_lollipop.html', full_html=False, include_plotlyjs='cdn')"
   ]
  },
  {
   "cell_type": "markdown",
   "id": "79dde7e4",
   "metadata": {},
   "source": [
    "**{glue:}`respondents_pct`%** of respondents identified open source tools that are key in their workflows or their fields.\n",
    "\n",
    "```{raw} html\n",
    ":file: _static/tools_lollipop.html\n",
    "```\n",
    "\n",
    "Note that these are respondents' answers so not all tools may actually be open-source tools.\n",
    "\n",
    "## How Are Respondents Using University-Provided Licensed Software?\n",
    "\n",
    "We asked respondents which university-provided licensed software they use that are available in the university's software library."
   ]
  },
  {
   "cell_type": "code",
   "execution_count": 7,
   "id": "6bac14a5",
   "metadata": {
    "tags": [
     "remove-input"
    ]
   },
   "outputs": [
    {
     "data": {
      "application/vnd.plotly.v1+json": {
       "config": {
        "plotlyServerURL": "https://plot.ly"
       },
       "data": [
        {
         "hovertemplate": "Tool: %{y}<br>Percent: %{x:.2%}<extra></extra>",
         "line": {
          "color": "lightgray",
          "width": 1
         },
         "marker": {
          "color": [
           "#7f7f7f",
           "#7f7f7f",
           "#7f7f7f",
           "#7f7f7f",
           "#7f7f7f",
           "#7f7f7f",
           "#7f7f7f",
           "#7f7f7f",
           "#7f7f7f",
           "#7f7f7f",
           "#7f7f7f",
           "#7f7f7f",
           "#7f7f7f",
           "#7f7f7f",
           "#7f7f7f",
           "#1f77b4",
           "#7f7f7f",
           "#1f77b4"
          ],
          "size": 8
         },
         "mode": "markers+lines",
         "orientation": "h",
         "type": "scatter",
         "x": {
          "bdata": "5iybf8Y0eT8g+IEf+IGPP61htN+U55I/rWG035Tnkj+tYbTflOeSP+Ysm3/GNJk/g5KOT19bnD8g+IEf+IGfPyD4gR/4gZ8/rWG035Tnoj9Jx6evLQ6mP3fVvUOiirA/RYi3q+4dsj97FK5H4Xq0P7CgpOPT17Y/HLmRG7mRuz+Dko5PX1u8Px2fvrY4WNA/",
          "dtype": "f8"
         },
         "y": [
          "IDL - NV5",
          "Sigma Plot",
          "Maple",
          "Origin",
          "SolidWorks",
          "JMP",
          "SmartDraw",
          "Labview",
          "Autodesk",
          "PyMOL",
          "ChemDraw",
          "TechSmith Camtasia",
          "NVivo",
          "SAS",
          "SPSS from IBM",
          "STATA",
          "Mathematica",
          "Matlab"
         ]
        }
       ],
       "layout": {
        "paper_bgcolor": "white",
        "plot_bgcolor": "white",
        "shapes": [
         {
          "line": {
           "color": "#7f7f7f",
           "width": 2
          },
          "type": "line",
          "x0": 0,
          "x1": 0.006153846153846154,
          "y0": "IDL - NV5",
          "y1": "IDL - NV5"
         },
         {
          "line": {
           "color": "#1f77b4",
           "width": 2
          },
          "type": "line",
          "x0": 0,
          "x1": 0.015384615384615385,
          "y0": "Sigma Plot",
          "y1": "Sigma Plot"
         },
         {
          "line": {
           "color": "#7f7f7f",
           "width": 2
          },
          "type": "line",
          "x0": 0,
          "x1": 0.018461538461538463,
          "y0": "Maple",
          "y1": "Maple"
         },
         {
          "line": {
           "color": "#7f7f7f",
           "width": 2
          },
          "type": "line",
          "x0": 0,
          "x1": 0.018461538461538463,
          "y0": "Origin",
          "y1": "Origin"
         },
         {
          "line": {
           "color": "#7f7f7f",
           "width": 2
          },
          "type": "line",
          "x0": 0,
          "x1": 0.018461538461538463,
          "y0": "SolidWorks",
          "y1": "SolidWorks"
         },
         {
          "line": {
           "color": "#7f7f7f",
           "width": 2
          },
          "type": "line",
          "x0": 0,
          "x1": 0.024615384615384615,
          "y0": "JMP",
          "y1": "JMP"
         },
         {
          "line": {
           "color": "#7f7f7f",
           "width": 2
          },
          "type": "line",
          "x0": 0,
          "x1": 0.027692307692307693,
          "y0": "SmartDraw",
          "y1": "SmartDraw"
         },
         {
          "line": {
           "color": "#7f7f7f",
           "width": 2
          },
          "type": "line",
          "x0": 0,
          "x1": 0.03076923076923077,
          "y0": "Labview",
          "y1": "Labview"
         },
         {
          "line": {
           "color": "#7f7f7f",
           "width": 2
          },
          "type": "line",
          "x0": 0,
          "x1": 0.03076923076923077,
          "y0": "Autodesk",
          "y1": "Autodesk"
         },
         {
          "line": {
           "color": "#7f7f7f",
           "width": 2
          },
          "type": "line",
          "x0": 0,
          "x1": 0.036923076923076927,
          "y0": "PyMOL",
          "y1": "PyMOL"
         },
         {
          "line": {
           "color": "#7f7f7f",
           "width": 2
          },
          "type": "line",
          "x0": 0,
          "x1": 0.043076923076923075,
          "y0": "ChemDraw",
          "y1": "ChemDraw"
         },
         {
          "line": {
           "color": "#7f7f7f",
           "width": 2
          },
          "type": "line",
          "x0": 0,
          "x1": 0.06461538461538462,
          "y0": "TechSmith Camtasia",
          "y1": "TechSmith Camtasia"
         },
         {
          "line": {
           "color": "#7f7f7f",
           "width": 2
          },
          "type": "line",
          "x0": 0,
          "x1": 0.07076923076923076,
          "y0": "NVivo",
          "y1": "NVivo"
         },
         {
          "line": {
           "color": "#7f7f7f",
           "width": 2
          },
          "type": "line",
          "x0": 0,
          "x1": 0.08,
          "y0": "SAS",
          "y1": "SAS"
         },
         {
          "line": {
           "color": "#1f77b4",
           "width": 2
          },
          "type": "line",
          "x0": 0,
          "x1": 0.08923076923076922,
          "y0": "SPSS from IBM",
          "y1": "SPSS from IBM"
         },
         {
          "line": {
           "color": "#7f7f7f",
           "width": 2
          },
          "type": "line",
          "x0": 0,
          "x1": 0.1076923076923077,
          "y0": "STATA",
          "y1": "STATA"
         },
         {
          "line": {
           "color": "#7f7f7f",
           "width": 2
          },
          "type": "line",
          "x0": 0,
          "x1": 0.11076923076923077,
          "y0": "Mathematica",
          "y1": "Mathematica"
         },
         {
          "line": {
           "color": "#7f7f7f",
           "width": 2
          },
          "type": "line",
          "x0": 0,
          "x1": 0.2553846153846154,
          "y0": "Matlab",
          "y1": "Matlab"
         }
        ],
        "showlegend": false,
        "template": {
         "data": {
          "bar": [
           {
            "error_x": {
             "color": "#2a3f5f"
            },
            "error_y": {
             "color": "#2a3f5f"
            },
            "marker": {
             "line": {
              "color": "white",
              "width": 0.5
             },
             "pattern": {
              "fillmode": "overlay",
              "size": 10,
              "solidity": 0.2
             }
            },
            "type": "bar"
           }
          ],
          "barpolar": [
           {
            "marker": {
             "line": {
              "color": "white",
              "width": 0.5
             },
             "pattern": {
              "fillmode": "overlay",
              "size": 10,
              "solidity": 0.2
             }
            },
            "type": "barpolar"
           }
          ],
          "carpet": [
           {
            "aaxis": {
             "endlinecolor": "#2a3f5f",
             "gridcolor": "#C8D4E3",
             "linecolor": "#C8D4E3",
             "minorgridcolor": "#C8D4E3",
             "startlinecolor": "#2a3f5f"
            },
            "baxis": {
             "endlinecolor": "#2a3f5f",
             "gridcolor": "#C8D4E3",
             "linecolor": "#C8D4E3",
             "minorgridcolor": "#C8D4E3",
             "startlinecolor": "#2a3f5f"
            },
            "type": "carpet"
           }
          ],
          "choropleth": [
           {
            "colorbar": {
             "outlinewidth": 0,
             "ticks": ""
            },
            "type": "choropleth"
           }
          ],
          "contour": [
           {
            "colorbar": {
             "outlinewidth": 0,
             "ticks": ""
            },
            "colorscale": [
             [
              0.0,
              "#0d0887"
             ],
             [
              0.1111111111111111,
              "#46039f"
             ],
             [
              0.2222222222222222,
              "#7201a8"
             ],
             [
              0.3333333333333333,
              "#9c179e"
             ],
             [
              0.4444444444444444,
              "#bd3786"
             ],
             [
              0.5555555555555556,
              "#d8576b"
             ],
             [
              0.6666666666666666,
              "#ed7953"
             ],
             [
              0.7777777777777778,
              "#fb9f3a"
             ],
             [
              0.8888888888888888,
              "#fdca26"
             ],
             [
              1.0,
              "#f0f921"
             ]
            ],
            "type": "contour"
           }
          ],
          "contourcarpet": [
           {
            "colorbar": {
             "outlinewidth": 0,
             "ticks": ""
            },
            "type": "contourcarpet"
           }
          ],
          "heatmap": [
           {
            "colorbar": {
             "outlinewidth": 0,
             "ticks": ""
            },
            "colorscale": [
             [
              0.0,
              "#0d0887"
             ],
             [
              0.1111111111111111,
              "#46039f"
             ],
             [
              0.2222222222222222,
              "#7201a8"
             ],
             [
              0.3333333333333333,
              "#9c179e"
             ],
             [
              0.4444444444444444,
              "#bd3786"
             ],
             [
              0.5555555555555556,
              "#d8576b"
             ],
             [
              0.6666666666666666,
              "#ed7953"
             ],
             [
              0.7777777777777778,
              "#fb9f3a"
             ],
             [
              0.8888888888888888,
              "#fdca26"
             ],
             [
              1.0,
              "#f0f921"
             ]
            ],
            "type": "heatmap"
           }
          ],
          "histogram": [
           {
            "marker": {
             "pattern": {
              "fillmode": "overlay",
              "size": 10,
              "solidity": 0.2
             }
            },
            "type": "histogram"
           }
          ],
          "histogram2d": [
           {
            "colorbar": {
             "outlinewidth": 0,
             "ticks": ""
            },
            "colorscale": [
             [
              0.0,
              "#0d0887"
             ],
             [
              0.1111111111111111,
              "#46039f"
             ],
             [
              0.2222222222222222,
              "#7201a8"
             ],
             [
              0.3333333333333333,
              "#9c179e"
             ],
             [
              0.4444444444444444,
              "#bd3786"
             ],
             [
              0.5555555555555556,
              "#d8576b"
             ],
             [
              0.6666666666666666,
              "#ed7953"
             ],
             [
              0.7777777777777778,
              "#fb9f3a"
             ],
             [
              0.8888888888888888,
              "#fdca26"
             ],
             [
              1.0,
              "#f0f921"
             ]
            ],
            "type": "histogram2d"
           }
          ],
          "histogram2dcontour": [
           {
            "colorbar": {
             "outlinewidth": 0,
             "ticks": ""
            },
            "colorscale": [
             [
              0.0,
              "#0d0887"
             ],
             [
              0.1111111111111111,
              "#46039f"
             ],
             [
              0.2222222222222222,
              "#7201a8"
             ],
             [
              0.3333333333333333,
              "#9c179e"
             ],
             [
              0.4444444444444444,
              "#bd3786"
             ],
             [
              0.5555555555555556,
              "#d8576b"
             ],
             [
              0.6666666666666666,
              "#ed7953"
             ],
             [
              0.7777777777777778,
              "#fb9f3a"
             ],
             [
              0.8888888888888888,
              "#fdca26"
             ],
             [
              1.0,
              "#f0f921"
             ]
            ],
            "type": "histogram2dcontour"
           }
          ],
          "mesh3d": [
           {
            "colorbar": {
             "outlinewidth": 0,
             "ticks": ""
            },
            "type": "mesh3d"
           }
          ],
          "parcoords": [
           {
            "line": {
             "colorbar": {
              "outlinewidth": 0,
              "ticks": ""
             }
            },
            "type": "parcoords"
           }
          ],
          "pie": [
           {
            "automargin": true,
            "type": "pie"
           }
          ],
          "scatter": [
           {
            "fillpattern": {
             "fillmode": "overlay",
             "size": 10,
             "solidity": 0.2
            },
            "type": "scatter"
           }
          ],
          "scatter3d": [
           {
            "line": {
             "colorbar": {
              "outlinewidth": 0,
              "ticks": ""
             }
            },
            "marker": {
             "colorbar": {
              "outlinewidth": 0,
              "ticks": ""
             }
            },
            "type": "scatter3d"
           }
          ],
          "scattercarpet": [
           {
            "marker": {
             "colorbar": {
              "outlinewidth": 0,
              "ticks": ""
             }
            },
            "type": "scattercarpet"
           }
          ],
          "scattergeo": [
           {
            "marker": {
             "colorbar": {
              "outlinewidth": 0,
              "ticks": ""
             }
            },
            "type": "scattergeo"
           }
          ],
          "scattergl": [
           {
            "marker": {
             "colorbar": {
              "outlinewidth": 0,
              "ticks": ""
             }
            },
            "type": "scattergl"
           }
          ],
          "scattermap": [
           {
            "marker": {
             "colorbar": {
              "outlinewidth": 0,
              "ticks": ""
             }
            },
            "type": "scattermap"
           }
          ],
          "scattermapbox": [
           {
            "marker": {
             "colorbar": {
              "outlinewidth": 0,
              "ticks": ""
             }
            },
            "type": "scattermapbox"
           }
          ],
          "scatterpolar": [
           {
            "marker": {
             "colorbar": {
              "outlinewidth": 0,
              "ticks": ""
             }
            },
            "type": "scatterpolar"
           }
          ],
          "scatterpolargl": [
           {
            "marker": {
             "colorbar": {
              "outlinewidth": 0,
              "ticks": ""
             }
            },
            "type": "scatterpolargl"
           }
          ],
          "scatterternary": [
           {
            "marker": {
             "colorbar": {
              "outlinewidth": 0,
              "ticks": ""
             }
            },
            "type": "scatterternary"
           }
          ],
          "surface": [
           {
            "colorbar": {
             "outlinewidth": 0,
             "ticks": ""
            },
            "colorscale": [
             [
              0.0,
              "#0d0887"
             ],
             [
              0.1111111111111111,
              "#46039f"
             ],
             [
              0.2222222222222222,
              "#7201a8"
             ],
             [
              0.3333333333333333,
              "#9c179e"
             ],
             [
              0.4444444444444444,
              "#bd3786"
             ],
             [
              0.5555555555555556,
              "#d8576b"
             ],
             [
              0.6666666666666666,
              "#ed7953"
             ],
             [
              0.7777777777777778,
              "#fb9f3a"
             ],
             [
              0.8888888888888888,
              "#fdca26"
             ],
             [
              1.0,
              "#f0f921"
             ]
            ],
            "type": "surface"
           }
          ],
          "table": [
           {
            "cells": {
             "fill": {
              "color": "#EBF0F8"
             },
             "line": {
              "color": "white"
             }
            },
            "header": {
             "fill": {
              "color": "#C8D4E3"
             },
             "line": {
              "color": "white"
             }
            },
            "type": "table"
           }
          ]
         },
         "layout": {
          "annotationdefaults": {
           "arrowcolor": "#2a3f5f",
           "arrowhead": 0,
           "arrowwidth": 1
          },
          "autotypenumbers": "strict",
          "coloraxis": {
           "colorbar": {
            "outlinewidth": 0,
            "ticks": ""
           }
          },
          "colorscale": {
           "diverging": [
            [
             0,
             "#8e0152"
            ],
            [
             0.1,
             "#c51b7d"
            ],
            [
             0.2,
             "#de77ae"
            ],
            [
             0.3,
             "#f1b6da"
            ],
            [
             0.4,
             "#fde0ef"
            ],
            [
             0.5,
             "#f7f7f7"
            ],
            [
             0.6,
             "#e6f5d0"
            ],
            [
             0.7,
             "#b8e186"
            ],
            [
             0.8,
             "#7fbc41"
            ],
            [
             0.9,
             "#4d9221"
            ],
            [
             1,
             "#276419"
            ]
           ],
           "sequential": [
            [
             0.0,
             "#0d0887"
            ],
            [
             0.1111111111111111,
             "#46039f"
            ],
            [
             0.2222222222222222,
             "#7201a8"
            ],
            [
             0.3333333333333333,
             "#9c179e"
            ],
            [
             0.4444444444444444,
             "#bd3786"
            ],
            [
             0.5555555555555556,
             "#d8576b"
            ],
            [
             0.6666666666666666,
             "#ed7953"
            ],
            [
             0.7777777777777778,
             "#fb9f3a"
            ],
            [
             0.8888888888888888,
             "#fdca26"
            ],
            [
             1.0,
             "#f0f921"
            ]
           ],
           "sequentialminus": [
            [
             0.0,
             "#0d0887"
            ],
            [
             0.1111111111111111,
             "#46039f"
            ],
            [
             0.2222222222222222,
             "#7201a8"
            ],
            [
             0.3333333333333333,
             "#9c179e"
            ],
            [
             0.4444444444444444,
             "#bd3786"
            ],
            [
             0.5555555555555556,
             "#d8576b"
            ],
            [
             0.6666666666666666,
             "#ed7953"
            ],
            [
             0.7777777777777778,
             "#fb9f3a"
            ],
            [
             0.8888888888888888,
             "#fdca26"
            ],
            [
             1.0,
             "#f0f921"
            ]
           ]
          },
          "colorway": [
           "#9B0000",
           "#666666",
           "#B60205",
           "#8c1515",
           "#9c9c9c",
           "#c2c2c2"
          ],
          "font": {
           "color": "#2a3f5f",
           "family": "Red Hat Text, Arial, sans-serif"
          },
          "geo": {
           "bgcolor": "white",
           "lakecolor": "white",
           "landcolor": "white",
           "showlakes": true,
           "showland": true,
           "subunitcolor": "#C8D4E3"
          },
          "hoverlabel": {
           "align": "left"
          },
          "hovermode": "closest",
          "legend": {
           "bgcolor": "rgba(0,0,0,0)"
          },
          "mapbox": {
           "style": "light"
          },
          "margin": {
           "b": 40,
           "l": 40,
           "r": 20,
           "t": 60
          },
          "paper_bgcolor": "#F7F7F7",
          "plot_bgcolor": "#F7F7F7",
          "polar": {
           "angularaxis": {
            "gridcolor": "#EBF0F8",
            "linecolor": "#EBF0F8",
            "ticks": ""
           },
           "bgcolor": "white",
           "radialaxis": {
            "gridcolor": "#EBF0F8",
            "linecolor": "#EBF0F8",
            "ticks": ""
           }
          },
          "scene": {
           "xaxis": {
            "backgroundcolor": "white",
            "gridcolor": "#DFE8F3",
            "gridwidth": 2,
            "linecolor": "#EBF0F8",
            "showbackground": true,
            "ticks": "",
            "zerolinecolor": "#EBF0F8"
           },
           "yaxis": {
            "backgroundcolor": "white",
            "gridcolor": "#DFE8F3",
            "gridwidth": 2,
            "linecolor": "#EBF0F8",
            "showbackground": true,
            "ticks": "",
            "zerolinecolor": "#EBF0F8"
           },
           "zaxis": {
            "backgroundcolor": "white",
            "gridcolor": "#DFE8F3",
            "gridwidth": 2,
            "linecolor": "#EBF0F8",
            "showbackground": true,
            "ticks": "",
            "zerolinecolor": "#EBF0F8"
           }
          },
          "shapedefaults": {
           "line": {
            "color": "#2a3f5f"
           }
          },
          "ternary": {
           "aaxis": {
            "gridcolor": "#DFE8F3",
            "linecolor": "#A2B1C6",
            "ticks": ""
           },
           "baxis": {
            "gridcolor": "#DFE8F3",
            "linecolor": "#A2B1C6",
            "ticks": ""
           },
           "bgcolor": "white",
           "caxis": {
            "gridcolor": "#DFE8F3",
            "linecolor": "#A2B1C6",
            "ticks": ""
           }
          },
          "title": {
           "x": 0.01,
           "xanchor": "left"
          },
          "xaxis": {
           "automargin": true,
           "gridcolor": "#e9e9e9",
           "linecolor": "#EBF0F8",
           "ticks": "",
           "title": {
            "standoff": 15
           },
           "zeroline": false,
           "zerolinecolor": "#EBF0F8",
           "zerolinewidth": 2
          },
          "yaxis": {
           "automargin": true,
           "gridcolor": "#e9e9e9",
           "linecolor": "#EBF0F8",
           "ticks": "",
           "title": {
            "standoff": 15
           },
           "zeroline": false,
           "zerolinecolor": "#EBF0F8",
           "zerolinewidth": 2
          }
         }
        },
        "xaxis": {
         "tickformat": ".0%",
         "title": {
          "text": "Responses Identifying Licensed Tool Use"
         }
        },
        "yaxis": {
         "title": {
          "text": ""
         }
        }
       }
      }
     },
     "metadata": {},
     "output_type": "display_data"
    }
   ],
   "source": [
    "# Process licensed software responses\n",
    "licensed_highlight = ['Matlab', 'STATA']\n",
    "\n",
    "# Split comma-separated responses and count\n",
    "licensed_tools = []\n",
    "for response in df['QID17'].dropna():\n",
    "    tools = [tool.strip() for tool in str(response).split(',')]\n",
    "    licensed_tools.extend(tools)\n",
    "\n",
    "licensed_freq = Counter(licensed_tools)\n",
    "licensed_df = pd.DataFrame([\n",
    "    {'tool': tool, 'freq': freq, 'pct': freq / len(df)}\n",
    "    for tool, freq in licensed_freq.items()\n",
    "]).sort_values('freq')\n",
    "\n",
    "# Handle None/NaN values\n",
    "if not licensed_df.empty:\n",
    "    licensed_df = licensed_df[licensed_df['tool'] != 'nan']\n",
    "\n",
    "# Create lollipop plot for licensed tools\n",
    "fig5 = go.Figure()\n",
    "\n",
    "colors_licensed = ['#1f77b4' if tool in licensed_highlight else '#7f7f7f' \n",
    "                   for tool in licensed_df['tool']]\n",
    "\n",
    "fig5.add_trace(go.Scatter(\n",
    "    x=licensed_df['pct'],\n",
    "    y=licensed_df['tool'],\n",
    "    mode='markers+lines',\n",
    "    marker=dict(size=8, color=colors_licensed),\n",
    "    line=dict(color='lightgray', width=1),\n",
    "    orientation='h',\n",
    "    hovertemplate='Tool: %{y}<br>Percent: %{x:.2%}<extra></extra>'\n",
    "))\n",
    "\n",
    "# Add line segments\n",
    "for i, row in licensed_df.iterrows():\n",
    "    fig5.add_shape(\n",
    "        type=\"line\",\n",
    "        x0=0, x1=row['pct'],\n",
    "        y0=row['tool'], y1=row['tool'],\n",
    "        line=dict(color=colors_licensed[i], width=2)\n",
    "    )\n",
    "\n",
    "fig5.update_layout(\n",
    "    xaxis=dict(\n",
    "        title=\"Responses Identifying Licensed Tool Use\",\n",
    "        tickformat='.0%'\n",
    "    ),\n",
    "    yaxis_title=\"\",\n",
    "    showlegend=False,\n",
    "    plot_bgcolor=\"white\",\n",
    "    paper_bgcolor=\"white\"\n",
    ")\n",
    "fig5.show()\n",
    "fig5.write_html('_static/licensed_tools.html', full_html=False, include_plotlyjs='cdn')"
   ]
  },
  {
   "cell_type": "markdown",
   "id": "6b7a96af",
   "metadata": {},
   "source": [
    "```{raw} html\n",
    ":file: _static/licensed_tools.html\n",
    "```\n",
    "\n",
    "## Usage of Open Source Tools vs. Licensed Tools\n",
    "\n",
    "Additionally, we asked respondents if they use open-source tools more than, as much as, or less than the licensed software provided by the university."
   ]
  },
  {
   "cell_type": "code",
   "execution_count": 8,
   "id": "15dd2b73",
   "metadata": {
    "tags": [
     "remove-input"
    ]
   },
   "outputs": [
    {
     "data": {
      "application/vnd.plotly.v1+json": {
       "config": {
        "plotlyServerURL": "https://plot.ly"
       },
       "data": [
        {
         "hovertemplate": "Respondent Type=Faculty<br>QID40_clean_cat=%{x}<br>Count=%{y}<extra></extra>",
         "legendgroup": "Faculty",
         "marker": {
          "color": "#9B0000",
          "pattern": {
           "shape": ""
          }
         },
         "name": "Faculty",
         "orientation": "v",
         "showlegend": true,
         "textposition": "auto",
         "type": "bar",
         "x": [
          "Use OS more than licensed",
          "About the same",
          "Use OS less than licensed",
          "Use neither"
         ],
         "xaxis": "x",
         "y": {
          "bdata": "PBQbDQ==",
          "dtype": "i1"
         },
         "yaxis": "y"
        },
        {
         "hovertemplate": "Respondent Type=Graduate Student<br>QID40_clean_cat=%{x}<br>Count=%{y}<extra></extra>",
         "legendgroup": "Graduate Student",
         "marker": {
          "color": "#666666",
          "pattern": {
           "shape": ""
          }
         },
         "name": "Graduate Student",
         "orientation": "v",
         "showlegend": true,
         "textposition": "auto",
         "type": "bar",
         "x": [
          "Use OS more than licensed",
          "About the same",
          "Use OS less than licensed",
          "Use neither"
         ],
         "xaxis": "x",
         "y": {
          "bdata": "KQ8IAg==",
          "dtype": "i1"
         },
         "yaxis": "y"
        },
        {
         "hovertemplate": "Respondent Type=Other<br>QID40_clean_cat=%{x}<br>Count=%{y}<extra></extra>",
         "legendgroup": "Other",
         "marker": {
          "color": "#B60205",
          "pattern": {
           "shape": ""
          }
         },
         "name": "Other",
         "orientation": "v",
         "showlegend": true,
         "textposition": "auto",
         "type": "bar",
         "x": [
          "Use OS more than licensed",
          "About the same",
          "Use OS less than licensed",
          "Use neither"
         ],
         "xaxis": "x",
         "y": {
          "bdata": "BQEDAw==",
          "dtype": "i1"
         },
         "yaxis": "y"
        },
        {
         "hovertemplate": "Respondent Type=Postdoc<br>QID40_clean_cat=%{x}<br>Count=%{y}<extra></extra>",
         "legendgroup": "Postdoc",
         "marker": {
          "color": "#8c1515",
          "pattern": {
           "shape": ""
          }
         },
         "name": "Postdoc",
         "orientation": "v",
         "showlegend": true,
         "textposition": "auto",
         "type": "bar",
         "x": [
          "Use OS more than licensed",
          "About the same",
          "Use neither"
         ],
         "xaxis": "x",
         "y": {
          "bdata": "BwEB",
          "dtype": "i1"
         },
         "yaxis": "y"
        },
        {
         "hovertemplate": "Respondent Type=Staff<br>QID40_clean_cat=%{x}<br>Count=%{y}<extra></extra>",
         "legendgroup": "Staff",
         "marker": {
          "color": "#9c9c9c",
          "pattern": {
           "shape": ""
          }
         },
         "name": "Staff",
         "orientation": "v",
         "showlegend": true,
         "textposition": "auto",
         "type": "bar",
         "x": [
          "Use OS more than licensed",
          "About the same",
          "Use OS less than licensed",
          "Use neither"
         ],
         "xaxis": "x",
         "y": {
          "bdata": "PAgXEg==",
          "dtype": "i1"
         },
         "yaxis": "y"
        },
        {
         "hovertemplate": "Respondent Type=Unaffiliated<br>QID40_clean_cat=%{x}<br>Count=%{y}<extra></extra>",
         "legendgroup": "Unaffiliated",
         "marker": {
          "color": "#c2c2c2",
          "pattern": {
           "shape": ""
          }
         },
         "name": "Unaffiliated",
         "orientation": "v",
         "showlegend": true,
         "textposition": "auto",
         "type": "bar",
         "x": [
          "Use OS more than licensed"
         ],
         "xaxis": "x",
         "y": {
          "bdata": "Aw==",
          "dtype": "i1"
         },
         "yaxis": "y"
        },
        {
         "hovertemplate": "Respondent Type=Undergraduate Student<br>QID40_clean_cat=%{x}<br>Count=%{y}<extra></extra>",
         "legendgroup": "Undergraduate Student",
         "marker": {
          "color": "#9B0000",
          "pattern": {
           "shape": ""
          }
         },
         "name": "Undergraduate Student",
         "orientation": "v",
         "showlegend": true,
         "textposition": "auto",
         "type": "bar",
         "x": [
          "Use OS more than licensed",
          "About the same",
          "Use neither"
         ],
         "xaxis": "x",
         "y": {
          "bdata": "BAEB",
          "dtype": "i1"
         },
         "yaxis": "y"
        }
       ],
       "layout": {
        "barmode": "stack",
        "legend": {
         "title": {
          "text": "Respondent Type"
         },
         "tracegroupgap": 0
        },
        "template": {
         "data": {
          "bar": [
           {
            "error_x": {
             "color": "#2a3f5f"
            },
            "error_y": {
             "color": "#2a3f5f"
            },
            "marker": {
             "line": {
              "color": "white",
              "width": 0.5
             },
             "pattern": {
              "fillmode": "overlay",
              "size": 10,
              "solidity": 0.2
             }
            },
            "type": "bar"
           }
          ],
          "barpolar": [
           {
            "marker": {
             "line": {
              "color": "white",
              "width": 0.5
             },
             "pattern": {
              "fillmode": "overlay",
              "size": 10,
              "solidity": 0.2
             }
            },
            "type": "barpolar"
           }
          ],
          "carpet": [
           {
            "aaxis": {
             "endlinecolor": "#2a3f5f",
             "gridcolor": "#C8D4E3",
             "linecolor": "#C8D4E3",
             "minorgridcolor": "#C8D4E3",
             "startlinecolor": "#2a3f5f"
            },
            "baxis": {
             "endlinecolor": "#2a3f5f",
             "gridcolor": "#C8D4E3",
             "linecolor": "#C8D4E3",
             "minorgridcolor": "#C8D4E3",
             "startlinecolor": "#2a3f5f"
            },
            "type": "carpet"
           }
          ],
          "choropleth": [
           {
            "colorbar": {
             "outlinewidth": 0,
             "ticks": ""
            },
            "type": "choropleth"
           }
          ],
          "contour": [
           {
            "colorbar": {
             "outlinewidth": 0,
             "ticks": ""
            },
            "colorscale": [
             [
              0.0,
              "#0d0887"
             ],
             [
              0.1111111111111111,
              "#46039f"
             ],
             [
              0.2222222222222222,
              "#7201a8"
             ],
             [
              0.3333333333333333,
              "#9c179e"
             ],
             [
              0.4444444444444444,
              "#bd3786"
             ],
             [
              0.5555555555555556,
              "#d8576b"
             ],
             [
              0.6666666666666666,
              "#ed7953"
             ],
             [
              0.7777777777777778,
              "#fb9f3a"
             ],
             [
              0.8888888888888888,
              "#fdca26"
             ],
             [
              1.0,
              "#f0f921"
             ]
            ],
            "type": "contour"
           }
          ],
          "contourcarpet": [
           {
            "colorbar": {
             "outlinewidth": 0,
             "ticks": ""
            },
            "type": "contourcarpet"
           }
          ],
          "heatmap": [
           {
            "colorbar": {
             "outlinewidth": 0,
             "ticks": ""
            },
            "colorscale": [
             [
              0.0,
              "#0d0887"
             ],
             [
              0.1111111111111111,
              "#46039f"
             ],
             [
              0.2222222222222222,
              "#7201a8"
             ],
             [
              0.3333333333333333,
              "#9c179e"
             ],
             [
              0.4444444444444444,
              "#bd3786"
             ],
             [
              0.5555555555555556,
              "#d8576b"
             ],
             [
              0.6666666666666666,
              "#ed7953"
             ],
             [
              0.7777777777777778,
              "#fb9f3a"
             ],
             [
              0.8888888888888888,
              "#fdca26"
             ],
             [
              1.0,
              "#f0f921"
             ]
            ],
            "type": "heatmap"
           }
          ],
          "histogram": [
           {
            "marker": {
             "pattern": {
              "fillmode": "overlay",
              "size": 10,
              "solidity": 0.2
             }
            },
            "type": "histogram"
           }
          ],
          "histogram2d": [
           {
            "colorbar": {
             "outlinewidth": 0,
             "ticks": ""
            },
            "colorscale": [
             [
              0.0,
              "#0d0887"
             ],
             [
              0.1111111111111111,
              "#46039f"
             ],
             [
              0.2222222222222222,
              "#7201a8"
             ],
             [
              0.3333333333333333,
              "#9c179e"
             ],
             [
              0.4444444444444444,
              "#bd3786"
             ],
             [
              0.5555555555555556,
              "#d8576b"
             ],
             [
              0.6666666666666666,
              "#ed7953"
             ],
             [
              0.7777777777777778,
              "#fb9f3a"
             ],
             [
              0.8888888888888888,
              "#fdca26"
             ],
             [
              1.0,
              "#f0f921"
             ]
            ],
            "type": "histogram2d"
           }
          ],
          "histogram2dcontour": [
           {
            "colorbar": {
             "outlinewidth": 0,
             "ticks": ""
            },
            "colorscale": [
             [
              0.0,
              "#0d0887"
             ],
             [
              0.1111111111111111,
              "#46039f"
             ],
             [
              0.2222222222222222,
              "#7201a8"
             ],
             [
              0.3333333333333333,
              "#9c179e"
             ],
             [
              0.4444444444444444,
              "#bd3786"
             ],
             [
              0.5555555555555556,
              "#d8576b"
             ],
             [
              0.6666666666666666,
              "#ed7953"
             ],
             [
              0.7777777777777778,
              "#fb9f3a"
             ],
             [
              0.8888888888888888,
              "#fdca26"
             ],
             [
              1.0,
              "#f0f921"
             ]
            ],
            "type": "histogram2dcontour"
           }
          ],
          "mesh3d": [
           {
            "colorbar": {
             "outlinewidth": 0,
             "ticks": ""
            },
            "type": "mesh3d"
           }
          ],
          "parcoords": [
           {
            "line": {
             "colorbar": {
              "outlinewidth": 0,
              "ticks": ""
             }
            },
            "type": "parcoords"
           }
          ],
          "pie": [
           {
            "automargin": true,
            "type": "pie"
           }
          ],
          "scatter": [
           {
            "fillpattern": {
             "fillmode": "overlay",
             "size": 10,
             "solidity": 0.2
            },
            "type": "scatter"
           }
          ],
          "scatter3d": [
           {
            "line": {
             "colorbar": {
              "outlinewidth": 0,
              "ticks": ""
             }
            },
            "marker": {
             "colorbar": {
              "outlinewidth": 0,
              "ticks": ""
             }
            },
            "type": "scatter3d"
           }
          ],
          "scattercarpet": [
           {
            "marker": {
             "colorbar": {
              "outlinewidth": 0,
              "ticks": ""
             }
            },
            "type": "scattercarpet"
           }
          ],
          "scattergeo": [
           {
            "marker": {
             "colorbar": {
              "outlinewidth": 0,
              "ticks": ""
             }
            },
            "type": "scattergeo"
           }
          ],
          "scattergl": [
           {
            "marker": {
             "colorbar": {
              "outlinewidth": 0,
              "ticks": ""
             }
            },
            "type": "scattergl"
           }
          ],
          "scattermap": [
           {
            "marker": {
             "colorbar": {
              "outlinewidth": 0,
              "ticks": ""
             }
            },
            "type": "scattermap"
           }
          ],
          "scattermapbox": [
           {
            "marker": {
             "colorbar": {
              "outlinewidth": 0,
              "ticks": ""
             }
            },
            "type": "scattermapbox"
           }
          ],
          "scatterpolar": [
           {
            "marker": {
             "colorbar": {
              "outlinewidth": 0,
              "ticks": ""
             }
            },
            "type": "scatterpolar"
           }
          ],
          "scatterpolargl": [
           {
            "marker": {
             "colorbar": {
              "outlinewidth": 0,
              "ticks": ""
             }
            },
            "type": "scatterpolargl"
           }
          ],
          "scatterternary": [
           {
            "marker": {
             "colorbar": {
              "outlinewidth": 0,
              "ticks": ""
             }
            },
            "type": "scatterternary"
           }
          ],
          "surface": [
           {
            "colorbar": {
             "outlinewidth": 0,
             "ticks": ""
            },
            "colorscale": [
             [
              0.0,
              "#0d0887"
             ],
             [
              0.1111111111111111,
              "#46039f"
             ],
             [
              0.2222222222222222,
              "#7201a8"
             ],
             [
              0.3333333333333333,
              "#9c179e"
             ],
             [
              0.4444444444444444,
              "#bd3786"
             ],
             [
              0.5555555555555556,
              "#d8576b"
             ],
             [
              0.6666666666666666,
              "#ed7953"
             ],
             [
              0.7777777777777778,
              "#fb9f3a"
             ],
             [
              0.8888888888888888,
              "#fdca26"
             ],
             [
              1.0,
              "#f0f921"
             ]
            ],
            "type": "surface"
           }
          ],
          "table": [
           {
            "cells": {
             "fill": {
              "color": "#EBF0F8"
             },
             "line": {
              "color": "white"
             }
            },
            "header": {
             "fill": {
              "color": "#C8D4E3"
             },
             "line": {
              "color": "white"
             }
            },
            "type": "table"
           }
          ]
         },
         "layout": {
          "annotationdefaults": {
           "arrowcolor": "#2a3f5f",
           "arrowhead": 0,
           "arrowwidth": 1
          },
          "autotypenumbers": "strict",
          "coloraxis": {
           "colorbar": {
            "outlinewidth": 0,
            "ticks": ""
           }
          },
          "colorscale": {
           "diverging": [
            [
             0,
             "#8e0152"
            ],
            [
             0.1,
             "#c51b7d"
            ],
            [
             0.2,
             "#de77ae"
            ],
            [
             0.3,
             "#f1b6da"
            ],
            [
             0.4,
             "#fde0ef"
            ],
            [
             0.5,
             "#f7f7f7"
            ],
            [
             0.6,
             "#e6f5d0"
            ],
            [
             0.7,
             "#b8e186"
            ],
            [
             0.8,
             "#7fbc41"
            ],
            [
             0.9,
             "#4d9221"
            ],
            [
             1,
             "#276419"
            ]
           ],
           "sequential": [
            [
             0.0,
             "#0d0887"
            ],
            [
             0.1111111111111111,
             "#46039f"
            ],
            [
             0.2222222222222222,
             "#7201a8"
            ],
            [
             0.3333333333333333,
             "#9c179e"
            ],
            [
             0.4444444444444444,
             "#bd3786"
            ],
            [
             0.5555555555555556,
             "#d8576b"
            ],
            [
             0.6666666666666666,
             "#ed7953"
            ],
            [
             0.7777777777777778,
             "#fb9f3a"
            ],
            [
             0.8888888888888888,
             "#fdca26"
            ],
            [
             1.0,
             "#f0f921"
            ]
           ],
           "sequentialminus": [
            [
             0.0,
             "#0d0887"
            ],
            [
             0.1111111111111111,
             "#46039f"
            ],
            [
             0.2222222222222222,
             "#7201a8"
            ],
            [
             0.3333333333333333,
             "#9c179e"
            ],
            [
             0.4444444444444444,
             "#bd3786"
            ],
            [
             0.5555555555555556,
             "#d8576b"
            ],
            [
             0.6666666666666666,
             "#ed7953"
            ],
            [
             0.7777777777777778,
             "#fb9f3a"
            ],
            [
             0.8888888888888888,
             "#fdca26"
            ],
            [
             1.0,
             "#f0f921"
            ]
           ]
          },
          "colorway": [
           "#9B0000",
           "#666666",
           "#B60205",
           "#8c1515",
           "#9c9c9c",
           "#c2c2c2"
          ],
          "font": {
           "color": "#2a3f5f",
           "family": "Red Hat Text, Arial, sans-serif"
          },
          "geo": {
           "bgcolor": "white",
           "lakecolor": "white",
           "landcolor": "white",
           "showlakes": true,
           "showland": true,
           "subunitcolor": "#C8D4E3"
          },
          "hoverlabel": {
           "align": "left"
          },
          "hovermode": "closest",
          "legend": {
           "bgcolor": "rgba(0,0,0,0)"
          },
          "mapbox": {
           "style": "light"
          },
          "margin": {
           "b": 40,
           "l": 40,
           "r": 20,
           "t": 60
          },
          "paper_bgcolor": "#F7F7F7",
          "plot_bgcolor": "#F7F7F7",
          "polar": {
           "angularaxis": {
            "gridcolor": "#EBF0F8",
            "linecolor": "#EBF0F8",
            "ticks": ""
           },
           "bgcolor": "white",
           "radialaxis": {
            "gridcolor": "#EBF0F8",
            "linecolor": "#EBF0F8",
            "ticks": ""
           }
          },
          "scene": {
           "xaxis": {
            "backgroundcolor": "white",
            "gridcolor": "#DFE8F3",
            "gridwidth": 2,
            "linecolor": "#EBF0F8",
            "showbackground": true,
            "ticks": "",
            "zerolinecolor": "#EBF0F8"
           },
           "yaxis": {
            "backgroundcolor": "white",
            "gridcolor": "#DFE8F3",
            "gridwidth": 2,
            "linecolor": "#EBF0F8",
            "showbackground": true,
            "ticks": "",
            "zerolinecolor": "#EBF0F8"
           },
           "zaxis": {
            "backgroundcolor": "white",
            "gridcolor": "#DFE8F3",
            "gridwidth": 2,
            "linecolor": "#EBF0F8",
            "showbackground": true,
            "ticks": "",
            "zerolinecolor": "#EBF0F8"
           }
          },
          "shapedefaults": {
           "line": {
            "color": "#2a3f5f"
           }
          },
          "ternary": {
           "aaxis": {
            "gridcolor": "#DFE8F3",
            "linecolor": "#A2B1C6",
            "ticks": ""
           },
           "baxis": {
            "gridcolor": "#DFE8F3",
            "linecolor": "#A2B1C6",
            "ticks": ""
           },
           "bgcolor": "white",
           "caxis": {
            "gridcolor": "#DFE8F3",
            "linecolor": "#A2B1C6",
            "ticks": ""
           }
          },
          "title": {
           "x": 0.01,
           "xanchor": "left"
          },
          "xaxis": {
           "automargin": true,
           "gridcolor": "#e9e9e9",
           "linecolor": "#EBF0F8",
           "ticks": "",
           "title": {
            "standoff": 15
           },
           "zeroline": false,
           "zerolinecolor": "#EBF0F8",
           "zerolinewidth": 2
          },
          "yaxis": {
           "automargin": true,
           "gridcolor": "#e9e9e9",
           "linecolor": "#EBF0F8",
           "ticks": "",
           "title": {
            "standoff": 15
           },
           "zeroline": false,
           "zerolinecolor": "#EBF0F8",
           "zerolinewidth": 2
          }
         }
        },
        "xaxis": {
         "anchor": "y",
         "categoryarray": [
          "Use OS more than licensed",
          "About the same",
          "Use OS less than licensed",
          "Use neither"
         ],
         "categoryorder": "array",
         "domain": [
          0.0,
          1.0
         ],
         "title": {
          "text": ""
         }
        },
        "yaxis": {
         "anchor": "x",
         "domain": [
          0.0,
          1.0
         ],
         "title": {
          "text": "Count"
         }
        }
       }
      }
     },
     "metadata": {},
     "output_type": "display_data"
    }
   ],
   "source": [
    "# Clean and categorize usage comparison responses\n",
    "usage_mapping = {\n",
    "    'I use open source software much more than the licensed software in CSL': 'Use OS more than licensed',\n",
    "    'I use open source software much less than the licensed software in CSL': 'Use OS less than licensed', \n",
    "    'I use open source software about the same as the licensed software in CSL': 'About the same',\n",
    "    'N/A, I don\\'t use either': 'Use neither'\n",
    "}\n",
    "\n",
    "usage_order = [\n",
    "    'Use OS more than licensed',\n",
    "    'About the same',\n",
    "    'Use OS less than licensed', \n",
    "    'Use neither'\n",
    "]\n",
    "\n",
    "df_u1 = (\n",
    "    df.assign(\n",
    "        QID4=df[\"QID4\"].map(fill_unaffiliated),\n",
    "        QID40_clean=df[\"QID40\"].map(lambda x: usage_mapping.get(x, x)),\n",
    "        QID40_clean_cat=pd.Categorical(\n",
    "            df[\"QID40\"].map(lambda x: usage_mapping.get(x, x)), \n",
    "            categories=usage_order, \n",
    "            ordered=True\n",
    "        )\n",
    "    )\n",
    "    .rename(columns={\"QID4\": \"Respondent Type\"})\n",
    ")\n",
    "\n",
    "u1_df = (\n",
    "    df_u1.groupby([\"QID40_clean_cat\", \"Respondent Type\"], \n",
    "            observed=True, dropna=False)\n",
    "         .size()\n",
    "         .reset_index(name=\"Count\")\n",
    ")\n",
    "\n",
    "fig6 = px.bar(\n",
    "    u1_df,\n",
    "    x=\"QID40_clean_cat\",\n",
    "    y=\"Count\",\n",
    "    color=\"Respondent Type\",   # <- will use template colorway\n",
    "    barmode=\"stack\",\n",
    "    category_orders={\"QID40_clean_cat\": usage_order}  # keep your order\n",
    ")\n",
    "fig6.update_layout(\n",
    "    xaxis_title=\"\"\n",
    ")\n",
    "fig6.show()\n",
    "fig6.write_html('_static/usage_comparison.html', full_html=False, include_plotlyjs='cdn')"
   ]
  },
  {
   "cell_type": "markdown",
   "id": "dd8787ff",
   "metadata": {},
   "source": [
    "```{raw} html\n",
    ":file: _static/usage_comparison.html\n",
    "```"
   ]
  }
 ],
 "metadata": {
  "jupytext": {
   "text_representation": {
    "format_name": "myst"
   }
  },
  "kernelspec": {
   "display_name": "Python 3",
   "language": "python",
   "name": "python3"
  },
  "language_info": {
   "codemirror_mode": {
    "name": "ipython",
    "version": 3
   },
   "file_extension": ".py",
   "mimetype": "text/x-python",
   "name": "python",
   "nbconvert_exporter": "python",
   "pygments_lexer": "ipython3",
   "version": "3.13.7"
  },
  "source_map": [
   10,
   16,
   32,
   36,
   94,
   99,
   114,
   122,
   137,
   145,
   160,
   172,
   249,
   263,
   321,
   331,
   381
  ],
  "title": "Usage"
 },
 "nbformat": 4,
 "nbformat_minor": 5
}