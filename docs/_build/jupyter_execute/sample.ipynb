{
 "cells": [
  {
   "cell_type": "markdown",
   "id": "d7f2f1b7",
   "metadata": {},
   "source": [
    "# Demographics"
   ]
  },
  {
   "cell_type": "code",
   "execution_count": 1,
   "id": "a64f9f19",
   "metadata": {
    "tags": [
     "remove-input"
    ]
   },
   "outputs": [
    {
     "ename": "ValueError",
     "evalue": "\n    Invalid value of type 'builtins.str' received for the 'textposition' property of treemap\n        Received value: 'middle'\n\n    The 'textposition' property is an enumeration that may be specified as:\n      - One of the following enumeration values:\n            ['top left', 'top center', 'top right', 'middle left',\n            'middle center', 'middle right', 'bottom left', 'bottom\n            center', 'bottom right']",
     "output_type": "error",
     "traceback": [
      "\u001b[31m---------------------------------------------------------------------------\u001b[39m",
      "\u001b[31mValueError\u001b[39m                                Traceback (most recent call last)",
      "\u001b[36mCell\u001b[39m\u001b[36m \u001b[39m\u001b[32mIn[1]\u001b[39m\u001b[32m, line 68\u001b[39m\n\u001b[32m     64\u001b[39m plot_df[\u001b[33m\"\u001b[39m\u001b[33mn\u001b[39m\u001b[33m\"\u001b[39m] = plot_df[\u001b[33m\"\u001b[39m\u001b[33mn\u001b[39m\u001b[33m\"\u001b[39m].astype(\u001b[38;5;28mfloat\u001b[39m)\n\u001b[32m     66\u001b[39m \u001b[38;5;66;03m# 4) Treemap\u001b[39;00m\n\u001b[32m     67\u001b[39m fig = go.Figure(\n\u001b[32m---> \u001b[39m\u001b[32m68\u001b[39m     \u001b[43mgo\u001b[49m\u001b[43m.\u001b[49m\u001b[43mTreemap\u001b[49m\u001b[43m(\u001b[49m\n\u001b[32m     69\u001b[39m \u001b[43m        \u001b[49m\u001b[43mlabels\u001b[49m\u001b[43m=\u001b[49m\u001b[43mplot_df\u001b[49m\u001b[43m[\u001b[49m\u001b[33;43m\"\u001b[39;49m\u001b[33;43mdivision\u001b[39;49m\u001b[33;43m\"\u001b[39;49m\u001b[43m]\u001b[49m\u001b[43m,\u001b[49m\n\u001b[32m     70\u001b[39m \u001b[43m        \u001b[49m\u001b[43mparents\u001b[49m\u001b[43m=\u001b[49m\u001b[43mplot_df\u001b[49m\u001b[43m[\u001b[49m\u001b[33;43m\"\u001b[39;49m\u001b[33;43mtype\u001b[39;49m\u001b[33;43m\"\u001b[39;49m\u001b[43m]\u001b[49m\u001b[43m,\u001b[49m\n\u001b[32m     71\u001b[39m \u001b[43m        \u001b[49m\u001b[43mids\u001b[49m\u001b[43m=\u001b[49m\u001b[43mplot_df\u001b[49m\u001b[43m[\u001b[49m\u001b[33;43m\"\u001b[39;49m\u001b[33;43mids\u001b[39;49m\u001b[33;43m\"\u001b[39;49m\u001b[43m]\u001b[49m\u001b[43m,\u001b[49m\n\u001b[32m     72\u001b[39m \u001b[43m        \u001b[49m\u001b[43mvalues\u001b[49m\u001b[43m=\u001b[49m\u001b[43mplot_df\u001b[49m\u001b[43m[\u001b[49m\u001b[33;43m\"\u001b[39;49m\u001b[33;43mn\u001b[39;49m\u001b[33;43m\"\u001b[39;49m\u001b[43m]\u001b[49m\u001b[43m,\u001b[49m\n\u001b[32m     73\u001b[39m \u001b[43m        \u001b[49m\u001b[43mbranchvalues\u001b[49m\u001b[43m=\u001b[49m\u001b[33;43m\"\u001b[39;49m\u001b[33;43mtotal\u001b[39;49m\u001b[33;43m\"\u001b[39;49m\u001b[43m,\u001b[49m\n\u001b[32m     74\u001b[39m \u001b[43m        \u001b[49m\u001b[43mhoverinfo\u001b[49m\u001b[43m=\u001b[49m\u001b[33;43m\"\u001b[39;49m\u001b[33;43mtext\u001b[39;49m\u001b[33;43m\"\u001b[39;49m\u001b[43m,\u001b[49m\n\u001b[32m     75\u001b[39m \u001b[43m        \u001b[49m\u001b[43mhovertemplate\u001b[49m\u001b[43m=\u001b[49m\u001b[33;43m\"\u001b[39;49m\u001b[33;43m<b>\u001b[39;49m\u001b[33;43m%\u001b[39;49m\u001b[38;5;132;43;01m{parent}\u001b[39;49;00m\u001b[33;43m</b><br>Type: \u001b[39;49m\u001b[33;43m%\u001b[39;49m\u001b[38;5;132;43;01m{label}\u001b[39;49;00m\u001b[33;43m<br>Responses: \u001b[39;49m\u001b[33;43m%\u001b[39;49m\u001b[38;5;132;43;01m{value}\u001b[39;49;00m\u001b[33;43m<extra></extra>\u001b[39;49m\u001b[33;43m\"\u001b[39;49m\u001b[43m,\u001b[49m\n\u001b[32m     76\u001b[39m \u001b[43m        \u001b[49m\u001b[43mtextposition\u001b[49m\u001b[43m=\u001b[49m\u001b[33;43m\"\u001b[39;49m\u001b[33;43mmiddle\u001b[39;49m\u001b[33;43m\"\u001b[39;49m\u001b[43m,\u001b[49m\n\u001b[32m     77\u001b[39m \u001b[43m        \u001b[49m\u001b[43mtextfont\u001b[49m\u001b[43m=\u001b[49m\u001b[38;5;28;43mdict\u001b[39;49m\u001b[43m(\u001b[49m\u001b[43msize\u001b[49m\u001b[43m=\u001b[49m\u001b[32;43m14\u001b[39;49m\u001b[43m)\u001b[49m\u001b[43m,\u001b[49m\n\u001b[32m     78\u001b[39m \u001b[43m    \u001b[49m\u001b[43m)\u001b[49m\n\u001b[32m     79\u001b[39m )\n\u001b[32m     81\u001b[39m fig.update_layout(\n\u001b[32m     82\u001b[39m     title=\u001b[33m\"\u001b[39m\u001b[33mSurvey Respondents\u001b[39m\u001b[33m\"\u001b[39m,\n\u001b[32m     83\u001b[39m     plot_bgcolor=BACKGROUND_COLOR,\n\u001b[32m     84\u001b[39m     paper_bgcolor=BACKGROUND_COLOR,\n\u001b[32m     85\u001b[39m     margin=\u001b[38;5;28mdict\u001b[39m(t=\u001b[32m60\u001b[39m, l=\u001b[32m0\u001b[39m, r=\u001b[32m0\u001b[39m, b=\u001b[32m0\u001b[39m)\n\u001b[32m     86\u001b[39m )\n\u001b[32m     88\u001b[39m fig.show()\n",
      "\u001b[36mFile \u001b[39m\u001b[32m~/Documents/DSI/2026/open_source_survey_results_myst/venv/lib/python3.13/site-packages/plotly/graph_objs/_treemap.py:1726\u001b[39m, in \u001b[36mTreemap.__init__\u001b[39m\u001b[34m(self, arg, branchvalues, count, customdata, customdatasrc, domain, hoverinfo, hoverinfosrc, hoverlabel, hovertemplate, hovertemplatesrc, hovertext, hovertextsrc, ids, idssrc, insidetextfont, labels, labelssrc, legend, legendgrouptitle, legendrank, legendwidth, level, marker, maxdepth, meta, metasrc, name, opacity, outsidetextfont, parents, parentssrc, pathbar, root, sort, stream, text, textfont, textinfo, textposition, textsrc, texttemplate, texttemplatesrc, tiling, uid, uirevision, values, valuessrc, visible, **kwargs)\u001b[39m\n\u001b[32m   1724\u001b[39m \u001b[38;5;28mself\u001b[39m._set_property(\u001b[33m\"\u001b[39m\u001b[33mtextfont\u001b[39m\u001b[33m\"\u001b[39m, arg, textfont)\n\u001b[32m   1725\u001b[39m \u001b[38;5;28mself\u001b[39m._set_property(\u001b[33m\"\u001b[39m\u001b[33mtextinfo\u001b[39m\u001b[33m\"\u001b[39m, arg, textinfo)\n\u001b[32m-> \u001b[39m\u001b[32m1726\u001b[39m \u001b[38;5;28;43mself\u001b[39;49m\u001b[43m.\u001b[49m\u001b[43m_set_property\u001b[49m\u001b[43m(\u001b[49m\u001b[33;43m\"\u001b[39;49m\u001b[33;43mtextposition\u001b[39;49m\u001b[33;43m\"\u001b[39;49m\u001b[43m,\u001b[49m\u001b[43m \u001b[49m\u001b[43marg\u001b[49m\u001b[43m,\u001b[49m\u001b[43m \u001b[49m\u001b[43mtextposition\u001b[49m\u001b[43m)\u001b[49m\n\u001b[32m   1727\u001b[39m \u001b[38;5;28mself\u001b[39m._set_property(\u001b[33m\"\u001b[39m\u001b[33mtextsrc\u001b[39m\u001b[33m\"\u001b[39m, arg, textsrc)\n\u001b[32m   1728\u001b[39m \u001b[38;5;28mself\u001b[39m._set_property(\u001b[33m\"\u001b[39m\u001b[33mtexttemplate\u001b[39m\u001b[33m\"\u001b[39m, arg, texttemplate)\n",
      "\u001b[36mFile \u001b[39m\u001b[32m~/Documents/DSI/2026/open_source_survey_results_myst/venv/lib/python3.13/site-packages/plotly/basedatatypes.py:4403\u001b[39m, in \u001b[36mBasePlotlyType._set_property\u001b[39m\u001b[34m(self, name, arg, provided)\u001b[39m\n\u001b[32m   4397\u001b[39m \u001b[38;5;28;01mdef\u001b[39;00m\u001b[38;5;250m \u001b[39m\u001b[34m_set_property\u001b[39m(\u001b[38;5;28mself\u001b[39m, name, arg, provided):\n\u001b[32m   4398\u001b[39m \u001b[38;5;250m    \u001b[39m\u001b[33;03m\"\"\"\u001b[39;00m\n\u001b[32m   4399\u001b[39m \u001b[33;03m    Initialize a property of this object using the provided value\u001b[39;00m\n\u001b[32m   4400\u001b[39m \u001b[33;03m    or a value popped from the arguments dictionary. If neither\u001b[39;00m\n\u001b[32m   4401\u001b[39m \u001b[33;03m    is available, do not set the property.\u001b[39;00m\n\u001b[32m   4402\u001b[39m \u001b[33;03m    \"\"\"\u001b[39;00m\n\u001b[32m-> \u001b[39m\u001b[32m4403\u001b[39m     \u001b[43m_set_property_provided_value\u001b[49m\u001b[43m(\u001b[49m\u001b[38;5;28;43mself\u001b[39;49m\u001b[43m,\u001b[49m\u001b[43m \u001b[49m\u001b[43mname\u001b[49m\u001b[43m,\u001b[49m\u001b[43m \u001b[49m\u001b[43marg\u001b[49m\u001b[43m,\u001b[49m\u001b[43m \u001b[49m\u001b[43mprovided\u001b[49m\u001b[43m)\u001b[49m\n",
      "\u001b[36mFile \u001b[39m\u001b[32m~/Documents/DSI/2026/open_source_survey_results_myst/venv/lib/python3.13/site-packages/plotly/basedatatypes.py:398\u001b[39m, in \u001b[36m_set_property_provided_value\u001b[39m\u001b[34m(obj, name, arg, provided)\u001b[39m\n\u001b[32m    396\u001b[39m val = provided \u001b[38;5;28;01mif\u001b[39;00m provided \u001b[38;5;129;01mis\u001b[39;00m \u001b[38;5;129;01mnot\u001b[39;00m \u001b[38;5;28;01mNone\u001b[39;00m \u001b[38;5;28;01melse\u001b[39;00m val\n\u001b[32m    397\u001b[39m \u001b[38;5;28;01mif\u001b[39;00m val \u001b[38;5;129;01mis\u001b[39;00m \u001b[38;5;129;01mnot\u001b[39;00m \u001b[38;5;28;01mNone\u001b[39;00m:\n\u001b[32m--> \u001b[39m\u001b[32m398\u001b[39m     \u001b[43mobj\u001b[49m\u001b[43m[\u001b[49m\u001b[43mname\u001b[49m\u001b[43m]\u001b[49m = val\n",
      "\u001b[36mFile \u001b[39m\u001b[32m~/Documents/DSI/2026/open_source_survey_results_myst/venv/lib/python3.13/site-packages/plotly/basedatatypes.py:4932\u001b[39m, in \u001b[36mBasePlotlyType.__setitem__\u001b[39m\u001b[34m(self, prop, value)\u001b[39m\n\u001b[32m   4928\u001b[39m         \u001b[38;5;28mself\u001b[39m._set_array_prop(prop, value)\n\u001b[32m   4930\u001b[39m     \u001b[38;5;66;03m# ### Handle simple property ###\u001b[39;00m\n\u001b[32m   4931\u001b[39m     \u001b[38;5;28;01melse\u001b[39;00m:\n\u001b[32m-> \u001b[39m\u001b[32m4932\u001b[39m         \u001b[38;5;28;43mself\u001b[39;49m\u001b[43m.\u001b[49m\u001b[43m_set_prop\u001b[49m\u001b[43m(\u001b[49m\u001b[43mprop\u001b[49m\u001b[43m,\u001b[49m\u001b[43m \u001b[49m\u001b[43mvalue\u001b[49m\u001b[43m)\u001b[49m\n\u001b[32m   4933\u001b[39m \u001b[38;5;28;01melse\u001b[39;00m:\n\u001b[32m   4934\u001b[39m     \u001b[38;5;66;03m# Make sure properties dict is initialized\u001b[39;00m\n\u001b[32m   4935\u001b[39m     \u001b[38;5;28mself\u001b[39m._init_props()\n",
      "\u001b[36mFile \u001b[39m\u001b[32m~/Documents/DSI/2026/open_source_survey_results_myst/venv/lib/python3.13/site-packages/plotly/basedatatypes.py:5276\u001b[39m, in \u001b[36mBasePlotlyType._set_prop\u001b[39m\u001b[34m(self, prop, val)\u001b[39m\n\u001b[32m   5274\u001b[39m         \u001b[38;5;28;01mreturn\u001b[39;00m\n\u001b[32m   5275\u001b[39m     \u001b[38;5;28;01melse\u001b[39;00m:\n\u001b[32m-> \u001b[39m\u001b[32m5276\u001b[39m         \u001b[38;5;28;01mraise\u001b[39;00m err\n\u001b[32m   5278\u001b[39m \u001b[38;5;66;03m# val is None\u001b[39;00m\n\u001b[32m   5279\u001b[39m \u001b[38;5;66;03m# -----------\u001b[39;00m\n\u001b[32m   5280\u001b[39m \u001b[38;5;28;01mif\u001b[39;00m val \u001b[38;5;129;01mis\u001b[39;00m \u001b[38;5;28;01mNone\u001b[39;00m:\n\u001b[32m   5281\u001b[39m     \u001b[38;5;66;03m# Check if we should send null update\u001b[39;00m\n",
      "\u001b[36mFile \u001b[39m\u001b[32m~/Documents/DSI/2026/open_source_survey_results_myst/venv/lib/python3.13/site-packages/plotly/basedatatypes.py:5271\u001b[39m, in \u001b[36mBasePlotlyType._set_prop\u001b[39m\u001b[34m(self, prop, val)\u001b[39m\n\u001b[32m   5268\u001b[39m validator = \u001b[38;5;28mself\u001b[39m._get_validator(prop)\n\u001b[32m   5270\u001b[39m \u001b[38;5;28;01mtry\u001b[39;00m:\n\u001b[32m-> \u001b[39m\u001b[32m5271\u001b[39m     val = \u001b[43mvalidator\u001b[49m\u001b[43m.\u001b[49m\u001b[43mvalidate_coerce\u001b[49m\u001b[43m(\u001b[49m\u001b[43mval\u001b[49m\u001b[43m)\u001b[49m\n\u001b[32m   5272\u001b[39m \u001b[38;5;28;01mexcept\u001b[39;00m \u001b[38;5;167;01mValueError\u001b[39;00m \u001b[38;5;28;01mas\u001b[39;00m err:\n\u001b[32m   5273\u001b[39m     \u001b[38;5;28;01mif\u001b[39;00m \u001b[38;5;28mself\u001b[39m._skip_invalid:\n",
      "\u001b[36mFile \u001b[39m\u001b[32m~/Documents/DSI/2026/open_source_survey_results_myst/venv/lib/python3.13/site-packages/_plotly_utils/basevalidators.py:611\u001b[39m, in \u001b[36mEnumeratedValidator.validate_coerce\u001b[39m\u001b[34m(self, v)\u001b[39m\n\u001b[32m    609\u001b[39m     v = \u001b[38;5;28mself\u001b[39m.perform_replacemenet(v)\n\u001b[32m    610\u001b[39m     \u001b[38;5;28;01mif\u001b[39;00m \u001b[38;5;129;01mnot\u001b[39;00m \u001b[38;5;28mself\u001b[39m.in_values(v):\n\u001b[32m--> \u001b[39m\u001b[32m611\u001b[39m         \u001b[38;5;28;43mself\u001b[39;49m\u001b[43m.\u001b[49m\u001b[43mraise_invalid_val\u001b[49m\u001b[43m(\u001b[49m\u001b[43mv\u001b[49m\u001b[43m)\u001b[49m\n\u001b[32m    612\u001b[39m \u001b[38;5;28;01mreturn\u001b[39;00m v\n",
      "\u001b[36mFile \u001b[39m\u001b[32m~/Documents/DSI/2026/open_source_survey_results_myst/venv/lib/python3.13/site-packages/_plotly_utils/basevalidators.py:298\u001b[39m, in \u001b[36mBaseValidator.raise_invalid_val\u001b[39m\u001b[34m(self, v, inds)\u001b[39m\n\u001b[32m    295\u001b[39m             \u001b[38;5;28;01mfor\u001b[39;00m i \u001b[38;5;129;01min\u001b[39;00m inds:\n\u001b[32m    296\u001b[39m                 name += \u001b[33m\"\u001b[39m\u001b[33m[\u001b[39m\u001b[33m\"\u001b[39m + \u001b[38;5;28mstr\u001b[39m(i) + \u001b[33m\"\u001b[39m\u001b[33m]\u001b[39m\u001b[33m\"\u001b[39m\n\u001b[32m--> \u001b[39m\u001b[32m298\u001b[39m         \u001b[38;5;28;01mraise\u001b[39;00m \u001b[38;5;167;01mValueError\u001b[39;00m(\n\u001b[32m    299\u001b[39m \u001b[38;5;250m            \u001b[39m\u001b[33;03m\"\"\"\u001b[39;00m\n\u001b[32m    300\u001b[39m \u001b[33;03m    Invalid value of type {typ} received for the '{name}' property of {pname}\u001b[39;00m\n\u001b[32m    301\u001b[39m \u001b[33;03m        Received value: {v}\u001b[39;00m\n\u001b[32m    302\u001b[39m \n\u001b[32m    303\u001b[39m \u001b[33;03m{valid_clr_desc}\"\"\"\u001b[39;00m.format(\n\u001b[32m    304\u001b[39m                 name=name,\n\u001b[32m    305\u001b[39m                 pname=\u001b[38;5;28mself\u001b[39m.parent_name,\n\u001b[32m    306\u001b[39m                 typ=type_str(v),\n\u001b[32m    307\u001b[39m                 v=\u001b[38;5;28mrepr\u001b[39m(v),\n\u001b[32m    308\u001b[39m                 valid_clr_desc=\u001b[38;5;28mself\u001b[39m.description(),\n\u001b[32m    309\u001b[39m             )\n\u001b[32m    310\u001b[39m         )\n",
      "\u001b[31mValueError\u001b[39m: \n    Invalid value of type 'builtins.str' received for the 'textposition' property of treemap\n        Received value: 'middle'\n\n    The 'textposition' property is an enumeration that may be specified as:\n      - One of the following enumeration values:\n            ['top left', 'top center', 'top right', 'middle left',\n            'middle center', 'middle right', 'bottom left', 'bottom\n            center', 'bottom right']"
     ]
    }
   ],
   "source": [
    "# Imports\n",
    "import pandas as pd\n",
    "import plotly.express as px\n",
    "import plotly.graph_objects as go\n",
    "from pathlib import Path\n",
    "import plotly.io as pio\n",
    "import matplotlib as mpl\n",
    "import numpy as np\n",
    "from collections import Counter\n",
    "import re\n",
    "from myst_nb import glue\n",
    "from setup import *\n",
    "\n",
    "df = survey_results\n",
    "\n",
    "import pandas as pd\n",
    "import numpy as np\n",
    "import plotly.graph_objects as go\n",
    "\n",
    "# --- Inputs ---\n",
    "# survey_results: your DataFrame with columns QID4 (type) and QID8 (division)\n",
    "BACKGROUND_COLOR = \"#F7F7F7\"  # or whatever you use\n",
    "\n",
    "df = survey_results.copy()\n",
    "\n",
    "# 1) Child rows: counts by (type=QID4, division=QID8)\n",
    "child = (\n",
    "    df.groupby([\"QID4\", \"QID8\"], dropna=False)\n",
    "      .size()\n",
    "      .reset_index(name=\"n\")\n",
    "      .rename(columns={\"QID4\": \"type\", \"QID8\": \"division\"})\n",
    ")\n",
    "\n",
    "# Replace NaN with \"Unaffiliated\" **for labels only** (keeps structure clean)\n",
    "child[\"type\"] = child[\"type\"].fillna(\"Unaffiliated\")\n",
    "child[\"division\"] = child[\"division\"].fillna(\"Unaffiliated\")\n",
    "\n",
    "# 2) Parent rows: totals for each type (as “division” label; parent’s `type` left NA)\n",
    "parent = (\n",
    "    df.groupby([\"QID4\"], dropna=False)\n",
    "      .size()\n",
    "      .reset_index(name=\"n\")\n",
    "      .rename(columns={\"QID4\": \"division\"})\n",
    ")\n",
    "parent[\"division\"] = parent[\"division\"].fillna(\"Unaffiliated\")\n",
    "parent[\"type\"] = pd.NA  # becomes the root/parent (empty string) later\n",
    "parent = parent[[\"type\", \"division\", \"n\"]]\n",
    "\n",
    "# 3) Bind rows and build ids/parents\n",
    "plot_df = pd.concat(\n",
    "    [child[[\"type\", \"division\", \"n\"]], parent],\n",
    "    ignore_index=True\n",
    ")\n",
    "\n",
    "# ids: parent rows get id = division; child rows get \"type_division\"\n",
    "plot_df[\"ids\"] = np.where(\n",
    "    plot_df[\"type\"].isna(),\n",
    "    plot_df[\"division\"],\n",
    "    plot_df[\"type\"].astype(str) + \"_\" + plot_df[\"division\"].astype(str)\n",
    ")\n",
    "\n",
    "# parents: root for parent rows = \"\" (empty string)\n",
    "plot_df[\"type\"] = plot_df[\"type\"].fillna(\"\")  # Plotly wants \"\" for root\n",
    "plot_df[\"n\"] = plot_df[\"n\"].astype(float)\n",
    "\n",
    "# 4) Treemap\n",
    "fig = go.Figure(\n",
    "    go.Treemap(\n",
    "        labels=plot_df[\"division\"],\n",
    "        parents=plot_df[\"type\"],\n",
    "        ids=plot_df[\"ids\"],\n",
    "        values=plot_df[\"n\"],\n",
    "        branchvalues=\"total\",\n",
    "        hoverinfo=\"text\",\n",
    "        hovertemplate=\"<b>%{parent}</b><br>Type: %{label}<br>Responses: %{value}<extra></extra>\",\n",
    "        textposition=\"middle\",\n",
    "        textfont=dict(size=14),\n",
    "    )\n",
    ")\n",
    "\n",
    "fig.update_layout(\n",
    "    title=\"Survey Respondents\",\n",
    "    plot_bgcolor=BACKGROUND_COLOR,\n",
    "    paper_bgcolor=BACKGROUND_COLOR,\n",
    "    margin=dict(t=60, l=0, r=0, b=0)\n",
    ")\n",
    "\n",
    "fig.show()\n",
    "\n",
    "fig1.write_html('_static/afiliation_demogr.html', full_html=False, include_plotlyjs='cdn')\n"
   ]
  },
  {
   "cell_type": "markdown",
   "id": "ca0672d6",
   "metadata": {},
   "source": [
    "```{raw} html\n",
    ":file: _static/afiliation_demogr.html\n",
    "```\n",
    "\n",
    "## Faculty and Staff\n",
    "\n",
    "## Students"
   ]
  }
 ],
 "metadata": {
  "jupytext": {
   "text_representation": {
    "format_name": "myst"
   }
  },
  "kernelspec": {
   "display_name": "Python 3",
   "language": "python",
   "name": "python3"
  },
  "language_info": {
   "codemirror_mode": {
    "name": "ipython",
    "version": 3
   },
   "file_extension": ".py",
   "mimetype": "text/x-python",
   "name": "python",
   "nbconvert_exporter": "python",
   "pygments_lexer": "ipython3",
   "version": "3.13.7"
  },
  "source_map": [
   10,
   15,
   109
  ],
  "title": "Demographics"
 },
 "nbformat": 4,
 "nbformat_minor": 5
}