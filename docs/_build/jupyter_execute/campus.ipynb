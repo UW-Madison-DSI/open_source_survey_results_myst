{
 "cells": [
  {
   "cell_type": "markdown",
   "id": "b8b829d5",
   "metadata": {},
   "source": [
    "# Perceptions of Open Source Culture On Campus\n",
    "\n",
    "## Value of Open Source Culture"
   ]
  },
  {
   "cell_type": "code",
   "execution_count": 1,
   "id": "8e521c86",
   "metadata": {
    "tags": [
     "remove-input"
    ]
   },
   "outputs": [
    {
     "data": {
      "application/vnd.plotly.v1+json": {
       "config": {
        "plotlyServerURL": "https://plot.ly"
       },
       "data": [
        {
         "hovertemplate": "Respondent Type=Faculty<br>QID24=%{x}<br>Percent=%{y}<extra></extra>",
         "legendgroup": "Faculty",
         "marker": {
          "color": "#9B0000",
          "pattern": {
           "shape": ""
          }
         },
         "name": "Faculty",
         "orientation": "v",
         "showlegend": true,
         "textposition": "auto",
         "type": "bar",
         "x": [
          "Very valuable",
          "Some value",
          "Neutral"
         ],
         "xaxis": "x",
         "y": {
          "bdata": "aEyTAeYsyz+Dko5PX1u8Pxh6oRd6oac/",
          "dtype": "f8"
         },
         "yaxis": "y"
        },
        {
         "hovertemplate": "Respondent Type=Graduate Student<br>QID24=%{x}<br>Percent=%{y}<extra></extra>",
         "legendgroup": "Graduate Student",
         "marker": {
          "color": "#666666",
          "pattern": {
           "shape": ""
          }
         },
         "name": "Graduate Student",
         "orientation": "v",
         "showlegend": true,
         "textposition": "auto",
         "type": "bar",
         "x": [
          "Very valuable",
          "Some value",
          "Neutral"
         ],
         "xaxis": "x",
         "y": {
          "bdata": "K0K8XXXvwD8YeqEXeqGnP+Ysm3/GNJk/",
          "dtype": "f8"
         },
         "yaxis": "y"
        },
        {
         "hovertemplate": "Respondent Type=Other<br>QID24=%{x}<br>Percent=%{y}<extra></extra>",
         "legendgroup": "Other",
         "marker": {
          "color": "#B60205",
          "pattern": {
           "shape": ""
          }
         },
         "name": "Other",
         "orientation": "v",
         "showlegend": true,
         "textposition": "auto",
         "type": "bar",
         "x": [
          "Very valuable",
          "Some value",
          "Neutral"
         ],
         "xaxis": "x",
         "y": {
          "bdata": "Scenry0Olj+tYbTflOeCP+Ysm3/GNHk/",
          "dtype": "f8"
         },
         "yaxis": "y"
        },
        {
         "hovertemplate": "Respondent Type=Postdoc<br>QID24=%{x}<br>Percent=%{y}<extra></extra>",
         "legendgroup": "Postdoc",
         "marker": {
          "color": "#8c1515",
          "pattern": {
           "shape": ""
          }
         },
         "name": "Postdoc",
         "orientation": "v",
         "showlegend": true,
         "textposition": "auto",
         "type": "bar",
         "x": [
          "Very valuable",
          "Some value"
         ],
         "xaxis": "x",
         "y": {
          "bdata": "Scenry0Olj/mLJt/xjR5Pw==",
          "dtype": "f8"
         },
         "yaxis": "y"
        },
        {
         "hovertemplate": "Respondent Type=Staff<br>QID24=%{x}<br>Percent=%{y}<extra></extra>",
         "legendgroup": "Staff",
         "marker": {
          "color": "#9c9c9c",
          "pattern": {
           "shape": ""
          }
         },
         "name": "Staff",
         "orientation": "v",
         "showlegend": true,
         "textposition": "auto",
         "type": "bar",
         "x": [
          "Very valuable",
          "Some value",
          "Neutral",
          "No value"
         ],
         "xaxis": "x",
         "y": {
          "bdata": "5iybf8Y0yT+Dko5PX1u8P+Ysm3/GNJk/5iybf8Y0aT8=",
          "dtype": "f8"
         },
         "yaxis": "y"
        },
        {
         "hovertemplate": "Respondent Type=Unaffiliated<br>QID24=%{x}<br>Percent=%{y}<extra></extra>",
         "legendgroup": "Unaffiliated",
         "marker": {
          "color": "#c2c2c2",
          "pattern": {
           "shape": ""
          }
         },
         "name": "Unaffiliated",
         "orientation": "v",
         "showlegend": true,
         "textposition": "auto",
         "type": "bar",
         "x": [
          "Very valuable"
         ],
         "xaxis": "x",
         "y": {
          "bdata": "rWG035Tngj8=",
          "dtype": "f8"
         },
         "yaxis": "y"
        },
        {
         "hovertemplate": "Respondent Type=Undergraduate Student<br>QID24=%{x}<br>Percent=%{y}<extra></extra>",
         "legendgroup": "Undergraduate Student",
         "marker": {
          "color": "#9B0000",
          "pattern": {
           "shape": ""
          }
         },
         "name": "Undergraduate Student",
         "orientation": "v",
         "showlegend": true,
         "textposition": "auto",
         "type": "bar",
         "x": [
          "Very valuable",
          "Some value",
          "Neutral"
         ],
         "xaxis": "x",
         "y": {
          "bdata": "rWG035Tngj/mLJt/xjRpP+Ysm3/GNHk/",
          "dtype": "f8"
         },
         "yaxis": "y"
        }
       ],
       "layout": {
        "barmode": "stack",
        "legend": {
         "title": {
          "text": "Respondent Type"
         },
         "tracegroupgap": 0
        },
        "paper_bgcolor": "white",
        "plot_bgcolor": "white",
        "template": {
         "data": {
          "bar": [
           {
            "error_x": {
             "color": "#2a3f5f"
            },
            "error_y": {
             "color": "#2a3f5f"
            },
            "marker": {
             "line": {
              "color": "white",
              "width": 0.5
             },
             "pattern": {
              "fillmode": "overlay",
              "size": 10,
              "solidity": 0.2
             }
            },
            "type": "bar"
           }
          ],
          "barpolar": [
           {
            "marker": {
             "line": {
              "color": "white",
              "width": 0.5
             },
             "pattern": {
              "fillmode": "overlay",
              "size": 10,
              "solidity": 0.2
             }
            },
            "type": "barpolar"
           }
          ],
          "carpet": [
           {
            "aaxis": {
             "endlinecolor": "#2a3f5f",
             "gridcolor": "#C8D4E3",
             "linecolor": "#C8D4E3",
             "minorgridcolor": "#C8D4E3",
             "startlinecolor": "#2a3f5f"
            },
            "baxis": {
             "endlinecolor": "#2a3f5f",
             "gridcolor": "#C8D4E3",
             "linecolor": "#C8D4E3",
             "minorgridcolor": "#C8D4E3",
             "startlinecolor": "#2a3f5f"
            },
            "type": "carpet"
           }
          ],
          "choropleth": [
           {
            "colorbar": {
             "outlinewidth": 0,
             "ticks": ""
            },
            "type": "choropleth"
           }
          ],
          "contour": [
           {
            "colorbar": {
             "outlinewidth": 0,
             "ticks": ""
            },
            "colorscale": [
             [
              0.0,
              "#0d0887"
             ],
             [
              0.1111111111111111,
              "#46039f"
             ],
             [
              0.2222222222222222,
              "#7201a8"
             ],
             [
              0.3333333333333333,
              "#9c179e"
             ],
             [
              0.4444444444444444,
              "#bd3786"
             ],
             [
              0.5555555555555556,
              "#d8576b"
             ],
             [
              0.6666666666666666,
              "#ed7953"
             ],
             [
              0.7777777777777778,
              "#fb9f3a"
             ],
             [
              0.8888888888888888,
              "#fdca26"
             ],
             [
              1.0,
              "#f0f921"
             ]
            ],
            "type": "contour"
           }
          ],
          "contourcarpet": [
           {
            "colorbar": {
             "outlinewidth": 0,
             "ticks": ""
            },
            "type": "contourcarpet"
           }
          ],
          "heatmap": [
           {
            "colorbar": {
             "outlinewidth": 0,
             "ticks": ""
            },
            "colorscale": [
             [
              0.0,
              "#0d0887"
             ],
             [
              0.1111111111111111,
              "#46039f"
             ],
             [
              0.2222222222222222,
              "#7201a8"
             ],
             [
              0.3333333333333333,
              "#9c179e"
             ],
             [
              0.4444444444444444,
              "#bd3786"
             ],
             [
              0.5555555555555556,
              "#d8576b"
             ],
             [
              0.6666666666666666,
              "#ed7953"
             ],
             [
              0.7777777777777778,
              "#fb9f3a"
             ],
             [
              0.8888888888888888,
              "#fdca26"
             ],
             [
              1.0,
              "#f0f921"
             ]
            ],
            "type": "heatmap"
           }
          ],
          "histogram": [
           {
            "marker": {
             "pattern": {
              "fillmode": "overlay",
              "size": 10,
              "solidity": 0.2
             }
            },
            "type": "histogram"
           }
          ],
          "histogram2d": [
           {
            "colorbar": {
             "outlinewidth": 0,
             "ticks": ""
            },
            "colorscale": [
             [
              0.0,
              "#0d0887"
             ],
             [
              0.1111111111111111,
              "#46039f"
             ],
             [
              0.2222222222222222,
              "#7201a8"
             ],
             [
              0.3333333333333333,
              "#9c179e"
             ],
             [
              0.4444444444444444,
              "#bd3786"
             ],
             [
              0.5555555555555556,
              "#d8576b"
             ],
             [
              0.6666666666666666,
              "#ed7953"
             ],
             [
              0.7777777777777778,
              "#fb9f3a"
             ],
             [
              0.8888888888888888,
              "#fdca26"
             ],
             [
              1.0,
              "#f0f921"
             ]
            ],
            "type": "histogram2d"
           }
          ],
          "histogram2dcontour": [
           {
            "colorbar": {
             "outlinewidth": 0,
             "ticks": ""
            },
            "colorscale": [
             [
              0.0,
              "#0d0887"
             ],
             [
              0.1111111111111111,
              "#46039f"
             ],
             [
              0.2222222222222222,
              "#7201a8"
             ],
             [
              0.3333333333333333,
              "#9c179e"
             ],
             [
              0.4444444444444444,
              "#bd3786"
             ],
             [
              0.5555555555555556,
              "#d8576b"
             ],
             [
              0.6666666666666666,
              "#ed7953"
             ],
             [
              0.7777777777777778,
              "#fb9f3a"
             ],
             [
              0.8888888888888888,
              "#fdca26"
             ],
             [
              1.0,
              "#f0f921"
             ]
            ],
            "type": "histogram2dcontour"
           }
          ],
          "mesh3d": [
           {
            "colorbar": {
             "outlinewidth": 0,
             "ticks": ""
            },
            "type": "mesh3d"
           }
          ],
          "parcoords": [
           {
            "line": {
             "colorbar": {
              "outlinewidth": 0,
              "ticks": ""
             }
            },
            "type": "parcoords"
           }
          ],
          "pie": [
           {
            "automargin": true,
            "type": "pie"
           }
          ],
          "scatter": [
           {
            "fillpattern": {
             "fillmode": "overlay",
             "size": 10,
             "solidity": 0.2
            },
            "type": "scatter"
           }
          ],
          "scatter3d": [
           {
            "line": {
             "colorbar": {
              "outlinewidth": 0,
              "ticks": ""
             }
            },
            "marker": {
             "colorbar": {
              "outlinewidth": 0,
              "ticks": ""
             }
            },
            "type": "scatter3d"
           }
          ],
          "scattercarpet": [
           {
            "marker": {
             "colorbar": {
              "outlinewidth": 0,
              "ticks": ""
             }
            },
            "type": "scattercarpet"
           }
          ],
          "scattergeo": [
           {
            "marker": {
             "colorbar": {
              "outlinewidth": 0,
              "ticks": ""
             }
            },
            "type": "scattergeo"
           }
          ],
          "scattergl": [
           {
            "marker": {
             "colorbar": {
              "outlinewidth": 0,
              "ticks": ""
             }
            },
            "type": "scattergl"
           }
          ],
          "scattermap": [
           {
            "marker": {
             "colorbar": {
              "outlinewidth": 0,
              "ticks": ""
             }
            },
            "type": "scattermap"
           }
          ],
          "scattermapbox": [
           {
            "marker": {
             "colorbar": {
              "outlinewidth": 0,
              "ticks": ""
             }
            },
            "type": "scattermapbox"
           }
          ],
          "scatterpolar": [
           {
            "marker": {
             "colorbar": {
              "outlinewidth": 0,
              "ticks": ""
             }
            },
            "type": "scatterpolar"
           }
          ],
          "scatterpolargl": [
           {
            "marker": {
             "colorbar": {
              "outlinewidth": 0,
              "ticks": ""
             }
            },
            "type": "scatterpolargl"
           }
          ],
          "scatterternary": [
           {
            "marker": {
             "colorbar": {
              "outlinewidth": 0,
              "ticks": ""
             }
            },
            "type": "scatterternary"
           }
          ],
          "surface": [
           {
            "colorbar": {
             "outlinewidth": 0,
             "ticks": ""
            },
            "colorscale": [
             [
              0.0,
              "#0d0887"
             ],
             [
              0.1111111111111111,
              "#46039f"
             ],
             [
              0.2222222222222222,
              "#7201a8"
             ],
             [
              0.3333333333333333,
              "#9c179e"
             ],
             [
              0.4444444444444444,
              "#bd3786"
             ],
             [
              0.5555555555555556,
              "#d8576b"
             ],
             [
              0.6666666666666666,
              "#ed7953"
             ],
             [
              0.7777777777777778,
              "#fb9f3a"
             ],
             [
              0.8888888888888888,
              "#fdca26"
             ],
             [
              1.0,
              "#f0f921"
             ]
            ],
            "type": "surface"
           }
          ],
          "table": [
           {
            "cells": {
             "fill": {
              "color": "#EBF0F8"
             },
             "line": {
              "color": "white"
             }
            },
            "header": {
             "fill": {
              "color": "#C8D4E3"
             },
             "line": {
              "color": "white"
             }
            },
            "type": "table"
           }
          ]
         },
         "layout": {
          "annotationdefaults": {
           "arrowcolor": "#2a3f5f",
           "arrowhead": 0,
           "arrowwidth": 1
          },
          "autotypenumbers": "strict",
          "coloraxis": {
           "colorbar": {
            "outlinewidth": 0,
            "ticks": ""
           }
          },
          "colorscale": {
           "diverging": [
            [
             0,
             "#8e0152"
            ],
            [
             0.1,
             "#c51b7d"
            ],
            [
             0.2,
             "#de77ae"
            ],
            [
             0.3,
             "#f1b6da"
            ],
            [
             0.4,
             "#fde0ef"
            ],
            [
             0.5,
             "#f7f7f7"
            ],
            [
             0.6,
             "#e6f5d0"
            ],
            [
             0.7,
             "#b8e186"
            ],
            [
             0.8,
             "#7fbc41"
            ],
            [
             0.9,
             "#4d9221"
            ],
            [
             1,
             "#276419"
            ]
           ],
           "sequential": [
            [
             0.0,
             "#0d0887"
            ],
            [
             0.1111111111111111,
             "#46039f"
            ],
            [
             0.2222222222222222,
             "#7201a8"
            ],
            [
             0.3333333333333333,
             "#9c179e"
            ],
            [
             0.4444444444444444,
             "#bd3786"
            ],
            [
             0.5555555555555556,
             "#d8576b"
            ],
            [
             0.6666666666666666,
             "#ed7953"
            ],
            [
             0.7777777777777778,
             "#fb9f3a"
            ],
            [
             0.8888888888888888,
             "#fdca26"
            ],
            [
             1.0,
             "#f0f921"
            ]
           ],
           "sequentialminus": [
            [
             0.0,
             "#0d0887"
            ],
            [
             0.1111111111111111,
             "#46039f"
            ],
            [
             0.2222222222222222,
             "#7201a8"
            ],
            [
             0.3333333333333333,
             "#9c179e"
            ],
            [
             0.4444444444444444,
             "#bd3786"
            ],
            [
             0.5555555555555556,
             "#d8576b"
            ],
            [
             0.6666666666666666,
             "#ed7953"
            ],
            [
             0.7777777777777778,
             "#fb9f3a"
            ],
            [
             0.8888888888888888,
             "#fdca26"
            ],
            [
             1.0,
             "#f0f921"
            ]
           ]
          },
          "colorway": [
           "#9B0000",
           "#666666",
           "#B60205",
           "#8c1515",
           "#9c9c9c",
           "#c2c2c2"
          ],
          "font": {
           "color": "#2a3f5f",
           "family": "Red Hat Text, Arial, sans-serif"
          },
          "geo": {
           "bgcolor": "white",
           "lakecolor": "white",
           "landcolor": "white",
           "showlakes": true,
           "showland": true,
           "subunitcolor": "#C8D4E3"
          },
          "hoverlabel": {
           "align": "left"
          },
          "hovermode": "closest",
          "legend": {
           "bgcolor": "rgba(0,0,0,0)"
          },
          "mapbox": {
           "style": "light"
          },
          "margin": {
           "b": 40,
           "l": 40,
           "r": 20,
           "t": 60
          },
          "paper_bgcolor": "#F7F7F7",
          "plot_bgcolor": "#F7F7F7",
          "polar": {
           "angularaxis": {
            "gridcolor": "#EBF0F8",
            "linecolor": "#EBF0F8",
            "ticks": ""
           },
           "bgcolor": "white",
           "radialaxis": {
            "gridcolor": "#EBF0F8",
            "linecolor": "#EBF0F8",
            "ticks": ""
           }
          },
          "scene": {
           "xaxis": {
            "backgroundcolor": "white",
            "gridcolor": "#DFE8F3",
            "gridwidth": 2,
            "linecolor": "#EBF0F8",
            "showbackground": true,
            "ticks": "",
            "zerolinecolor": "#EBF0F8"
           },
           "yaxis": {
            "backgroundcolor": "white",
            "gridcolor": "#DFE8F3",
            "gridwidth": 2,
            "linecolor": "#EBF0F8",
            "showbackground": true,
            "ticks": "",
            "zerolinecolor": "#EBF0F8"
           },
           "zaxis": {
            "backgroundcolor": "white",
            "gridcolor": "#DFE8F3",
            "gridwidth": 2,
            "linecolor": "#EBF0F8",
            "showbackground": true,
            "ticks": "",
            "zerolinecolor": "#EBF0F8"
           }
          },
          "shapedefaults": {
           "line": {
            "color": "#2a3f5f"
           }
          },
          "ternary": {
           "aaxis": {
            "gridcolor": "#DFE8F3",
            "linecolor": "#A2B1C6",
            "ticks": ""
           },
           "baxis": {
            "gridcolor": "#DFE8F3",
            "linecolor": "#A2B1C6",
            "ticks": ""
           },
           "bgcolor": "white",
           "caxis": {
            "gridcolor": "#DFE8F3",
            "linecolor": "#A2B1C6",
            "ticks": ""
           }
          },
          "title": {
           "x": 0.01,
           "xanchor": "left"
          },
          "xaxis": {
           "automargin": true,
           "gridcolor": "#e9e9e9",
           "linecolor": "#EBF0F8",
           "ticks": "",
           "title": {
            "standoff": 15
           },
           "zeroline": false,
           "zerolinecolor": "#EBF0F8",
           "zerolinewidth": 2
          },
          "yaxis": {
           "automargin": true,
           "gridcolor": "#e9e9e9",
           "linecolor": "#EBF0F8",
           "ticks": "",
           "title": {
            "standoff": 15
           },
           "zeroline": false,
           "zerolinecolor": "#EBF0F8",
           "zerolinewidth": 2
          }
         }
        },
        "title": {
         "text": "\"Do you see value in having a vibrant culture around open source software?\""
        },
        "xaxis": {
         "anchor": "y",
         "domain": [
          0.0,
          1.0
         ],
         "title": {
          "text": ""
         }
        },
        "yaxis": {
         "anchor": "x",
         "domain": [
          0.0,
          1.0
         ],
         "tickformat": ".1%",
         "title": {
          "text": "Percent"
         }
        }
       }
      }
     },
     "metadata": {},
     "output_type": "display_data"
    }
   ],
   "source": [
    "# Imports\n",
    "import pandas as pd\n",
    "import plotly.express as px\n",
    "import plotly.graph_objects as go\n",
    "from pathlib import Path\n",
    "import plotly.io as pio\n",
    "import matplotlib as mpl\n",
    "\n",
    "from setup import *\n",
    "\n",
    "df = survey_results\n",
    "\n",
    "\n",
    "# ----- Figure 1: \"Value of a vibrant culture\" by Respondent Type -----\n",
    "\n",
    "# Map / order categories to match your R code\n",
    "qid24_order = [\n",
    "    \"Very valuable\",\n",
    "    \"Some value\", \n",
    "    \"Neutral\",\n",
    "    \"No value\"\n",
    "]\n",
    "df_c1 = (\n",
    "    df.assign(\n",
    "        QID4=df[\"QID4\"].map(fill_unaffiliated),\n",
    "        QID24=pd.Categorical(df[\"QID24\"], categories=qid24_order, ordered=True)\n",
    "    )\n",
    "    .rename(columns={\"QID4\": \"Respondent Type\"})\n",
    ")\n",
    "\n",
    "# Group and compute percentages over all responses (like your R code)\n",
    "c1_df = (\n",
    "    df_c1.groupby([\"QID24\", \"Respondent Type\"], observed=True, dropna=False)\n",
    "         .size()\n",
    "         .reset_index(name=\"Count\")\n",
    ")\n",
    "c1_df[\"Percent\"] = c1_df[\"Count\"] / len(df)\n",
    "\n",
    "fig1 = px.bar(\n",
    "    c1_df, x=\"QID24\", y=\"Percent\",\n",
    "    color=\"Respondent Type\",\n",
    "    barmode=\"stack\",\n",
    "    title='\"Do you see value in having a vibrant culture around open source software?\"'\n",
    ")\n",
    "fig1.update_layout(\n",
    "    yaxis=dict(tickformat=\".1%\"),\n",
    "    xaxis_title=\"\",\n",
    "    plot_bgcolor=\"white\",\n",
    "    paper_bgcolor=\"white\"\n",
    ")\n",
    "fig1.show()\n",
    "fig1.write_html('_static/plotly_example.html', full_html=False, include_plotlyjs='cdn')"
   ]
  },
  {
   "cell_type": "markdown",
   "id": "ae7f8858",
   "metadata": {},
   "source": [
    "```{raw} html\n",
    ":file: _static/plotly_example.html\n",
    "```\n",
    "\n",
    "## Current Campus Culture Perception"
   ]
  },
  {
   "cell_type": "code",
   "execution_count": 2,
   "id": "9c503dc6",
   "metadata": {
    "tags": [
     "remove-input"
    ]
   },
   "outputs": [],
   "source": [
    "agree_options = {\"Strongly agree\", \"Somewhat agree\"}"
   ]
  },
  {
   "cell_type": "code",
   "execution_count": 3,
   "id": "3fe7a322",
   "metadata": {
    "tags": [
     "remove-input"
    ]
   },
   "outputs": [
    {
     "data": {
      "application/vnd.plotly.v1+json": {
       "config": {
        "plotlyServerURL": "https://plot.ly"
       },
       "data": [
        {
         "hovertemplate": "Respondent Type=Faculty<br>QID23=%{x}<br>Percent=%{y}<extra></extra>",
         "legendgroup": "Faculty",
         "marker": {
          "color": "#9B0000",
          "pattern": {
           "shape": ""
          }
         },
         "name": "Faculty",
         "orientation": "v",
         "showlegend": true,
         "textposition": "auto",
         "type": "bar",
         "x": [
          "Strongly agree",
          "Somewhat agree",
          "Neither agree nor disagree",
          "Somewhat disagree",
          "Strongly disagree"
         ],
         "xaxis": "x",
         "y": {
          "bdata": "g5KOT19bnD+035TnEsi6P4OSjk9fW8w/5iybf8Y0iT/mLJt/xjRpPw==",
          "dtype": "f8"
         },
         "yaxis": "y"
        },
        {
         "hovertemplate": "Respondent Type=Graduate Student<br>QID23=%{x}<br>Percent=%{y}<extra></extra>",
         "legendgroup": "Graduate Student",
         "marker": {
          "color": "#666666",
          "pattern": {
           "shape": ""
          }
         },
         "name": "Graduate Student",
         "orientation": "v",
         "showlegend": true,
         "textposition": "auto",
         "type": "bar",
         "x": [
          "Strongly agree",
          "Somewhat agree",
          "Neither agree nor disagree",
          "Somewhat disagree",
          "Strongly disagree"
         ],
         "xaxis": "x",
         "y": {
          "bdata": "5iybf8Y0aT8YeqEXeqGnP7gehetRuL4/g5KOT19bnD/mLJt/xjR5Pw==",
          "dtype": "f8"
         },
         "yaxis": "y"
        },
        {
         "hovertemplate": "Respondent Type=Other<br>QID23=%{x}<br>Percent=%{y}<extra></extra>",
         "legendgroup": "Other",
         "marker": {
          "color": "#B60205",
          "pattern": {
           "shape": ""
          }
         },
         "name": "Other",
         "orientation": "v",
         "showlegend": true,
         "textposition": "auto",
         "type": "bar",
         "x": [
          "Strongly agree",
          "Somewhat agree",
          "Neither agree nor disagree"
         ],
         "xaxis": "x",
         "y": {
          "bdata": "5iybf8Y0aT/mLJt/xjSJP0nHp68tDpY/",
          "dtype": "f8"
         },
         "yaxis": "y"
        },
        {
         "hovertemplate": "Respondent Type=Postdoc<br>QID23=%{x}<br>Percent=%{y}<extra></extra>",
         "legendgroup": "Postdoc",
         "marker": {
          "color": "#8c1515",
          "pattern": {
           "shape": ""
          }
         },
         "name": "Postdoc",
         "orientation": "v",
         "showlegend": true,
         "textposition": "auto",
         "type": "bar",
         "x": [
          "Strongly agree",
          "Somewhat agree",
          "Neither agree nor disagree",
          "Somewhat disagree"
         ],
         "xaxis": "x",
         "y": {
          "bdata": "5iybf8Y0aT/mLJt/xjRpP61htN+U55I/5iybf8Y0aT8=",
          "dtype": "f8"
         },
         "yaxis": "y"
        },
        {
         "hovertemplate": "Respondent Type=Staff<br>QID23=%{x}<br>Percent=%{y}<extra></extra>",
         "legendgroup": "Staff",
         "marker": {
          "color": "#9c9c9c",
          "pattern": {
           "shape": ""
          }
         },
         "name": "Staff",
         "orientation": "v",
         "showlegend": true,
         "textposition": "auto",
         "type": "bar",
         "x": [
          "Strongly agree",
          "Somewhat agree",
          "Neither agree nor disagree",
          "Somewhat disagree",
          "Strongly disagree"
         ],
         "xaxis": "x",
         "y": {
          "bdata": "5iybf8Y0mT8UO7ETO7GzP+Ysm3/GNMk/3q66d0hUoT/mLJt/xjRpPw==",
          "dtype": "f8"
         },
         "yaxis": "y"
        },
        {
         "hovertemplate": "Respondent Type=Undergraduate Student<br>QID23=%{x}<br>Percent=%{y}<extra></extra>",
         "legendgroup": "Undergraduate Student",
         "marker": {
          "color": "#c2c2c2",
          "pattern": {
           "shape": ""
          }
         },
         "name": "Undergraduate Student",
         "orientation": "v",
         "showlegend": true,
         "textposition": "auto",
         "type": "bar",
         "x": [
          "Somewhat agree",
          "Neither agree nor disagree",
          "Somewhat disagree",
          "Strongly disagree"
         ],
         "xaxis": "x",
         "y": {
          "bdata": "5iybf8Y0aT+tYbTflOeCP+Ysm3/GNGk/5iybf8Y0aT8=",
          "dtype": "f8"
         },
         "yaxis": "y"
        },
        {
         "hovertemplate": "Respondent Type=Unaffiliated<br>QID23=%{x}<br>Percent=%{y}<extra></extra>",
         "legendgroup": "Unaffiliated",
         "marker": {
          "color": "#9B0000",
          "pattern": {
           "shape": ""
          }
         },
         "name": "Unaffiliated",
         "orientation": "v",
         "showlegend": true,
         "textposition": "auto",
         "type": "bar",
         "x": [
          "Neither agree nor disagree",
          "Strongly disagree"
         ],
         "xaxis": "x",
         "y": {
          "bdata": "5iybf8Y0eT/mLJt/xjRpPw==",
          "dtype": "f8"
         },
         "yaxis": "y"
        }
       ],
       "layout": {
        "barmode": "stack",
        "legend": {
         "title": {
          "text": "Respondent Type"
         },
         "tracegroupgap": 0
        },
        "paper_bgcolor": "white",
        "plot_bgcolor": "white",
        "template": {
         "data": {
          "bar": [
           {
            "error_x": {
             "color": "#2a3f5f"
            },
            "error_y": {
             "color": "#2a3f5f"
            },
            "marker": {
             "line": {
              "color": "white",
              "width": 0.5
             },
             "pattern": {
              "fillmode": "overlay",
              "size": 10,
              "solidity": 0.2
             }
            },
            "type": "bar"
           }
          ],
          "barpolar": [
           {
            "marker": {
             "line": {
              "color": "white",
              "width": 0.5
             },
             "pattern": {
              "fillmode": "overlay",
              "size": 10,
              "solidity": 0.2
             }
            },
            "type": "barpolar"
           }
          ],
          "carpet": [
           {
            "aaxis": {
             "endlinecolor": "#2a3f5f",
             "gridcolor": "#C8D4E3",
             "linecolor": "#C8D4E3",
             "minorgridcolor": "#C8D4E3",
             "startlinecolor": "#2a3f5f"
            },
            "baxis": {
             "endlinecolor": "#2a3f5f",
             "gridcolor": "#C8D4E3",
             "linecolor": "#C8D4E3",
             "minorgridcolor": "#C8D4E3",
             "startlinecolor": "#2a3f5f"
            },
            "type": "carpet"
           }
          ],
          "choropleth": [
           {
            "colorbar": {
             "outlinewidth": 0,
             "ticks": ""
            },
            "type": "choropleth"
           }
          ],
          "contour": [
           {
            "colorbar": {
             "outlinewidth": 0,
             "ticks": ""
            },
            "colorscale": [
             [
              0.0,
              "#0d0887"
             ],
             [
              0.1111111111111111,
              "#46039f"
             ],
             [
              0.2222222222222222,
              "#7201a8"
             ],
             [
              0.3333333333333333,
              "#9c179e"
             ],
             [
              0.4444444444444444,
              "#bd3786"
             ],
             [
              0.5555555555555556,
              "#d8576b"
             ],
             [
              0.6666666666666666,
              "#ed7953"
             ],
             [
              0.7777777777777778,
              "#fb9f3a"
             ],
             [
              0.8888888888888888,
              "#fdca26"
             ],
             [
              1.0,
              "#f0f921"
             ]
            ],
            "type": "contour"
           }
          ],
          "contourcarpet": [
           {
            "colorbar": {
             "outlinewidth": 0,
             "ticks": ""
            },
            "type": "contourcarpet"
           }
          ],
          "heatmap": [
           {
            "colorbar": {
             "outlinewidth": 0,
             "ticks": ""
            },
            "colorscale": [
             [
              0.0,
              "#0d0887"
             ],
             [
              0.1111111111111111,
              "#46039f"
             ],
             [
              0.2222222222222222,
              "#7201a8"
             ],
             [
              0.3333333333333333,
              "#9c179e"
             ],
             [
              0.4444444444444444,
              "#bd3786"
             ],
             [
              0.5555555555555556,
              "#d8576b"
             ],
             [
              0.6666666666666666,
              "#ed7953"
             ],
             [
              0.7777777777777778,
              "#fb9f3a"
             ],
             [
              0.8888888888888888,
              "#fdca26"
             ],
             [
              1.0,
              "#f0f921"
             ]
            ],
            "type": "heatmap"
           }
          ],
          "histogram": [
           {
            "marker": {
             "pattern": {
              "fillmode": "overlay",
              "size": 10,
              "solidity": 0.2
             }
            },
            "type": "histogram"
           }
          ],
          "histogram2d": [
           {
            "colorbar": {
             "outlinewidth": 0,
             "ticks": ""
            },
            "colorscale": [
             [
              0.0,
              "#0d0887"
             ],
             [
              0.1111111111111111,
              "#46039f"
             ],
             [
              0.2222222222222222,
              "#7201a8"
             ],
             [
              0.3333333333333333,
              "#9c179e"
             ],
             [
              0.4444444444444444,
              "#bd3786"
             ],
             [
              0.5555555555555556,
              "#d8576b"
             ],
             [
              0.6666666666666666,
              "#ed7953"
             ],
             [
              0.7777777777777778,
              "#fb9f3a"
             ],
             [
              0.8888888888888888,
              "#fdca26"
             ],
             [
              1.0,
              "#f0f921"
             ]
            ],
            "type": "histogram2d"
           }
          ],
          "histogram2dcontour": [
           {
            "colorbar": {
             "outlinewidth": 0,
             "ticks": ""
            },
            "colorscale": [
             [
              0.0,
              "#0d0887"
             ],
             [
              0.1111111111111111,
              "#46039f"
             ],
             [
              0.2222222222222222,
              "#7201a8"
             ],
             [
              0.3333333333333333,
              "#9c179e"
             ],
             [
              0.4444444444444444,
              "#bd3786"
             ],
             [
              0.5555555555555556,
              "#d8576b"
             ],
             [
              0.6666666666666666,
              "#ed7953"
             ],
             [
              0.7777777777777778,
              "#fb9f3a"
             ],
             [
              0.8888888888888888,
              "#fdca26"
             ],
             [
              1.0,
              "#f0f921"
             ]
            ],
            "type": "histogram2dcontour"
           }
          ],
          "mesh3d": [
           {
            "colorbar": {
             "outlinewidth": 0,
             "ticks": ""
            },
            "type": "mesh3d"
           }
          ],
          "parcoords": [
           {
            "line": {
             "colorbar": {
              "outlinewidth": 0,
              "ticks": ""
             }
            },
            "type": "parcoords"
           }
          ],
          "pie": [
           {
            "automargin": true,
            "type": "pie"
           }
          ],
          "scatter": [
           {
            "fillpattern": {
             "fillmode": "overlay",
             "size": 10,
             "solidity": 0.2
            },
            "type": "scatter"
           }
          ],
          "scatter3d": [
           {
            "line": {
             "colorbar": {
              "outlinewidth": 0,
              "ticks": ""
             }
            },
            "marker": {
             "colorbar": {
              "outlinewidth": 0,
              "ticks": ""
             }
            },
            "type": "scatter3d"
           }
          ],
          "scattercarpet": [
           {
            "marker": {
             "colorbar": {
              "outlinewidth": 0,
              "ticks": ""
             }
            },
            "type": "scattercarpet"
           }
          ],
          "scattergeo": [
           {
            "marker": {
             "colorbar": {
              "outlinewidth": 0,
              "ticks": ""
             }
            },
            "type": "scattergeo"
           }
          ],
          "scattergl": [
           {
            "marker": {
             "colorbar": {
              "outlinewidth": 0,
              "ticks": ""
             }
            },
            "type": "scattergl"
           }
          ],
          "scattermap": [
           {
            "marker": {
             "colorbar": {
              "outlinewidth": 0,
              "ticks": ""
             }
            },
            "type": "scattermap"
           }
          ],
          "scattermapbox": [
           {
            "marker": {
             "colorbar": {
              "outlinewidth": 0,
              "ticks": ""
             }
            },
            "type": "scattermapbox"
           }
          ],
          "scatterpolar": [
           {
            "marker": {
             "colorbar": {
              "outlinewidth": 0,
              "ticks": ""
             }
            },
            "type": "scatterpolar"
           }
          ],
          "scatterpolargl": [
           {
            "marker": {
             "colorbar": {
              "outlinewidth": 0,
              "ticks": ""
             }
            },
            "type": "scatterpolargl"
           }
          ],
          "scatterternary": [
           {
            "marker": {
             "colorbar": {
              "outlinewidth": 0,
              "ticks": ""
             }
            },
            "type": "scatterternary"
           }
          ],
          "surface": [
           {
            "colorbar": {
             "outlinewidth": 0,
             "ticks": ""
            },
            "colorscale": [
             [
              0.0,
              "#0d0887"
             ],
             [
              0.1111111111111111,
              "#46039f"
             ],
             [
              0.2222222222222222,
              "#7201a8"
             ],
             [
              0.3333333333333333,
              "#9c179e"
             ],
             [
              0.4444444444444444,
              "#bd3786"
             ],
             [
              0.5555555555555556,
              "#d8576b"
             ],
             [
              0.6666666666666666,
              "#ed7953"
             ],
             [
              0.7777777777777778,
              "#fb9f3a"
             ],
             [
              0.8888888888888888,
              "#fdca26"
             ],
             [
              1.0,
              "#f0f921"
             ]
            ],
            "type": "surface"
           }
          ],
          "table": [
           {
            "cells": {
             "fill": {
              "color": "#EBF0F8"
             },
             "line": {
              "color": "white"
             }
            },
            "header": {
             "fill": {
              "color": "#C8D4E3"
             },
             "line": {
              "color": "white"
             }
            },
            "type": "table"
           }
          ]
         },
         "layout": {
          "annotationdefaults": {
           "arrowcolor": "#2a3f5f",
           "arrowhead": 0,
           "arrowwidth": 1
          },
          "autotypenumbers": "strict",
          "coloraxis": {
           "colorbar": {
            "outlinewidth": 0,
            "ticks": ""
           }
          },
          "colorscale": {
           "diverging": [
            [
             0,
             "#8e0152"
            ],
            [
             0.1,
             "#c51b7d"
            ],
            [
             0.2,
             "#de77ae"
            ],
            [
             0.3,
             "#f1b6da"
            ],
            [
             0.4,
             "#fde0ef"
            ],
            [
             0.5,
             "#f7f7f7"
            ],
            [
             0.6,
             "#e6f5d0"
            ],
            [
             0.7,
             "#b8e186"
            ],
            [
             0.8,
             "#7fbc41"
            ],
            [
             0.9,
             "#4d9221"
            ],
            [
             1,
             "#276419"
            ]
           ],
           "sequential": [
            [
             0.0,
             "#0d0887"
            ],
            [
             0.1111111111111111,
             "#46039f"
            ],
            [
             0.2222222222222222,
             "#7201a8"
            ],
            [
             0.3333333333333333,
             "#9c179e"
            ],
            [
             0.4444444444444444,
             "#bd3786"
            ],
            [
             0.5555555555555556,
             "#d8576b"
            ],
            [
             0.6666666666666666,
             "#ed7953"
            ],
            [
             0.7777777777777778,
             "#fb9f3a"
            ],
            [
             0.8888888888888888,
             "#fdca26"
            ],
            [
             1.0,
             "#f0f921"
            ]
           ],
           "sequentialminus": [
            [
             0.0,
             "#0d0887"
            ],
            [
             0.1111111111111111,
             "#46039f"
            ],
            [
             0.2222222222222222,
             "#7201a8"
            ],
            [
             0.3333333333333333,
             "#9c179e"
            ],
            [
             0.4444444444444444,
             "#bd3786"
            ],
            [
             0.5555555555555556,
             "#d8576b"
            ],
            [
             0.6666666666666666,
             "#ed7953"
            ],
            [
             0.7777777777777778,
             "#fb9f3a"
            ],
            [
             0.8888888888888888,
             "#fdca26"
            ],
            [
             1.0,
             "#f0f921"
            ]
           ]
          },
          "colorway": [
           "#9B0000",
           "#666666",
           "#B60205",
           "#8c1515",
           "#9c9c9c",
           "#c2c2c2"
          ],
          "font": {
           "color": "#2a3f5f",
           "family": "Red Hat Text, Arial, sans-serif"
          },
          "geo": {
           "bgcolor": "white",
           "lakecolor": "white",
           "landcolor": "white",
           "showlakes": true,
           "showland": true,
           "subunitcolor": "#C8D4E3"
          },
          "hoverlabel": {
           "align": "left"
          },
          "hovermode": "closest",
          "legend": {
           "bgcolor": "rgba(0,0,0,0)"
          },
          "mapbox": {
           "style": "light"
          },
          "margin": {
           "b": 40,
           "l": 40,
           "r": 20,
           "t": 60
          },
          "paper_bgcolor": "#F7F7F7",
          "plot_bgcolor": "#F7F7F7",
          "polar": {
           "angularaxis": {
            "gridcolor": "#EBF0F8",
            "linecolor": "#EBF0F8",
            "ticks": ""
           },
           "bgcolor": "white",
           "radialaxis": {
            "gridcolor": "#EBF0F8",
            "linecolor": "#EBF0F8",
            "ticks": ""
           }
          },
          "scene": {
           "xaxis": {
            "backgroundcolor": "white",
            "gridcolor": "#DFE8F3",
            "gridwidth": 2,
            "linecolor": "#EBF0F8",
            "showbackground": true,
            "ticks": "",
            "zerolinecolor": "#EBF0F8"
           },
           "yaxis": {
            "backgroundcolor": "white",
            "gridcolor": "#DFE8F3",
            "gridwidth": 2,
            "linecolor": "#EBF0F8",
            "showbackground": true,
            "ticks": "",
            "zerolinecolor": "#EBF0F8"
           },
           "zaxis": {
            "backgroundcolor": "white",
            "gridcolor": "#DFE8F3",
            "gridwidth": 2,
            "linecolor": "#EBF0F8",
            "showbackground": true,
            "ticks": "",
            "zerolinecolor": "#EBF0F8"
           }
          },
          "shapedefaults": {
           "line": {
            "color": "#2a3f5f"
           }
          },
          "ternary": {
           "aaxis": {
            "gridcolor": "#DFE8F3",
            "linecolor": "#A2B1C6",
            "ticks": ""
           },
           "baxis": {
            "gridcolor": "#DFE8F3",
            "linecolor": "#A2B1C6",
            "ticks": ""
           },
           "bgcolor": "white",
           "caxis": {
            "gridcolor": "#DFE8F3",
            "linecolor": "#A2B1C6",
            "ticks": ""
           }
          },
          "title": {
           "x": 0.01,
           "xanchor": "left"
          },
          "xaxis": {
           "automargin": true,
           "gridcolor": "#e9e9e9",
           "linecolor": "#EBF0F8",
           "ticks": "",
           "title": {
            "standoff": 15
           },
           "zeroline": false,
           "zerolinecolor": "#EBF0F8",
           "zerolinewidth": 2
          },
          "yaxis": {
           "automargin": true,
           "gridcolor": "#e9e9e9",
           "linecolor": "#EBF0F8",
           "ticks": "",
           "title": {
            "standoff": 15
           },
           "zeroline": false,
           "zerolinecolor": "#EBF0F8",
           "zerolinewidth": 2
          }
         }
        },
        "title": {
         "text": "\"The university has a vibrant open source culture\""
        },
        "xaxis": {
         "anchor": "y",
         "domain": [
          0.0,
          1.0
         ],
         "title": {
          "text": ""
         }
        },
        "yaxis": {
         "anchor": "x",
         "domain": [
          0.0,
          1.0
         ],
         "tickformat": ".1%",
         "title": {
          "text": "Percent"
         }
        }
       }
      }
     },
     "metadata": {},
     "output_type": "display_data"
    }
   ],
   "source": [
    "# ----- Figure 2: \"There is a vibrant culture at UNI\" by Respondent Type -----\n",
    "\n",
    "qid23_order = [\n",
    "    \"Strongly agree\",\n",
    "    \"Somewhat agree\", \n",
    "    \"Neither agree nor disagree\",\n",
    "    \"Somewhat disagree\",\n",
    "    \"Strongly disagree\",\n",
    "]\n",
    "df_c2 = (\n",
    "    df.assign(\n",
    "        QID4=df[\"QID4\"].map(fill_unaffiliated),\n",
    "        QID23=pd.Categorical(df[\"QID23\"], categories=qid23_order, ordered=True)\n",
    "    )\n",
    "    .rename(columns={\"QID4\": \"Respondent Type\"})\n",
    ")\n",
    "\n",
    "c2_df = (\n",
    "    df_c2.groupby([\"QID23\", \"Respondent Type\"], observed=True, dropna=False)\n",
    "         .size()\n",
    "         .reset_index(name=\"Count\")\n",
    ")\n",
    "c2_df[\"Percent\"] = c2_df[\"Count\"] / len(df)\n",
    "\n",
    "fig2 = px.bar(\n",
    "    c2_df, x=\"QID23\", y=\"Percent\",\n",
    "    color=\"Respondent Type\",\n",
    "    barmode=\"stack\",\n",
    "    title='\"The university has a vibrant open source culture\"'\n",
    ")\n",
    "fig2.update_layout(\n",
    "    yaxis=dict(tickformat=\".1%\"),\n",
    "    xaxis_title=\"\",\n",
    "    plot_bgcolor=\"white\",\n",
    "    paper_bgcolor=\"white\"\n",
    ")\n",
    "fig2.show()  # This was missing!\n",
    "fig2.write_html('_static/fig2.html', full_html=False, include_plotlyjs='cdn')"
   ]
  },
  {
   "cell_type": "markdown",
   "id": "cc845b12",
   "metadata": {},
   "source": [
    "```{raw} html\n",
    ":file: _static/fig2.html\n",
    "```\n",
    "\n",
    "## University Contribution to Open Source"
   ]
  },
  {
   "cell_type": "code",
   "execution_count": 4,
   "id": "b8182464",
   "metadata": {
    "tags": [
     "remove-input"
    ]
   },
   "outputs": [
    {
     "ename": "NameError",
     "evalue": "name 'df' is not defined",
     "output_type": "error",
     "traceback": [
      "\u001b[31m---------------------------------------------------------------------------\u001b[39m",
      "\u001b[31mNameError\u001b[39m                                 Traceback (most recent call last)",
      "\u001b[36mCell\u001b[39m\u001b[36m \u001b[39m\u001b[32mIn[4]\u001b[39m\u001b[32m, line 2\u001b[39m\n\u001b[32m      1\u001b[39m \u001b[38;5;66;03m# Agreement about contributing to OSS being sensible for the university\u001b[39;00m\n\u001b[32m----> \u001b[39m\u001b[32m2\u001b[39m yes_pct = \u001b[43mprop\u001b[49m\u001b[43m(\u001b[49m\u001b[43mdf\u001b[49m\u001b[43m[\u001b[49m\u001b[33;43m\"\u001b[39;49m\u001b[33;43mQID19\u001b[39;49m\u001b[33;43m\"\u001b[39;49m\u001b[43m]\u001b[49m\u001b[43m,\u001b[49m\u001b[43m \u001b[49m\u001b[38;5;28;43;01mlambda\u001b[39;49;00m\u001b[43m \u001b[49m\u001b[43ms\u001b[49m\u001b[43m:\u001b[49m\u001b[43m \u001b[49m\u001b[43ms\u001b[49m\u001b[43m \u001b[49m\u001b[43m==\u001b[49m\u001b[43m \u001b[49m\u001b[33;43m\"\u001b[39;49m\u001b[33;43mYes\u001b[39;49m\u001b[33;43m\"\u001b[39;49m\u001b[43m)\u001b[49m\n\u001b[32m      3\u001b[39m unsure_pct = prop(df[\u001b[33m\"\u001b[39m\u001b[33mQID19\u001b[39m\u001b[33m\"\u001b[39m], \u001b[38;5;28;01mlambda\u001b[39;00m s: s == \u001b[33m\"\u001b[39m\u001b[33mNot sure\u001b[39m\u001b[33m\"\u001b[39m)\n\u001b[32m      4\u001b[39m no_pct = prop(df[\u001b[33m\"\u001b[39m\u001b[33mQID19\u001b[39m\u001b[33m\"\u001b[39m], \u001b[38;5;28;01mlambda\u001b[39;00m s: s == \u001b[33m\"\u001b[39m\u001b[33mNo\u001b[39m\u001b[33m\"\u001b[39m)\n",
      "\u001b[36mFile \u001b[39m\u001b[32m~/Documents/DSI/2026/open_source_survey_results_myst/docs/setup.py:108\u001b[39m, in \u001b[36mprop\u001b[39m\u001b[34m(series, condition)\u001b[39m\n\u001b[32m    106\u001b[39m \u001b[38;5;28;01mdef\u001b[39;00m\u001b[38;5;250m \u001b[39m\u001b[34mprop\u001b[39m(series, condition):\n\u001b[32m    107\u001b[39m     series = series.dropna()\n\u001b[32m--> \u001b[39m\u001b[32m108\u001b[39m     \u001b[38;5;28;01mif\u001b[39;00m \u001b[38;5;28mlen\u001b[39m(\u001b[43mdf\u001b[49m) == \u001b[32m0\u001b[39m:\n\u001b[32m    109\u001b[39m         \u001b[38;5;28;01mreturn\u001b[39;00m \u001b[32m0.0\u001b[39m\n\u001b[32m    110\u001b[39m     \u001b[38;5;28;01mreturn\u001b[39;00m \u001b[38;5;28mround\u001b[39m((series[condition(series)].shape[\u001b[32m0\u001b[39m]) / \u001b[38;5;28mlen\u001b[39m(df), \u001b[32m2\u001b[39m) * \u001b[32m100\u001b[39m\n",
      "\u001b[31mNameError\u001b[39m: name 'df' is not defined"
     ]
    }
   ],
   "source": [
    "# Agreement about contributing to OSS being sensible for the university\n",
    "yes_pct = prop(df[\"QID19\"], lambda s: s == \"Yes\")\n",
    "unsure_pct = prop(df[\"QID19\"], lambda s: s == \"Not sure\")\n",
    "no_pct = prop(df[\"QID19\"], lambda s: s == \"No\")\n",
    "\n",
    "print(f\"Should the university contribute to open source:\")\n",
    "print(f\"- Yes: {yes_pct}%\")\n",
    "print(f\"- Not sure: {unsure_pct}%\") \n",
    "print(f\"- No: {no_pct}%\")"
   ]
  },
  {
   "cell_type": "markdown",
   "id": "0f2666c3",
   "metadata": {},
   "source": [
    "## Open Source Training On Campus"
   ]
  },
  {
   "cell_type": "code",
   "execution_count": null,
   "id": "5085a034",
   "metadata": {
    "tags": [
     "remove-input"
    ]
   },
   "outputs": [],
   "source": [
    "# QID25 == \"Yes\" for received at least some formal training\n",
    "training_yes_pct = prop(df[\"QID25\"], lambda s: s == \"Yes\")\n",
    "print(f\"Percentage who have received open source training: {training_yes_pct}%\")\n",
    "\n",
    "df_c3 = (\n",
    "    df.assign(\n",
    "        QID4=df[\"QID4\"].map(fill_unaffiliated)\n",
    "    )\n",
    "    .rename(columns={\"QID4\": \"Respondent Type\"})\n",
    ")\n",
    "c3_df = (\n",
    "    df_c3.groupby([\"QID25\", \"Respondent Type\"], observed=True, dropna=False)\n",
    "         .size()\n",
    "         .reset_index(name=\"Count\")\n",
    ")\n",
    "c3_df[\"Percent\"] = c3_df[\"Count\"] / len(df)\n",
    "\n",
    "df_c4 = (\n",
    "    df.assign(\n",
    "        QID8=df[\"QID8\"].map(fill_unaffiliated)\n",
    "    )\n",
    "    .rename(columns={\"QID8\": \"Affiliation\"})\n",
    ")\n",
    "c4_df = (\n",
    "    df_c4.groupby([\"QID25\", \"Affiliation\"], observed=True, dropna=False)\n",
    "         .size()\n",
    "         .reset_index(name=\"Count\")\n",
    ")\n",
    "c4_df[\"Percent\"] = c4_df[\"Count\"] / len(df)"
   ]
  },
  {
   "cell_type": "markdown",
   "id": "c0bbfa3b",
   "metadata": {},
   "source": [
    "### Training by Role"
   ]
  },
  {
   "cell_type": "code",
   "execution_count": null,
   "id": "c388e56c",
   "metadata": {
    "tags": [
     "remove-input"
    ]
   },
   "outputs": [],
   "source": [
    "fig3 = px.bar(\n",
    "    c3_df, x=\"QID25\", y=\"Percent\",\n",
    "    color=\"Respondent Type\",\n",
    "    barmode=\"stack\",\n",
    "    title=\"Have received open source training at the university (by role)\"\n",
    ")\n",
    "fig3.update_layout(\n",
    "    yaxis=dict(tickformat=\".1%\"),\n",
    "    plot_bgcolor=\"white\",\n",
    "    paper_bgcolor=\"white\",\n",
    ")\n",
    "fig3.show()\n",
    "fig3.write_html('_static/fig3.html', full_html=False, include_plotlyjs='cdn')"
   ]
  },
  {
   "cell_type": "markdown",
   "id": "bea51611",
   "metadata": {},
   "source": [
    "```{raw} html\n",
    ":file: _static/fig3.html\n",
    "```\n",
    "\n",
    "### Training by Affiliation"
   ]
  },
  {
   "cell_type": "code",
   "execution_count": null,
   "id": "a60ded00",
   "metadata": {
    "tags": [
     "remove-input"
    ]
   },
   "outputs": [],
   "source": [
    "fig4 = px.bar(\n",
    "    c4_df, x=\"QID25\", y=\"Percent\",\n",
    "    color=\"Affiliation\",\n",
    "    barmode=\"stack\", \n",
    "    title=\"Have received open source training at the university (by affiliation)\"\n",
    ")\n",
    "fig4.update_layout(\n",
    "    yaxis=dict(tickformat=\".1%\"),\n",
    "    plot_bgcolor=\"white\",\n",
    "    paper_bgcolor=\"white\"\n",
    ")\n",
    "fig4.update_layout(hoverlabel=dict(namelength=-1))\n",
    "fig4.show()  # This was missing!\n",
    "fig4.write_html('_static/fig4.html', full_html=False, include_plotlyjs='cdn')"
   ]
  },
  {
   "cell_type": "markdown",
   "id": "5707ad38",
   "metadata": {},
   "source": [
    "```{raw} html\n",
    ":file: _static/fig4.html\n",
    "```\n",
    "\n",
    "## Interest in Additional Training"
   ]
  },
  {
   "cell_type": "code",
   "execution_count": null,
   "id": "a02f2fb5",
   "metadata": {
    "tags": [
     "remove-input"
    ]
   },
   "outputs": [],
   "source": [
    "# Interest in more training (QID28) and OSPO workshops (QID29)\n",
    "more_training_pct = prop(df[\"QID28\"], lambda s: s == \"Yes\")\n",
    "ospo_workshops_pct = prop(df[\"QID29\"], lambda s: s == \"Yes\")\n",
    "\n",
    "print(f\"Interest in more training: {more_training_pct}%\")\n",
    "print(f\"Interest in OSPO workshops: {ospo_workshops_pct}%\")"
   ]
  }
 ],
 "metadata": {
  "jupytext": {
   "text_representation": {
    "format_name": "myst"
   }
  },
  "kernelspec": {
   "display_name": "Python 3",
   "language": "python",
   "name": "python3"
  },
  "language_info": {
   "codemirror_mode": {
    "name": "ipython",
    "version": 3
   },
   "file_extension": ".py",
   "mimetype": "text/x-python",
   "name": "python",
   "nbconvert_exporter": "python",
   "pygments_lexer": "ipython3",
   "version": "3.13.7"
  },
  "source_map": [
   10,
   16,
   70,
   78,
   83,
   123,
   131,
   142,
   146,
   177,
   181,
   196,
   204,
   220,
   228
  ],
  "title": "Campus Culture"
 },
 "nbformat": 4,
 "nbformat_minor": 5
}