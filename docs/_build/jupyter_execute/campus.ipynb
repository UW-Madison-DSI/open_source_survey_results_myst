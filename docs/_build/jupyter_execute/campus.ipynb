{
 "cells": [
  {
   "cell_type": "markdown",
   "id": "bedc4ab1",
   "metadata": {},
   "source": [
    "# Perceptions of Open Source Culture On Campus"
   ]
  },
  {
   "cell_type": "code",
   "execution_count": 1,
   "id": "3d61e434",
   "metadata": {},
   "outputs": [
    {
     "ename": "ValueError",
     "evalue": "\n    Invalid value of type 'plotly.graph_objs._layout.Layout' received for the 'template' property of layout\n        Received value: Layout({\n    'annotationdefaults': {'arrowcolor': '#2a3f5f', 'arrowhead': 0, 'arrowwidth': 1},\n    'autotypenumbers': 'strict',\n    'coloraxis': {'colorbar': {'outlinewidth': 0, 'ticks': ''}},\n    'colorscale': {'diverging': [[0, '#8e0152'], [0.1, '#c51b7d'], [0.2,\n                                 '#de77ae'], [0.3, '#f1b6da'], [0.4, '#fde0ef'],\n                                 [0.5, '#f7f7f7'], [0.6, '#e6f5d0'], [0.7,\n                                 '#b8e186'], [0.8, '#7fbc41'], [0.9, '#4d9221'],\n                                 [1, '#276419']],\n                   'sequential': [[0.0, '#0d0887'], [0.1111111111111111,\n                                  '#46039f'], [0.2222222222222222, '#7201a8'],\n                                  [0.3333333333333333, '#9c179e'],\n                                  [0.4444444444444444, '#bd3786'],\n                                  [0.5555555555555556, '#d8576b'],\n                                  [0.6666666666666666, '#ed7953'],\n                                  [0.7777777777777778, '#fb9f3a'],\n                                  [0.8888888888888888, '#fdca26'], [1.0,\n                                  '#f0f921']],\n                   'sequentialminus': [[0.0, '#0d0887'], [0.1111111111111111,\n                                       '#46039f'], [0.2222222222222222, '#7201a8'],\n                                       [0.3333333333333333, '#9c179e'],\n                                       [0.4444444444444444, '#bd3786'],\n                                       [0.5555555555555556, '#d8576b'],\n                                       [0.6666666666666666, '#ed7953'],\n                                       [0.7777777777777778, '#fb9f3a'],\n                                       [0.8888888888888888, '#fdca26'], [1.0,\n                                       '#f0f921']]},\n    'colorway': [#9B0000, #666666, #B60205, #8c1515, #9c9c9c],\n    'font': {'color': '#2a3f5f', 'family': 'Red Hat Text, Arial, sans-serif'},\n    'geo': {'bgcolor': 'white',\n            'lakecolor': 'white',\n            'landcolor': 'white',\n            'showlakes': True,\n            'showland': True,\n            'subunitcolor': '#C8D4E3'},\n    'hoverlabel': {'align': 'left'},\n    'hovermode': 'closest',\n    'legend': {'orientation': 'h', 'y': -0.2, 'yanchor': 'bottom'},\n    'mapbox': {'style': 'light'},\n    'paper_bgcolor': '#F7F7F7',\n    'plot_bgcolor': '#F7F7F7',\n    'polar': {'angularaxis': {'gridcolor': '#EBF0F8', 'linecolor': '#EBF0F8', 'ticks': ''},\n              'bgcolor': 'white',\n              'radialaxis': {'gridcolor': '#EBF0F8', 'linecolor': '#EBF0F8', 'ticks': ''}},\n    'scene': {'xaxis': {'backgroundcolor': 'white',\n                        'gridcolor': '#DFE8F3',\n                        'gridwidth': 2,\n                        'linecolor': '#EBF0F8',\n                        'showbackground': True,\n                        'ticks': '',\n                        'zerolinecolor': '#EBF0F8'},\n              'yaxis': {'backgroundcolor': 'white',\n                        'gridcolor': '#DFE8F3',\n                        'gridwidth': 2,\n                        'linecolor': '#EBF0F8',\n                        'showbackground': True,\n                        'ticks': '',\n                        'zerolinecolor': '#EBF0F8'},\n              'zaxis': {'backgroundcolor': 'white',\n                        'gridcolor': '#DFE8F3',\n                        'gridwidth': 2,\n                        'linecolor': '#EBF0F8',\n                        'showbackground': True,\n                        'ticks': '',\n                        'zerolinecolor': '#EBF0F8'}},\n    'shapedefaults': {'line': {'color': '#2a3f5f'}},\n    'ternary': {'aaxis': {'gridcolor': '#DFE8F3', 'linecolor': '#A2B1C6', 'ticks': ''},\n                'baxis': {'gridcolor': '#DFE8F3', 'linecolor': '#A2B1C6', 'ticks': ''},\n                'bgcolor': 'white',\n                'caxis': {'gridcolor': '#DFE8F3', 'linecolor': '#A2B1C6', 'ticks': ''}},\n    'title': {'x': 0.05},\n    'xaxis': {'automargin': True,\n              'gridcolor': 'rgba(0,0,0,0)',\n              'linecolor': '#EBF0F8',\n              'ticks': '',\n              'title': {'standoff': 15},\n              'zerolinecolor': '#EBF0F8',\n              'zerolinewidth': 2},\n    'yaxis': {'automargin': True,\n              'gridcolor': '#333333',\n              'linecolor': '#EBF0F8',\n              'ticks': '',\n              'title': {'standoff': 15},\n              'zerolinecolor': '#EBF0F8',\n              'zerolinewidth': 2}\n})\n\n    The 'template' property is an instance of Template\n    that may be specified as:\n      - An instance of :class:`plotly.graph_objs.layout.Template`\n      - A dict of string/value properties that will be passed\n        to the Template constructor\n      - The name of a registered template where current registered templates\n        are stored in the plotly.io.templates configuration object. The names\n        of all registered templates can be retrieved with:\n            >>> import plotly.io as pio\n            >>> list(pio.templates)  # doctest: +ELLIPSIS\n            ['ggplot2', 'seaborn', 'simple_white', 'plotly', 'plotly_white', ...]\n\n      - A string containing multiple registered template names, joined on '+'\n        characters (e.g. 'template1+template2'). In this case the resulting\n        template is computed by merging together the collection of registered\n        templates",
     "output_type": "error",
     "traceback": [
      "\u001b[31m---------------------------------------------------------------------------\u001b[39m",
      "\u001b[31mValueError\u001b[39m                                Traceback (most recent call last)",
      "\u001b[36mCell\u001b[39m\u001b[36m \u001b[39m\u001b[32mIn[1]\u001b[39m\u001b[32m, line 9\u001b[39m\n\u001b[32m      6\u001b[39m \u001b[38;5;28;01mimport\u001b[39;00m\u001b[38;5;250m \u001b[39m\u001b[34;01mplotly\u001b[39;00m\u001b[34;01m.\u001b[39;00m\u001b[34;01mio\u001b[39;00m\u001b[38;5;250m \u001b[39m\u001b[38;5;28;01mas\u001b[39;00m\u001b[38;5;250m \u001b[39m\u001b[34;01mpio\u001b[39;00m\n\u001b[32m      7\u001b[39m \u001b[38;5;28;01mimport\u001b[39;00m\u001b[38;5;250m \u001b[39m\u001b[34;01mmatplotlib\u001b[39;00m\u001b[38;5;250m \u001b[39m\u001b[38;5;28;01mas\u001b[39;00m\u001b[38;5;250m \u001b[39m\u001b[34;01mmpl\u001b[39;00m\n\u001b[32m----> \u001b[39m\u001b[32m9\u001b[39m \u001b[38;5;28;01mfrom\u001b[39;00m\u001b[38;5;250m \u001b[39m\u001b[34;01msetup\u001b[39;00m\u001b[38;5;250m \u001b[39m\u001b[38;5;28;01mimport\u001b[39;00m *\n\u001b[32m     10\u001b[39m \u001b[38;5;66;03m# Load data (adjust path if needed)\u001b[39;00m\n\u001b[32m     11\u001b[39m df = survey_results\n",
      "\u001b[36mFile \u001b[39m\u001b[32m~/Documents/DSI/2026/open_source_survey_results_myst/docs/setup.py:17\u001b[39m\n\u001b[32m     13\u001b[39m UNI_NAME           = \u001b[33m\"\u001b[39m\u001b[33mUW-Madison\u001b[39m\u001b[33m\"\u001b[39m\n\u001b[32m     15\u001b[39m \u001b[38;5;66;03m# ===== Plotly theme (rough analog to your ggplot2 themes) =====\u001b[39;00m\n\u001b[32m     16\u001b[39m \u001b[38;5;66;03m# See: https://plotly.com/python/templates/\u001b[39;00m\n\u001b[32m---> \u001b[39m\u001b[32m17\u001b[39m \u001b[43mpio\u001b[49m\u001b[43m.\u001b[49m\u001b[43mtemplates\u001b[49m\u001b[43m[\u001b[49m\u001b[33;43m\"\u001b[39;49m\u001b[33;43muw_theme\u001b[39;49m\u001b[33;43m\"\u001b[39;49m\u001b[43m]\u001b[49m = pio.templates[\u001b[33m\"\u001b[39m\u001b[33mplotly_white\u001b[39m\u001b[33m\"\u001b[39m].layout.update(\n\u001b[32m     18\u001b[39m     {\n\u001b[32m     19\u001b[39m         \u001b[33m\"\u001b[39m\u001b[33mfont\u001b[39m\u001b[33m\"\u001b[39m: {\u001b[33m\"\u001b[39m\u001b[33mfamily\u001b[39m\u001b[33m\"\u001b[39m: \u001b[33m\"\u001b[39m\u001b[33mRed Hat Text, Arial, sans-serif\u001b[39m\u001b[33m\"\u001b[39m},\n\u001b[32m     20\u001b[39m         \u001b[33m\"\u001b[39m\u001b[33mpaper_bgcolor\u001b[39m\u001b[33m\"\u001b[39m: BACKGROUND_COLOR,\n\u001b[32m     21\u001b[39m         \u001b[33m\"\u001b[39m\u001b[33mplot_bgcolor\u001b[39m\u001b[33m\"\u001b[39m: BACKGROUND_COLOR,\n\u001b[32m     22\u001b[39m         \u001b[33m\"\u001b[39m\u001b[33mcolorway\u001b[39m\u001b[33m\"\u001b[39m: [PRIMARY_COLOR, \u001b[33m\"\u001b[39m\u001b[33m#666666\u001b[39m\u001b[33m\"\u001b[39m, \u001b[33m\"\u001b[39m\u001b[33m#B60205\u001b[39m\u001b[33m\"\u001b[39m, \u001b[33m\"\u001b[39m\u001b[33m#8c1515\u001b[39m\u001b[33m\"\u001b[39m, \u001b[33m\"\u001b[39m\u001b[33m#9c9c9c\u001b[39m\u001b[33m\"\u001b[39m],\n\u001b[32m     23\u001b[39m         \u001b[33m\"\u001b[39m\u001b[33mlegend\u001b[39m\u001b[33m\"\u001b[39m: {\u001b[33m\"\u001b[39m\u001b[33morientation\u001b[39m\u001b[33m\"\u001b[39m: \u001b[33m\"\u001b[39m\u001b[33mh\u001b[39m\u001b[33m\"\u001b[39m, \u001b[33m\"\u001b[39m\u001b[33myanchor\u001b[39m\u001b[33m\"\u001b[39m: \u001b[33m\"\u001b[39m\u001b[33mbottom\u001b[39m\u001b[33m\"\u001b[39m, \u001b[33m\"\u001b[39m\u001b[33my\u001b[39m\u001b[33m\"\u001b[39m: -\u001b[32m0.2\u001b[39m},\n\u001b[32m     24\u001b[39m         \u001b[33m\"\u001b[39m\u001b[33mxaxis\u001b[39m\u001b[33m\"\u001b[39m: {\u001b[33m\"\u001b[39m\u001b[33mgridcolor\u001b[39m\u001b[33m\"\u001b[39m: \u001b[33m\"\u001b[39m\u001b[33mrgba(0,0,0,0)\u001b[39m\u001b[33m\"\u001b[39m},\n\u001b[32m     25\u001b[39m         \u001b[33m\"\u001b[39m\u001b[33myaxis\u001b[39m\u001b[33m\"\u001b[39m: {\u001b[33m\"\u001b[39m\u001b[33mgridcolor\u001b[39m\u001b[33m\"\u001b[39m: DARK_ACCENT},\n\u001b[32m     26\u001b[39m     }\n\u001b[32m     27\u001b[39m )\n\u001b[32m     28\u001b[39m pio.templates.default = \u001b[33m\"\u001b[39m\u001b[33muw_theme\u001b[39m\u001b[33m\"\u001b[39m\n\u001b[32m     30\u001b[39m \u001b[38;5;66;03m# ===== Matplotlib defaults (if you make static figures too) =====\u001b[39;00m\n\u001b[32m     31\u001b[39m \u001b[38;5;66;03m# rcParams guide: https://matplotlib.org/stable/users/explain/customizing.html\u001b[39;00m\n",
      "\u001b[36mFile \u001b[39m\u001b[32m~/Documents/DSI/2026/open_source_survey_results_myst/venv/lib/python3.13/site-packages/plotly/io/_templates.py:94\u001b[39m, in \u001b[36mTemplatesConfig.__setitem__\u001b[39m\u001b[34m(self, key, value)\u001b[39m\n\u001b[32m     93\u001b[39m \u001b[38;5;28;01mdef\u001b[39;00m\u001b[38;5;250m \u001b[39m\u001b[34m__setitem__\u001b[39m(\u001b[38;5;28mself\u001b[39m, key, value):\n\u001b[32m---> \u001b[39m\u001b[32m94\u001b[39m     \u001b[38;5;28mself\u001b[39m._templates[key] = \u001b[38;5;28;43mself\u001b[39;49m\u001b[43m.\u001b[49m\u001b[43m_validate\u001b[49m\u001b[43m(\u001b[49m\u001b[43mvalue\u001b[49m\u001b[43m)\u001b[49m\n",
      "\u001b[36mFile \u001b[39m\u001b[32m~/Documents/DSI/2026/open_source_survey_results_myst/venv/lib/python3.13/site-packages/plotly/io/_templates.py:110\u001b[39m, in \u001b[36mTemplatesConfig._validate\u001b[39m\u001b[34m(self, value)\u001b[39m\n\u001b[32m    106\u001b[39m     \u001b[38;5;28;01mfrom\u001b[39;00m\u001b[38;5;250m \u001b[39m\u001b[34;01mplotly\u001b[39;00m\u001b[34;01m.\u001b[39;00m\u001b[34;01mvalidator_cache\u001b[39;00m\u001b[38;5;250m \u001b[39m\u001b[38;5;28;01mimport\u001b[39;00m ValidatorCache\n\u001b[32m    108\u001b[39m     \u001b[38;5;28mself\u001b[39m._validator = ValidatorCache.get_validator(\u001b[33m\"\u001b[39m\u001b[33mlayout\u001b[39m\u001b[33m\"\u001b[39m, \u001b[33m\"\u001b[39m\u001b[33mtemplate\u001b[39m\u001b[33m\"\u001b[39m)\n\u001b[32m--> \u001b[39m\u001b[32m110\u001b[39m \u001b[38;5;28;01mreturn\u001b[39;00m \u001b[38;5;28;43mself\u001b[39;49m\u001b[43m.\u001b[49m\u001b[43m_validator\u001b[49m\u001b[43m.\u001b[49m\u001b[43mvalidate_coerce\u001b[49m\u001b[43m(\u001b[49m\u001b[43mvalue\u001b[49m\u001b[43m)\u001b[49m\n",
      "\u001b[36mFile \u001b[39m\u001b[32m~/Documents/DSI/2026/open_source_survey_results_myst/venv/lib/python3.13/site-packages/_plotly_utils/basevalidators.py:2709\u001b[39m, in \u001b[36mBaseTemplateValidator.validate_coerce\u001b[39m\u001b[34m(self, v, skip_invalid)\u001b[39m\n\u001b[32m   2703\u001b[39m \u001b[38;5;28;01mif\u001b[39;00m v == {} \u001b[38;5;129;01mor\u001b[39;00m \u001b[38;5;28misinstance\u001b[39m(v, \u001b[38;5;28mself\u001b[39m.data_class) \u001b[38;5;129;01mand\u001b[39;00m v.to_plotly_json() == {}:\n\u001b[32m   2704\u001b[39m     \u001b[38;5;66;03m# Replace empty template with {'data': {'scatter': [{}]}} so that we can\u001b[39;00m\n\u001b[32m   2705\u001b[39m     \u001b[38;5;66;03m# tell the difference between an un-initialized template and a template\u001b[39;00m\n\u001b[32m   2706\u001b[39m     \u001b[38;5;66;03m# explicitly set to empty.\u001b[39;00m\n\u001b[32m   2707\u001b[39m     \u001b[38;5;28;01mreturn\u001b[39;00m \u001b[38;5;28mself\u001b[39m.data_class(data_scatter=[{}])\n\u001b[32m-> \u001b[39m\u001b[32m2709\u001b[39m \u001b[38;5;28;01mreturn\u001b[39;00m \u001b[38;5;28;43msuper\u001b[39;49m\u001b[43m(\u001b[49m\u001b[43mBaseTemplateValidator\u001b[49m\u001b[43m,\u001b[49m\u001b[43m \u001b[49m\u001b[38;5;28;43mself\u001b[39;49m\u001b[43m)\u001b[49m\u001b[43m.\u001b[49m\u001b[43mvalidate_coerce\u001b[49m\u001b[43m(\u001b[49m\n\u001b[32m   2710\u001b[39m \u001b[43m    \u001b[49m\u001b[43mv\u001b[49m\u001b[43m,\u001b[49m\u001b[43m \u001b[49m\u001b[43mskip_invalid\u001b[49m\u001b[43m=\u001b[49m\u001b[43mskip_invalid\u001b[49m\n\u001b[32m   2711\u001b[39m \u001b[43m\u001b[49m\u001b[43m)\u001b[49m\n",
      "\u001b[36mFile \u001b[39m\u001b[32m~/Documents/DSI/2026/open_source_survey_results_myst/venv/lib/python3.13/site-packages/_plotly_utils/basevalidators.py:2434\u001b[39m, in \u001b[36mCompoundValidator.validate_coerce\u001b[39m\u001b[34m(self, v, skip_invalid, _validate)\u001b[39m\n\u001b[32m   2432\u001b[39m         v = \u001b[38;5;28mself\u001b[39m.data_class()\n\u001b[32m   2433\u001b[39m     \u001b[38;5;28;01melse\u001b[39;00m:\n\u001b[32m-> \u001b[39m\u001b[32m2434\u001b[39m         \u001b[38;5;28;43mself\u001b[39;49m\u001b[43m.\u001b[49m\u001b[43mraise_invalid_val\u001b[49m\u001b[43m(\u001b[49m\u001b[43mv\u001b[49m\u001b[43m)\u001b[49m\n\u001b[32m   2436\u001b[39m v._plotly_name = \u001b[38;5;28mself\u001b[39m.plotly_name\n\u001b[32m   2437\u001b[39m \u001b[38;5;28;01mreturn\u001b[39;00m v\n",
      "\u001b[36mFile \u001b[39m\u001b[32m~/Documents/DSI/2026/open_source_survey_results_myst/venv/lib/python3.13/site-packages/_plotly_utils/basevalidators.py:298\u001b[39m, in \u001b[36mBaseValidator.raise_invalid_val\u001b[39m\u001b[34m(self, v, inds)\u001b[39m\n\u001b[32m    295\u001b[39m             \u001b[38;5;28;01mfor\u001b[39;00m i \u001b[38;5;129;01min\u001b[39;00m inds:\n\u001b[32m    296\u001b[39m                 name += \u001b[33m\"\u001b[39m\u001b[33m[\u001b[39m\u001b[33m\"\u001b[39m + \u001b[38;5;28mstr\u001b[39m(i) + \u001b[33m\"\u001b[39m\u001b[33m]\u001b[39m\u001b[33m\"\u001b[39m\n\u001b[32m--> \u001b[39m\u001b[32m298\u001b[39m         \u001b[38;5;28;01mraise\u001b[39;00m \u001b[38;5;167;01mValueError\u001b[39;00m(\n\u001b[32m    299\u001b[39m \u001b[38;5;250m            \u001b[39m\u001b[33;03m\"\"\"\u001b[39;00m\n\u001b[32m    300\u001b[39m \u001b[33;03m    Invalid value of type {typ} received for the '{name}' property of {pname}\u001b[39;00m\n\u001b[32m    301\u001b[39m \u001b[33;03m        Received value: {v}\u001b[39;00m\n\u001b[32m    302\u001b[39m \n\u001b[32m    303\u001b[39m \u001b[33;03m{valid_clr_desc}\"\"\"\u001b[39;00m.format(\n\u001b[32m    304\u001b[39m                 name=name,\n\u001b[32m    305\u001b[39m                 pname=\u001b[38;5;28mself\u001b[39m.parent_name,\n\u001b[32m    306\u001b[39m                 typ=type_str(v),\n\u001b[32m    307\u001b[39m                 v=\u001b[38;5;28mrepr\u001b[39m(v),\n\u001b[32m    308\u001b[39m                 valid_clr_desc=\u001b[38;5;28mself\u001b[39m.description(),\n\u001b[32m    309\u001b[39m             )\n\u001b[32m    310\u001b[39m         )\n",
      "\u001b[31mValueError\u001b[39m: \n    Invalid value of type 'plotly.graph_objs._layout.Layout' received for the 'template' property of layout\n        Received value: Layout({\n    'annotationdefaults': {'arrowcolor': '#2a3f5f', 'arrowhead': 0, 'arrowwidth': 1},\n    'autotypenumbers': 'strict',\n    'coloraxis': {'colorbar': {'outlinewidth': 0, 'ticks': ''}},\n    'colorscale': {'diverging': [[0, '#8e0152'], [0.1, '#c51b7d'], [0.2,\n                                 '#de77ae'], [0.3, '#f1b6da'], [0.4, '#fde0ef'],\n                                 [0.5, '#f7f7f7'], [0.6, '#e6f5d0'], [0.7,\n                                 '#b8e186'], [0.8, '#7fbc41'], [0.9, '#4d9221'],\n                                 [1, '#276419']],\n                   'sequential': [[0.0, '#0d0887'], [0.1111111111111111,\n                                  '#46039f'], [0.2222222222222222, '#7201a8'],\n                                  [0.3333333333333333, '#9c179e'],\n                                  [0.4444444444444444, '#bd3786'],\n                                  [0.5555555555555556, '#d8576b'],\n                                  [0.6666666666666666, '#ed7953'],\n                                  [0.7777777777777778, '#fb9f3a'],\n                                  [0.8888888888888888, '#fdca26'], [1.0,\n                                  '#f0f921']],\n                   'sequentialminus': [[0.0, '#0d0887'], [0.1111111111111111,\n                                       '#46039f'], [0.2222222222222222, '#7201a8'],\n                                       [0.3333333333333333, '#9c179e'],\n                                       [0.4444444444444444, '#bd3786'],\n                                       [0.5555555555555556, '#d8576b'],\n                                       [0.6666666666666666, '#ed7953'],\n                                       [0.7777777777777778, '#fb9f3a'],\n                                       [0.8888888888888888, '#fdca26'], [1.0,\n                                       '#f0f921']]},\n    'colorway': [#9B0000, #666666, #B60205, #8c1515, #9c9c9c],\n    'font': {'color': '#2a3f5f', 'family': 'Red Hat Text, Arial, sans-serif'},\n    'geo': {'bgcolor': 'white',\n            'lakecolor': 'white',\n            'landcolor': 'white',\n            'showlakes': True,\n            'showland': True,\n            'subunitcolor': '#C8D4E3'},\n    'hoverlabel': {'align': 'left'},\n    'hovermode': 'closest',\n    'legend': {'orientation': 'h', 'y': -0.2, 'yanchor': 'bottom'},\n    'mapbox': {'style': 'light'},\n    'paper_bgcolor': '#F7F7F7',\n    'plot_bgcolor': '#F7F7F7',\n    'polar': {'angularaxis': {'gridcolor': '#EBF0F8', 'linecolor': '#EBF0F8', 'ticks': ''},\n              'bgcolor': 'white',\n              'radialaxis': {'gridcolor': '#EBF0F8', 'linecolor': '#EBF0F8', 'ticks': ''}},\n    'scene': {'xaxis': {'backgroundcolor': 'white',\n                        'gridcolor': '#DFE8F3',\n                        'gridwidth': 2,\n                        'linecolor': '#EBF0F8',\n                        'showbackground': True,\n                        'ticks': '',\n                        'zerolinecolor': '#EBF0F8'},\n              'yaxis': {'backgroundcolor': 'white',\n                        'gridcolor': '#DFE8F3',\n                        'gridwidth': 2,\n                        'linecolor': '#EBF0F8',\n                        'showbackground': True,\n                        'ticks': '',\n                        'zerolinecolor': '#EBF0F8'},\n              'zaxis': {'backgroundcolor': 'white',\n                        'gridcolor': '#DFE8F3',\n                        'gridwidth': 2,\n                        'linecolor': '#EBF0F8',\n                        'showbackground': True,\n                        'ticks': '',\n                        'zerolinecolor': '#EBF0F8'}},\n    'shapedefaults': {'line': {'color': '#2a3f5f'}},\n    'ternary': {'aaxis': {'gridcolor': '#DFE8F3', 'linecolor': '#A2B1C6', 'ticks': ''},\n                'baxis': {'gridcolor': '#DFE8F3', 'linecolor': '#A2B1C6', 'ticks': ''},\n                'bgcolor': 'white',\n                'caxis': {'gridcolor': '#DFE8F3', 'linecolor': '#A2B1C6', 'ticks': ''}},\n    'title': {'x': 0.05},\n    'xaxis': {'automargin': True,\n              'gridcolor': 'rgba(0,0,0,0)',\n              'linecolor': '#EBF0F8',\n              'ticks': '',\n              'title': {'standoff': 15},\n              'zerolinecolor': '#EBF0F8',\n              'zerolinewidth': 2},\n    'yaxis': {'automargin': True,\n              'gridcolor': '#333333',\n              'linecolor': '#EBF0F8',\n              'ticks': '',\n              'title': {'standoff': 15},\n              'zerolinecolor': '#EBF0F8',\n              'zerolinewidth': 2}\n})\n\n    The 'template' property is an instance of Template\n    that may be specified as:\n      - An instance of :class:`plotly.graph_objs.layout.Template`\n      - A dict of string/value properties that will be passed\n        to the Template constructor\n      - The name of a registered template where current registered templates\n        are stored in the plotly.io.templates configuration object. The names\n        of all registered templates can be retrieved with:\n            >>> import plotly.io as pio\n            >>> list(pio.templates)  # doctest: +ELLIPSIS\n            ['ggplot2', 'seaborn', 'simple_white', 'plotly', 'plotly_white', ...]\n\n      - A string containing multiple registered template names, joined on '+'\n        characters (e.g. 'template1+template2'). In this case the resulting\n        template is computed by merging together the collection of registered\n        templates"
     ]
    }
   ],
   "source": [
    "# Imports\n",
    "import pandas as pd\n",
    "import plotly.express as px\n",
    "import plotly.graph_objects as go\n",
    "from pathlib import Path\n",
    "import plotly.io as pio\n",
    "import matplotlib as mpl\n",
    "\n",
    "from setup import *\n",
    "# Load data (adjust path if needed)\n",
    "df = survey_results\n",
    "\n",
    "# Helper: safe proportion\n",
    "def prop(series, condition):\n",
    "    series = series.dropna()\n",
    "    if len(df) == 0:\n",
    "        return 0.0\n",
    "    return round((series[condition(series)].shape[0]) / len(df), 2) * 100\n",
    "\n",
    "# Clean label helpers\n",
    "def fill_unaffiliated(x):\n",
    "    return \"Unaffiliated\" if pd.isna(x) else x\n",
    "\n",
    "very_valuable_pct = prop(df[\"QID24\"], lambda s: s == \"Very valuable\")\n",
    "print(f\"Percentage who find vibrant culture 'Very valuable': {very_valuable_pct}%\")"
   ]
  },
  {
   "cell_type": "markdown",
   "id": "635bf4fd",
   "metadata": {},
   "source": [
    "## Value of Open Source Culture"
   ]
  },
  {
   "cell_type": "code",
   "execution_count": null,
   "id": "9995b04b",
   "metadata": {},
   "outputs": [],
   "source": [
    "# ----- Figure 1: \"Value of a vibrant culture\" by Respondent Type -----\n",
    "\n",
    "# Map / order categories to match your R code\n",
    "qid24_order = [\n",
    "    \"Very valuable\",\n",
    "    \"Some value\", \n",
    "    \"Neutral\",\n",
    "    \"No value\"\n",
    "]\n",
    "df_c1 = (\n",
    "    df.assign(\n",
    "        QID4=df[\"QID4\"].map(fill_unaffiliated),\n",
    "        QID24=pd.Categorical(df[\"QID24\"], categories=qid24_order, ordered=True)\n",
    "    )\n",
    "    .rename(columns={\"QID4\": \"Respondent Type\"})\n",
    ")\n",
    "\n",
    "# Group and compute percentages over all responses (like your R code)\n",
    "c1_df = (\n",
    "    df_c1.groupby([\"QID24\", \"Respondent Type\"], dropna=False)\n",
    "         .size()\n",
    "         .reset_index(name=\"Count\")\n",
    ")\n",
    "c1_df[\"Percent\"] = c1_df[\"Count\"] / len(df)\n",
    "\n",
    "fig1 = px.bar(\n",
    "    c1_df, x=\"QID24\", y=\"Percent\",\n",
    "    color=\"Respondent Type\",\n",
    "    barmode=\"stack\",\n",
    "    title='\"Do you see value in having a vibrant culture around open source software?\"'\n",
    ")\n",
    "fig1.update_layout(\n",
    "    yaxis=dict(tickformat=\".1%\"),\n",
    "    xaxis_title=\"\",\n",
    "    plot_bgcolor=\"white\",\n",
    "    paper_bgcolor=\"white\"\n",
    ")\n",
    "fig1.show()\n",
    "fig1.write_html('_static/plotly_example.html', full_html=False, include_plotlyjs='cdn')"
   ]
  },
  {
   "cell_type": "markdown",
   "id": "72e1c703",
   "metadata": {},
   "source": [
    "```{raw} html\n",
    ":file: _static/plotly_example.html\n",
    "```\n",
    "\n",
    "## Current Campus Culture Perception"
   ]
  },
  {
   "cell_type": "code",
   "execution_count": null,
   "id": "ff29e914",
   "metadata": {
    "tags": [
     "hide-input"
    ]
   },
   "outputs": [],
   "source": [
    "agree_options = {\"Strongly agree\", \"Somewhat agree\"}\n",
    "vibrant_agree_pct = prop(df[\"QID23\"], lambda s: s.isin(agree_options))\n",
    "\n",
    "print(f\"In comparison, only **{vibrant_agree_pct}%** agreed that there is a vibrant open source culture at the university.\")"
   ]
  },
  {
   "cell_type": "code",
   "execution_count": null,
   "id": "38188c95",
   "metadata": {
    "tags": [
     "remove-input"
    ]
   },
   "outputs": [],
   "source": [
    "# ----- Figure 2: \"There is a vibrant culture at UNI\" by Respondent Type -----\n",
    "\n",
    "qid23_order = [\n",
    "    \"Strongly agree\",\n",
    "    \"Somewhat agree\", \n",
    "    \"Neither agree nor disagree\",\n",
    "    \"Somewhat disagree\",\n",
    "    \"Strongly disagree\",\n",
    "]\n",
    "df_c2 = (\n",
    "    df.assign(\n",
    "        QID4=df[\"QID4\"].map(fill_unaffiliated),\n",
    "        QID23=pd.Categorical(df[\"QID23\"], categories=qid23_order, ordered=True)\n",
    "    )\n",
    "    .rename(columns={\"QID4\": \"Respondent Type\"})\n",
    ")\n",
    "\n",
    "c2_df = (\n",
    "    df_c2.groupby([\"QID23\", \"Respondent Type\"], dropna=False)\n",
    "         .size()\n",
    "         .reset_index(name=\"Count\")\n",
    ")\n",
    "c2_df[\"Percent\"] = c2_df[\"Count\"] / len(df)\n",
    "\n",
    "fig2 = px.bar(\n",
    "    c2_df, x=\"QID23\", y=\"Percent\",\n",
    "    color=\"Respondent Type\",\n",
    "    barmode=\"stack\",\n",
    "    title='\"The university has a vibrant open source culture\"'\n",
    ")\n",
    "fig2.update_layout(\n",
    "    yaxis=dict(tickformat=\".1%\"),\n",
    "    xaxis_title=\"\",\n",
    "    plot_bgcolor=\"white\",\n",
    "    paper_bgcolor=\"white\"\n",
    ")\n",
    "fig2.show()  # This was missing!\n",
    "fig2.write_html('_static/fig2.html', full_html=False, include_plotlyjs='cdn')"
   ]
  },
  {
   "cell_type": "markdown",
   "id": "07bedaf9",
   "metadata": {},
   "source": [
    "```{raw} html\n",
    ":file: _static/fig2.html\n",
    "```\n",
    "\n",
    "## University Contribution to Open Source"
   ]
  },
  {
   "cell_type": "code",
   "execution_count": null,
   "id": "ff6ef7bb",
   "metadata": {
    "tags": [
     "remove-input"
    ]
   },
   "outputs": [],
   "source": [
    "# Agreement about contributing to OSS being sensible for the university\n",
    "yes_pct = prop(df[\"QID19\"], lambda s: s == \"Yes\")\n",
    "unsure_pct = prop(df[\"QID19\"], lambda s: s == \"Not sure\")\n",
    "no_pct = prop(df[\"QID19\"], lambda s: s == \"No\")\n",
    "\n",
    "print(f\"Should the university contribute to open source:\")\n",
    "print(f\"- Yes: {yes_pct}%\")\n",
    "print(f\"- Not sure: {unsure_pct}%\") \n",
    "print(f\"- No: {no_pct}%\")"
   ]
  },
  {
   "cell_type": "markdown",
   "id": "974dd912",
   "metadata": {},
   "source": [
    "## Open Source Training On Campus"
   ]
  },
  {
   "cell_type": "code",
   "execution_count": null,
   "id": "8ca4c043",
   "metadata": {
    "tags": [
     "remove-input"
    ]
   },
   "outputs": [],
   "source": [
    "# QID25 == \"Yes\" for received at least some formal training\n",
    "training_yes_pct = prop(df[\"QID25\"], lambda s: s == \"Yes\")\n",
    "print(f\"Percentage who have received open source training: {training_yes_pct}%\")\n",
    "\n",
    "df_c3 = (\n",
    "    df.assign(\n",
    "        QID4=df[\"QID4\"].map(fill_unaffiliated)\n",
    "    )\n",
    "    .rename(columns={\"QID4\": \"Respondent Type\"})\n",
    ")\n",
    "c3_df = (\n",
    "    df_c3.groupby([\"QID25\", \"Respondent Type\"], dropna=False)\n",
    "         .size()\n",
    "         .reset_index(name=\"Count\")\n",
    ")\n",
    "c3_df[\"Percent\"] = c3_df[\"Count\"] / len(df)\n",
    "\n",
    "df_c4 = (\n",
    "    df.assign(\n",
    "        QID8=df[\"QID8\"].map(fill_unaffiliated)\n",
    "    )\n",
    "    .rename(columns={\"QID8\": \"Affiliation\"})\n",
    ")\n",
    "c4_df = (\n",
    "    df_c4.groupby([\"QID25\", \"Affiliation\"], dropna=False)\n",
    "         .size()\n",
    "         .reset_index(name=\"Count\")\n",
    ")\n",
    "c4_df[\"Percent\"] = c4_df[\"Count\"] / len(df)"
   ]
  },
  {
   "cell_type": "markdown",
   "id": "c054bb82",
   "metadata": {},
   "source": [
    "### Training by Role"
   ]
  },
  {
   "cell_type": "code",
   "execution_count": null,
   "id": "b696b554",
   "metadata": {
    "tags": [
     "remove-input"
    ]
   },
   "outputs": [],
   "source": [
    "fig3 = px.bar(\n",
    "    c3_df, x=\"QID25\", y=\"Percent\",\n",
    "    color=\"Respondent Type\",\n",
    "    barmode=\"stack\",\n",
    "    title=\"Have received open source training at the university (by role)\"\n",
    ")\n",
    "fig3.update_layout(\n",
    "    yaxis=dict(tickformat=\".1%\"),\n",
    "    plot_bgcolor=\"white\",\n",
    "    paper_bgcolor=\"white\",\n",
    ")\n",
    "fig3.show()\n",
    "fig3.write_html('_static/fig3.html', full_html=False, include_plotlyjs='cdn')"
   ]
  },
  {
   "cell_type": "markdown",
   "id": "1fa12577",
   "metadata": {},
   "source": [
    "```{raw} html\n",
    ":file: _static/fig3.html\n",
    "```\n",
    "\n",
    "### Training by Affiliation"
   ]
  },
  {
   "cell_type": "code",
   "execution_count": null,
   "id": "d677306d",
   "metadata": {
    "tags": [
     "remove-input"
    ]
   },
   "outputs": [],
   "source": [
    "fig4 = px.bar(\n",
    "    c4_df, x=\"QID25\", y=\"Percent\",\n",
    "    color=\"Affiliation\",\n",
    "    barmode=\"stack\", \n",
    "    title=\"Have received open source training at the university (by affiliation)\"\n",
    ")\n",
    "fig4.update_layout(\n",
    "    yaxis=dict(tickformat=\".1%\"),\n",
    "    plot_bgcolor=\"white\",\n",
    "    paper_bgcolor=\"white\"\n",
    ")\n",
    "fig4.update_layout(hoverlabel=dict(namelength=-1))\n",
    "fig4.show()  # This was missing!\n",
    "fig4.write_html('_static/fig4.html', full_html=False, include_plotlyjs='cdn')"
   ]
  },
  {
   "cell_type": "markdown",
   "id": "026e622f",
   "metadata": {},
   "source": [
    "```{raw} html\n",
    ":file: _static/fig4.html\n",
    "```\n",
    "\n",
    "## Interest in Additional Training"
   ]
  },
  {
   "cell_type": "code",
   "execution_count": null,
   "id": "45322694",
   "metadata": {
    "tags": [
     "remove-input"
    ]
   },
   "outputs": [],
   "source": [
    "# Interest in more training (QID28) and OSPO workshops (QID29)\n",
    "more_training_pct = prop(df[\"QID28\"], lambda s: s == \"Yes\")\n",
    "ospo_workshops_pct = prop(df[\"QID29\"], lambda s: s == \"Yes\")\n",
    "\n",
    "print(f\"Interest in more training: {more_training_pct}%\")\n",
    "print(f\"Interest in OSPO workshops: {ospo_workshops_pct}%\")"
   ]
  }
 ],
 "metadata": {
  "jupytext": {
   "text_representation": {
    "format_name": "myst"
   }
  },
  "kernelspec": {
   "display_name": "Python 3",
   "language": "python",
   "name": "python3"
  },
  "language_info": {
   "codemirror_mode": {
    "name": "ipython",
    "version": 3
   },
   "file_extension": ".py",
   "mimetype": "text/x-python",
   "name": "python",
   "nbconvert_exporter": "python",
   "pygments_lexer": "ipython3",
   "version": "3.13.7"
  },
  "source_map": [
   10,
   14,
   40,
   44,
   84,
   92,
   100,
   140,
   148,
   159,
   163,
   194,
   198,
   213,
   221,
   237,
   245
  ],
  "title": "Campus Culture"
 },
 "nbformat": 4,
 "nbformat_minor": 5
}