{
 "cells": [
  {
   "cell_type": "markdown",
   "id": "934171ce",
   "metadata": {},
   "source": [
    "# Campus Culture\n",
    "\n",
    "## Perceptions of Open Source Culture On Campus"
   ]
  },
  {
   "cell_type": "code",
   "execution_count": 1,
   "id": "222d1656",
   "metadata": {
    "tags": [
     "remove-input"
    ]
   },
   "outputs": [],
   "source": [
    "# Imports\n",
    "import pandas as pd\n",
    "import plotly.express as px\n",
    "import plotly.graph_objects as go\n",
    "from pathlib import Path\n",
    "import plotly.io as pio\n",
    "import matplotlib as mpl\n",
    "from myst_nb import glue\n",
    "from setup import *\n",
    "\n",
    "df = survey_results\n",
    "\n",
    "# Compute & glue (no visible output)\n",
    "valuable_pct = int(100 * df['QID24'].eq(\"Very valuable\").mean())\n",
    "glue(\"valuable_pct\", valuable_pct, display=False)  # prevents display\n",
    "\n",
    "# Figure\n",
    "qid24_order = [\"Very valuable\",\"Some value\",\"Neutral\",\"No value\"]\n",
    "df_c1 = (\n",
    "    df.assign(\n",
    "        QID4=df[\"QID4\"].map(fill_unaffiliated),\n",
    "        QID24=pd.Categorical(df[\"QID24\"], categories=qid24_order, ordered=True)\n",
    "    )\n",
    "    .rename(columns={\"QID4\": \"Respondent Type\"})\n",
    ")\n",
    "c1_df = (\n",
    "    df_c1.groupby([\"QID24\", \"Respondent Type\"], observed=True, dropna=False)\n",
    "         .size()\n",
    "         .reset_index(name=\"Count\")\n",
    ")\n",
    "c1_df[\"Percent\"] = c1_df[\"Count\"] / len(df)\n",
    "\n",
    "fig1 = px.bar(\n",
    "    c1_df, x=\"QID24\", y=\"Percent\",\n",
    "    color=\"Respondent Type\",\n",
    "    barmode=\"stack\",\n",
    "    title='\"Do you see value in having a vibrant culture around open source software?\"'\n",
    ")\n",
    "fig1.update_layout(yaxis=dict(tickformat=\".1%\"), xaxis_title=\"\", plot_bgcolor=\"white\", paper_bgcolor=\"white\")\n",
    "fig1  # let Jupyter-Book render the figure\n",
    "fig1.write_html('_static/plotly_example.html', full_html=False, include_plotlyjs='cdn')"
   ]
  },
  {
   "cell_type": "markdown",
   "id": "97a16538",
   "metadata": {},
   "source": [
    "**{glue:}`valuable_pct`%** of respondents said that having a vibrant open source culture is **“very valuable”**.\n",
    "\n",
    "```{raw} html\n",
    ":file: _static/plotly_example.html\n",
    "```"
   ]
  },
  {
   "cell_type": "code",
   "execution_count": 2,
   "id": "e264d449",
   "metadata": {
    "tags": [
     "remove-input"
    ]
   },
   "outputs": [],
   "source": [
    "agree_options = {\"Strongly agree\", \"Somewhat agree\"}"
   ]
  },
  {
   "cell_type": "code",
   "execution_count": 3,
   "id": "a0c6d85a",
   "metadata": {
    "tags": [
     "remove-input"
    ]
   },
   "outputs": [],
   "source": [
    "# ----- Figure 2: \"There is a vibrant culture at UNI\" by Respondent Type -----\n",
    "\n",
    "\n",
    "agree_vibrant = float(round(100 * df['QID23'].isin([\"Strongly agree\",\"Somewhat agree\"]).mean(),2))\n",
    "glue(\"agree_vibrant\", agree_vibrant, display=False)  # prevents display\n",
    "\n",
    "qid23_order = [\n",
    "    \"Strongly agree\",\n",
    "    \"Somewhat agree\", \n",
    "    \"Neither agree nor disagree\",\n",
    "    \"Somewhat disagree\",\n",
    "    \"Strongly disagree\",\n",
    "]\n",
    "df_c2 = (\n",
    "    df.assign(\n",
    "        QID4=df[\"QID4\"].map(fill_unaffiliated),\n",
    "        QID23=pd.Categorical(df[\"QID23\"], categories=qid23_order, ordered=True)\n",
    "    )\n",
    "    .rename(columns={\"QID4\": \"Respondent Type\"})\n",
    ")\n",
    "\n",
    "pct_makes_sense = float(round(\n",
    "    100 * df['QID23'].isin([\n",
    "        \"Strongly agree\",\n",
    "        \"Somewhat agree\",\n",
    "        \"Neither agree nor disagree\"\n",
    "    ]).mean(), 2))\n",
    "glue(\"pct_makes_sense\", pct_makes_sense, display=False)  # prevents display\n",
    "\n",
    "c2_df = (\n",
    "    df_c2.groupby([\"QID23\", \"Respondent Type\"], observed=True, dropna=False)\n",
    "         .size()\n",
    "         .reset_index(name=\"Count\")\n",
    ")\n",
    "c2_df[\"Percent\"] = c2_df[\"Count\"] / len(df)\n",
    "\n",
    "fig2 = px.bar(\n",
    "    c2_df, x=\"QID23\", y=\"Percent\",\n",
    "    color=\"Respondent Type\",\n",
    "    barmode=\"stack\",\n",
    "    title='\"The university has a vibrant open source culture\"'\n",
    ")\n",
    "fig2.update_layout(\n",
    "    yaxis=dict(tickformat=\".1%\"),\n",
    "    xaxis_title=\"\",\n",
    "    plot_bgcolor=\"white\",\n",
    "    paper_bgcolor=\"white\"\n",
    ")\n",
    "fig2.write_html('_static/fig2.html', full_html=False, include_plotlyjs='cdn')"
   ]
  },
  {
   "cell_type": "markdown",
   "id": "fb75e25c",
   "metadata": {},
   "source": [
    "In comparison, only **{glue:}`agree_vibrant`%** agreed that there is a vibrant open source culture at UW-Madison.\n",
    "\n",
    "```{raw} html\n",
    ":file: _static/fig2.html\n",
    "```\n",
    "**{glue:}`pct_makes_sense`%** of respondents agreed that \"**it makes sense for the university to contribute to open source software that is vital to its educational and research enterprise**\".\n",
    "\n",
    "## Open Source Training On Campus"
   ]
  },
  {
   "cell_type": "code",
   "execution_count": 4,
   "id": "7047c003",
   "metadata": {
    "tags": [
     "remove-input"
    ]
   },
   "outputs": [],
   "source": [
    "# QID25 == \"Yes\" for received at least some formal training\n",
    "training_yes_pct = prop(df[\"QID25\"], lambda s: s == \"Yes\")\n",
    "\n",
    "received_training = int(100*df['QID25'].eq(\"Yes\").astype(int).mean())\n",
    "glue(\"received_training\", received_training, display=False)  # prevents display\n",
    "\n",
    "\n",
    "df_c3 = (\n",
    "    df.assign(\n",
    "        QID4=df[\"QID4\"].map(fill_unaffiliated)\n",
    "    )\n",
    "    .rename(columns={\"QID4\": \"Respondent Type\"})\n",
    ")\n",
    "c3_df = (\n",
    "    df_c3.groupby([\"QID25\", \"Respondent Type\"], observed=True, dropna=False)\n",
    "         .size()\n",
    "         .reset_index(name=\"Count\")\n",
    ")\n",
    "c3_df[\"Percent\"] = c3_df[\"Count\"] / len(df)\n",
    "\n",
    "df_c4 = (\n",
    "    df.assign(\n",
    "        QID8=df[\"QID8\"].map(fill_unaffiliated)\n",
    "    )\n",
    "    .rename(columns={\"QID8\": \"Affiliation\"})\n",
    ")\n",
    "c4_df = (\n",
    "    df_c4.groupby([\"QID25\", \"Affiliation\"], observed=True, dropna=False)\n",
    "         .size()\n",
    "         .reset_index(name=\"Count\")\n",
    ")\n",
    "c4_df[\"Percent\"] = c4_df[\"Count\"] / len(df)"
   ]
  },
  {
   "cell_type": "markdown",
   "id": "e7d445b9",
   "metadata": {},
   "source": [
    "**{glue:}`received_training`%** of respondents said that they have received at least some formal training or education on open source software during their time at UW-Madison. These respondents were distributed by role and affiliation as below:\n",
    "\n",
    "### Training by Role"
   ]
  },
  {
   "cell_type": "code",
   "execution_count": 5,
   "id": "2e3e7a62",
   "metadata": {
    "tags": [
     "remove-input"
    ]
   },
   "outputs": [
    {
     "data": {
      "application/vnd.plotly.v1+json": {
       "config": {
        "plotlyServerURL": "https://plot.ly"
       },
       "data": [
        {
         "hovertemplate": "Respondent Type=Faculty<br>QID25=%{x}<br>Percent=%{y}<extra></extra>",
         "legendgroup": "Faculty",
         "marker": {
          "color": "#9B0000",
          "pattern": {
           "shape": ""
          }
         },
         "name": "Faculty",
         "orientation": "v",
         "showlegend": true,
         "textposition": "auto",
         "type": "bar",
         "x": [
          "No",
          "Yes"
         ],
         "xaxis": "x",
         "y": {
          "bdata": "llqplVqp1T8g+IEf+IGfPw==",
          "dtype": "f8"
         },
         "yaxis": "y"
        },
        {
         "hovertemplate": "Respondent Type=Graduate Student<br>QID25=%{x}<br>Percent=%{y}<extra></extra>",
         "legendgroup": "Graduate Student",
         "marker": {
          "color": "#666666",
          "pattern": {
           "shape": ""
          }
         },
         "name": "Graduate Student",
         "orientation": "v",
         "showlegend": true,
         "textposition": "auto",
         "type": "bar",
         "x": [
          "No",
          "Yes"
         ],
         "xaxis": "x",
         "y": {
          "bdata": "K0K8XXXvwD9FiLer7h2yPw==",
          "dtype": "f8"
         },
         "yaxis": "y"
        },
        {
         "hovertemplate": "Respondent Type=Other<br>QID25=%{x}<br>Percent=%{y}<extra></extra>",
         "legendgroup": "Other",
         "marker": {
          "color": "#B60205",
          "pattern": {
           "shape": ""
          }
         },
         "name": "Other",
         "orientation": "v",
         "showlegend": true,
         "textposition": "auto",
         "type": "bar",
         "x": [
          "No",
          "Yes"
         ],
         "xaxis": "x",
         "y": {
          "bdata": "Scenry0Olj8g+IEf+IGPPw==",
          "dtype": "f8"
         },
         "yaxis": "y"
        },
        {
         "hovertemplate": "Respondent Type=Postdoc<br>QID25=%{x}<br>Percent=%{y}<extra></extra>",
         "legendgroup": "Postdoc",
         "marker": {
          "color": "#8c1515",
          "pattern": {
           "shape": ""
          }
         },
         "name": "Postdoc",
         "orientation": "v",
         "showlegend": true,
         "textposition": "auto",
         "type": "bar",
         "x": [
          "No",
          "Yes"
         ],
         "xaxis": "x",
         "y": {
          "bdata": "Scenry0Olj/mLJt/xjR5Pw==",
          "dtype": "f8"
         },
         "yaxis": "y"
        },
        {
         "hovertemplate": "Respondent Type=Staff<br>QID25=%{x}<br>Percent=%{y}<extra></extra>",
         "legendgroup": "Staff",
         "marker": {
          "color": "#9c9c9c",
          "pattern": {
           "shape": ""
          }
         },
         "name": "Staff",
         "orientation": "v",
         "showlegend": true,
         "textposition": "auto",
         "type": "bar",
         "x": [
          "No",
          "Yes"
         ],
         "xaxis": "x",
         "y": {
          "bdata": "w2i/Kc8l0D/i7ap7h0S1Pw==",
          "dtype": "f8"
         },
         "yaxis": "y"
        },
        {
         "hovertemplate": "Respondent Type=Unaffiliated<br>QID25=%{x}<br>Percent=%{y}<extra></extra>",
         "legendgroup": "Unaffiliated",
         "marker": {
          "color": "#c2c2c2",
          "pattern": {
           "shape": ""
          }
         },
         "name": "Unaffiliated",
         "orientation": "v",
         "showlegend": true,
         "textposition": "auto",
         "type": "bar",
         "x": [
          "No",
          "Yes"
         ],
         "xaxis": "x",
         "y": {
          "bdata": "5iybf8Y0eT/mLJt/xjRpPw==",
          "dtype": "f8"
         },
         "yaxis": "y"
        },
        {
         "hovertemplate": "Respondent Type=Undergraduate Student<br>QID25=%{x}<br>Percent=%{y}<extra></extra>",
         "legendgroup": "Undergraduate Student",
         "marker": {
          "color": "#9B0000",
          "pattern": {
           "shape": ""
          }
         },
         "name": "Undergraduate Student",
         "orientation": "v",
         "showlegend": true,
         "textposition": "auto",
         "type": "bar",
         "x": [
          "No",
          "Yes"
         ],
         "xaxis": "x",
         "y": {
          "bdata": "5iybf8Y0iT/mLJt/xjR5Pw==",
          "dtype": "f8"
         },
         "yaxis": "y"
        }
       ],
       "layout": {
        "barmode": "stack",
        "legend": {
         "title": {
          "text": "Respondent Type"
         },
         "tracegroupgap": 0
        },
        "paper_bgcolor": "white",
        "plot_bgcolor": "white",
        "template": {
         "data": {
          "bar": [
           {
            "error_x": {
             "color": "#2a3f5f"
            },
            "error_y": {
             "color": "#2a3f5f"
            },
            "marker": {
             "line": {
              "color": "white",
              "width": 0.5
             },
             "pattern": {
              "fillmode": "overlay",
              "size": 10,
              "solidity": 0.2
             }
            },
            "type": "bar"
           }
          ],
          "barpolar": [
           {
            "marker": {
             "line": {
              "color": "white",
              "width": 0.5
             },
             "pattern": {
              "fillmode": "overlay",
              "size": 10,
              "solidity": 0.2
             }
            },
            "type": "barpolar"
           }
          ],
          "carpet": [
           {
            "aaxis": {
             "endlinecolor": "#2a3f5f",
             "gridcolor": "#C8D4E3",
             "linecolor": "#C8D4E3",
             "minorgridcolor": "#C8D4E3",
             "startlinecolor": "#2a3f5f"
            },
            "baxis": {
             "endlinecolor": "#2a3f5f",
             "gridcolor": "#C8D4E3",
             "linecolor": "#C8D4E3",
             "minorgridcolor": "#C8D4E3",
             "startlinecolor": "#2a3f5f"
            },
            "type": "carpet"
           }
          ],
          "choropleth": [
           {
            "colorbar": {
             "outlinewidth": 0,
             "ticks": ""
            },
            "type": "choropleth"
           }
          ],
          "contour": [
           {
            "colorbar": {
             "outlinewidth": 0,
             "ticks": ""
            },
            "colorscale": [
             [
              0.0,
              "#0d0887"
             ],
             [
              0.1111111111111111,
              "#46039f"
             ],
             [
              0.2222222222222222,
              "#7201a8"
             ],
             [
              0.3333333333333333,
              "#9c179e"
             ],
             [
              0.4444444444444444,
              "#bd3786"
             ],
             [
              0.5555555555555556,
              "#d8576b"
             ],
             [
              0.6666666666666666,
              "#ed7953"
             ],
             [
              0.7777777777777778,
              "#fb9f3a"
             ],
             [
              0.8888888888888888,
              "#fdca26"
             ],
             [
              1.0,
              "#f0f921"
             ]
            ],
            "type": "contour"
           }
          ],
          "contourcarpet": [
           {
            "colorbar": {
             "outlinewidth": 0,
             "ticks": ""
            },
            "type": "contourcarpet"
           }
          ],
          "heatmap": [
           {
            "colorbar": {
             "outlinewidth": 0,
             "ticks": ""
            },
            "colorscale": [
             [
              0.0,
              "#0d0887"
             ],
             [
              0.1111111111111111,
              "#46039f"
             ],
             [
              0.2222222222222222,
              "#7201a8"
             ],
             [
              0.3333333333333333,
              "#9c179e"
             ],
             [
              0.4444444444444444,
              "#bd3786"
             ],
             [
              0.5555555555555556,
              "#d8576b"
             ],
             [
              0.6666666666666666,
              "#ed7953"
             ],
             [
              0.7777777777777778,
              "#fb9f3a"
             ],
             [
              0.8888888888888888,
              "#fdca26"
             ],
             [
              1.0,
              "#f0f921"
             ]
            ],
            "type": "heatmap"
           }
          ],
          "histogram": [
           {
            "marker": {
             "pattern": {
              "fillmode": "overlay",
              "size": 10,
              "solidity": 0.2
             }
            },
            "type": "histogram"
           }
          ],
          "histogram2d": [
           {
            "colorbar": {
             "outlinewidth": 0,
             "ticks": ""
            },
            "colorscale": [
             [
              0.0,
              "#0d0887"
             ],
             [
              0.1111111111111111,
              "#46039f"
             ],
             [
              0.2222222222222222,
              "#7201a8"
             ],
             [
              0.3333333333333333,
              "#9c179e"
             ],
             [
              0.4444444444444444,
              "#bd3786"
             ],
             [
              0.5555555555555556,
              "#d8576b"
             ],
             [
              0.6666666666666666,
              "#ed7953"
             ],
             [
              0.7777777777777778,
              "#fb9f3a"
             ],
             [
              0.8888888888888888,
              "#fdca26"
             ],
             [
              1.0,
              "#f0f921"
             ]
            ],
            "type": "histogram2d"
           }
          ],
          "histogram2dcontour": [
           {
            "colorbar": {
             "outlinewidth": 0,
             "ticks": ""
            },
            "colorscale": [
             [
              0.0,
              "#0d0887"
             ],
             [
              0.1111111111111111,
              "#46039f"
             ],
             [
              0.2222222222222222,
              "#7201a8"
             ],
             [
              0.3333333333333333,
              "#9c179e"
             ],
             [
              0.4444444444444444,
              "#bd3786"
             ],
             [
              0.5555555555555556,
              "#d8576b"
             ],
             [
              0.6666666666666666,
              "#ed7953"
             ],
             [
              0.7777777777777778,
              "#fb9f3a"
             ],
             [
              0.8888888888888888,
              "#fdca26"
             ],
             [
              1.0,
              "#f0f921"
             ]
            ],
            "type": "histogram2dcontour"
           }
          ],
          "mesh3d": [
           {
            "colorbar": {
             "outlinewidth": 0,
             "ticks": ""
            },
            "type": "mesh3d"
           }
          ],
          "parcoords": [
           {
            "line": {
             "colorbar": {
              "outlinewidth": 0,
              "ticks": ""
             }
            },
            "type": "parcoords"
           }
          ],
          "pie": [
           {
            "automargin": true,
            "type": "pie"
           }
          ],
          "scatter": [
           {
            "fillpattern": {
             "fillmode": "overlay",
             "size": 10,
             "solidity": 0.2
            },
            "type": "scatter"
           }
          ],
          "scatter3d": [
           {
            "line": {
             "colorbar": {
              "outlinewidth": 0,
              "ticks": ""
             }
            },
            "marker": {
             "colorbar": {
              "outlinewidth": 0,
              "ticks": ""
             }
            },
            "type": "scatter3d"
           }
          ],
          "scattercarpet": [
           {
            "marker": {
             "colorbar": {
              "outlinewidth": 0,
              "ticks": ""
             }
            },
            "type": "scattercarpet"
           }
          ],
          "scattergeo": [
           {
            "marker": {
             "colorbar": {
              "outlinewidth": 0,
              "ticks": ""
             }
            },
            "type": "scattergeo"
           }
          ],
          "scattergl": [
           {
            "marker": {
             "colorbar": {
              "outlinewidth": 0,
              "ticks": ""
             }
            },
            "type": "scattergl"
           }
          ],
          "scattermap": [
           {
            "marker": {
             "colorbar": {
              "outlinewidth": 0,
              "ticks": ""
             }
            },
            "type": "scattermap"
           }
          ],
          "scattermapbox": [
           {
            "marker": {
             "colorbar": {
              "outlinewidth": 0,
              "ticks": ""
             }
            },
            "type": "scattermapbox"
           }
          ],
          "scatterpolar": [
           {
            "marker": {
             "colorbar": {
              "outlinewidth": 0,
              "ticks": ""
             }
            },
            "type": "scatterpolar"
           }
          ],
          "scatterpolargl": [
           {
            "marker": {
             "colorbar": {
              "outlinewidth": 0,
              "ticks": ""
             }
            },
            "type": "scatterpolargl"
           }
          ],
          "scatterternary": [
           {
            "marker": {
             "colorbar": {
              "outlinewidth": 0,
              "ticks": ""
             }
            },
            "type": "scatterternary"
           }
          ],
          "surface": [
           {
            "colorbar": {
             "outlinewidth": 0,
             "ticks": ""
            },
            "colorscale": [
             [
              0.0,
              "#0d0887"
             ],
             [
              0.1111111111111111,
              "#46039f"
             ],
             [
              0.2222222222222222,
              "#7201a8"
             ],
             [
              0.3333333333333333,
              "#9c179e"
             ],
             [
              0.4444444444444444,
              "#bd3786"
             ],
             [
              0.5555555555555556,
              "#d8576b"
             ],
             [
              0.6666666666666666,
              "#ed7953"
             ],
             [
              0.7777777777777778,
              "#fb9f3a"
             ],
             [
              0.8888888888888888,
              "#fdca26"
             ],
             [
              1.0,
              "#f0f921"
             ]
            ],
            "type": "surface"
           }
          ],
          "table": [
           {
            "cells": {
             "fill": {
              "color": "#EBF0F8"
             },
             "line": {
              "color": "white"
             }
            },
            "header": {
             "fill": {
              "color": "#C8D4E3"
             },
             "line": {
              "color": "white"
             }
            },
            "type": "table"
           }
          ]
         },
         "layout": {
          "annotationdefaults": {
           "arrowcolor": "#2a3f5f",
           "arrowhead": 0,
           "arrowwidth": 1
          },
          "autotypenumbers": "strict",
          "coloraxis": {
           "colorbar": {
            "outlinewidth": 0,
            "ticks": ""
           }
          },
          "colorscale": {
           "diverging": [
            [
             0,
             "#8e0152"
            ],
            [
             0.1,
             "#c51b7d"
            ],
            [
             0.2,
             "#de77ae"
            ],
            [
             0.3,
             "#f1b6da"
            ],
            [
             0.4,
             "#fde0ef"
            ],
            [
             0.5,
             "#f7f7f7"
            ],
            [
             0.6,
             "#e6f5d0"
            ],
            [
             0.7,
             "#b8e186"
            ],
            [
             0.8,
             "#7fbc41"
            ],
            [
             0.9,
             "#4d9221"
            ],
            [
             1,
             "#276419"
            ]
           ],
           "sequential": [
            [
             0.0,
             "#0d0887"
            ],
            [
             0.1111111111111111,
             "#46039f"
            ],
            [
             0.2222222222222222,
             "#7201a8"
            ],
            [
             0.3333333333333333,
             "#9c179e"
            ],
            [
             0.4444444444444444,
             "#bd3786"
            ],
            [
             0.5555555555555556,
             "#d8576b"
            ],
            [
             0.6666666666666666,
             "#ed7953"
            ],
            [
             0.7777777777777778,
             "#fb9f3a"
            ],
            [
             0.8888888888888888,
             "#fdca26"
            ],
            [
             1.0,
             "#f0f921"
            ]
           ],
           "sequentialminus": [
            [
             0.0,
             "#0d0887"
            ],
            [
             0.1111111111111111,
             "#46039f"
            ],
            [
             0.2222222222222222,
             "#7201a8"
            ],
            [
             0.3333333333333333,
             "#9c179e"
            ],
            [
             0.4444444444444444,
             "#bd3786"
            ],
            [
             0.5555555555555556,
             "#d8576b"
            ],
            [
             0.6666666666666666,
             "#ed7953"
            ],
            [
             0.7777777777777778,
             "#fb9f3a"
            ],
            [
             0.8888888888888888,
             "#fdca26"
            ],
            [
             1.0,
             "#f0f921"
            ]
           ]
          },
          "colorway": [
           "#9B0000",
           "#666666",
           "#B60205",
           "#8c1515",
           "#9c9c9c",
           "#c2c2c2"
          ],
          "font": {
           "color": "#2a3f5f",
           "family": "Red Hat Text, Arial, sans-serif"
          },
          "geo": {
           "bgcolor": "white",
           "lakecolor": "white",
           "landcolor": "white",
           "showlakes": true,
           "showland": true,
           "subunitcolor": "#C8D4E3"
          },
          "hoverlabel": {
           "align": "left"
          },
          "hovermode": "closest",
          "legend": {
           "bgcolor": "rgba(0,0,0,0)"
          },
          "mapbox": {
           "style": "light"
          },
          "margin": {
           "b": 40,
           "l": 40,
           "r": 20,
           "t": 60
          },
          "paper_bgcolor": "#F7F7F7",
          "plot_bgcolor": "#F7F7F7",
          "polar": {
           "angularaxis": {
            "gridcolor": "#EBF0F8",
            "linecolor": "#EBF0F8",
            "ticks": ""
           },
           "bgcolor": "white",
           "radialaxis": {
            "gridcolor": "#EBF0F8",
            "linecolor": "#EBF0F8",
            "ticks": ""
           }
          },
          "scene": {
           "xaxis": {
            "backgroundcolor": "white",
            "gridcolor": "#DFE8F3",
            "gridwidth": 2,
            "linecolor": "#EBF0F8",
            "showbackground": true,
            "ticks": "",
            "zerolinecolor": "#EBF0F8"
           },
           "yaxis": {
            "backgroundcolor": "white",
            "gridcolor": "#DFE8F3",
            "gridwidth": 2,
            "linecolor": "#EBF0F8",
            "showbackground": true,
            "ticks": "",
            "zerolinecolor": "#EBF0F8"
           },
           "zaxis": {
            "backgroundcolor": "white",
            "gridcolor": "#DFE8F3",
            "gridwidth": 2,
            "linecolor": "#EBF0F8",
            "showbackground": true,
            "ticks": "",
            "zerolinecolor": "#EBF0F8"
           }
          },
          "shapedefaults": {
           "line": {
            "color": "#2a3f5f"
           }
          },
          "ternary": {
           "aaxis": {
            "gridcolor": "#DFE8F3",
            "linecolor": "#A2B1C6",
            "ticks": ""
           },
           "baxis": {
            "gridcolor": "#DFE8F3",
            "linecolor": "#A2B1C6",
            "ticks": ""
           },
           "bgcolor": "white",
           "caxis": {
            "gridcolor": "#DFE8F3",
            "linecolor": "#A2B1C6",
            "ticks": ""
           }
          },
          "title": {
           "x": 0.01,
           "xanchor": "left"
          },
          "xaxis": {
           "automargin": true,
           "gridcolor": "#e9e9e9",
           "linecolor": "#EBF0F8",
           "ticks": "",
           "title": {
            "standoff": 15
           },
           "zeroline": false,
           "zerolinecolor": "#EBF0F8",
           "zerolinewidth": 2
          },
          "yaxis": {
           "automargin": true,
           "gridcolor": "#e9e9e9",
           "linecolor": "#EBF0F8",
           "ticks": "",
           "title": {
            "standoff": 15
           },
           "zeroline": false,
           "zerolinecolor": "#EBF0F8",
           "zerolinewidth": 2
          }
         }
        },
        "title": {
         "text": "Have received open source training at the university (by role)"
        },
        "xaxis": {
         "anchor": "y",
         "domain": [
          0.0,
          1.0
         ],
         "title": {
          "text": ""
         }
        },
        "yaxis": {
         "anchor": "x",
         "domain": [
          0.0,
          1.0
         ],
         "tickformat": ".1%",
         "title": {
          "text": "Percent"
         }
        }
       }
      }
     },
     "metadata": {},
     "output_type": "display_data"
    }
   ],
   "source": [
    "fig3 = px.bar(\n",
    "    c3_df, x=\"QID25\", y=\"Percent\",\n",
    "    color=\"Respondent Type\",\n",
    "    barmode=\"stack\",\n",
    "    title=\"Have received open source training at the university (by role)\"\n",
    ")\n",
    "fig3.update_layout(\n",
    "    yaxis=dict(tickformat=\".1%\"),\n",
    "    xaxis_title=\"\",\n",
    "    plot_bgcolor=\"white\",\n",
    "    paper_bgcolor=\"white\",\n",
    ")\n",
    "fig3.show()\n",
    "fig3.write_html('_static/fig3.html', full_html=False, include_plotlyjs='cdn')"
   ]
  },
  {
   "cell_type": "markdown",
   "id": "ade410f3",
   "metadata": {},
   "source": [
    "```{raw} html\n",
    ":file: _static/fig3.html\n",
    "```\n",
    "\n",
    "### Training by Affiliation"
   ]
  },
  {
   "cell_type": "code",
   "execution_count": 6,
   "id": "4e759ae3",
   "metadata": {
    "tags": [
     "remove-input"
    ]
   },
   "outputs": [
    {
     "data": {
      "application/vnd.plotly.v1+json": {
       "config": {
        "plotlyServerURL": "https://plot.ly"
       },
       "data": [
        {
         "hovertemplate": "Affiliation=College of Agricultural and Life Sciences<br>QID25=%{x}<br>Percent=%{y}<extra></extra>",
         "legendgroup": "College of Agricultural and Life Sciences",
         "marker": {
          "color": "#9B0000",
          "pattern": {
           "shape": ""
          }
         },
         "name": "College of Agricultural and Life Sciences",
         "orientation": "v",
         "showlegend": true,
         "textposition": "auto",
         "type": "bar",
         "x": [
          "No",
          "Yes"
         ],
         "xaxis": "x",
         "y": {
          "bdata": "rWG035Tnsj/errp3SFShPw==",
          "dtype": "f8"
         },
         "yaxis": "y"
        },
        {
         "hovertemplate": "Affiliation=College of Engineering<br>QID25=%{x}<br>Percent=%{y}<extra></extra>",
         "legendgroup": "College of Engineering",
         "marker": {
          "color": "#666666",
          "pattern": {
           "shape": ""
          }
         },
         "name": "College of Engineering",
         "orientation": "v",
         "showlegend": true,
         "textposition": "auto",
         "type": "bar",
         "x": [
          "No",
          "Yes"
         ],
         "xaxis": "x",
         "y": {
          "bdata": "GHqhF3qhpz/mLJt/xjRpPw==",
          "dtype": "f8"
         },
         "yaxis": "y"
        },
        {
         "hovertemplate": "Affiliation=College of Letters and Sciences<br>QID25=%{x}<br>Percent=%{y}<extra></extra>",
         "legendgroup": "College of Letters and Sciences",
         "marker": {
          "color": "#B60205",
          "pattern": {
           "shape": ""
          }
         },
         "name": "College of Letters and Sciences",
         "orientation": "v",
         "showlegend": true,
         "textposition": "auto",
         "type": "bar",
         "x": [
          "No",
          "Yes"
         ],
         "xaxis": "x",
         "y": {
          "bdata": "y+afMU0G2D9NBpizbP65Pw==",
          "dtype": "f8"
         },
         "yaxis": "y"
        },
        {
         "hovertemplate": "Affiliation=Division for Teaching and Learning<br>QID25=%{x}<br>Percent=%{y}<extra></extra>",
         "legendgroup": "Division for Teaching and Learning",
         "marker": {
          "color": "#8c1515",
          "pattern": {
           "shape": ""
          }
         },
         "name": "Division for Teaching and Learning",
         "orientation": "v",
         "showlegend": true,
         "textposition": "auto",
         "type": "bar",
         "x": [
          "No"
         ],
         "xaxis": "x",
         "y": {
          "bdata": "5iybf8Y0aT8=",
          "dtype": "f8"
         },
         "yaxis": "y"
        },
        {
         "hovertemplate": "Affiliation=Division of Continuing Studies<br>QID25=%{x}<br>Percent=%{y}<extra></extra>",
         "legendgroup": "Division of Continuing Studies",
         "marker": {
          "color": "#9c9c9c",
          "pattern": {
           "shape": ""
          }
         },
         "name": "Division of Continuing Studies",
         "orientation": "v",
         "showlegend": true,
         "textposition": "auto",
         "type": "bar",
         "x": [
          "No"
         ],
         "xaxis": "x",
         "y": {
          "bdata": "5iybf8Y0aT8=",
          "dtype": "f8"
         },
         "yaxis": "y"
        },
        {
         "hovertemplate": "Affiliation=Division of Extension<br>QID25=%{x}<br>Percent=%{y}<extra></extra>",
         "legendgroup": "Division of Extension",
         "marker": {
          "color": "#c2c2c2",
          "pattern": {
           "shape": ""
          }
         },
         "name": "Division of Extension",
         "orientation": "v",
         "showlegend": true,
         "textposition": "auto",
         "type": "bar",
         "x": [
          "No"
         ],
         "xaxis": "x",
         "y": {
          "bdata": "5iybf8Y0aT8=",
          "dtype": "f8"
         },
         "yaxis": "y"
        },
        {
         "hovertemplate": "Affiliation=Division of the Arts<br>QID25=%{x}<br>Percent=%{y}<extra></extra>",
         "legendgroup": "Division of the Arts",
         "marker": {
          "color": "#9B0000",
          "pattern": {
           "shape": ""
          }
         },
         "name": "Division of the Arts",
         "orientation": "v",
         "showlegend": true,
         "textposition": "auto",
         "type": "bar",
         "x": [
          "No"
         ],
         "xaxis": "x",
         "y": {
          "bdata": "5iybf8Y0aT8=",
          "dtype": "f8"
         },
         "yaxis": "y"
        },
        {
         "hovertemplate": "Affiliation=Graduate School<br>QID25=%{x}<br>Percent=%{y}<extra></extra>",
         "legendgroup": "Graduate School",
         "marker": {
          "color": "#666666",
          "pattern": {
           "shape": ""
          }
         },
         "name": "Graduate School",
         "orientation": "v",
         "showlegend": true,
         "textposition": "auto",
         "type": "bar",
         "x": [
          "No",
          "Yes"
         ],
         "xaxis": "x",
         "y": {
          "bdata": "rWG035Tnkj/mLJt/xjSJPw==",
          "dtype": "f8"
         },
         "yaxis": "y"
        },
        {
         "hovertemplate": "Affiliation=Office of the Vice Chancellor for Research<br>QID25=%{x}<br>Percent=%{y}<extra></extra>",
         "legendgroup": "Office of the Vice Chancellor for Research",
         "marker": {
          "color": "#B60205",
          "pattern": {
           "shape": ""
          }
         },
         "name": "Office of the Vice Chancellor for Research",
         "orientation": "v",
         "showlegend": true,
         "textposition": "auto",
         "type": "bar",
         "x": [
          "No",
          "Yes"
         ],
         "xaxis": "x",
         "y": {
          "bdata": "5iybf8Y0mT/mLJt/xjR5Pw==",
          "dtype": "f8"
         },
         "yaxis": "y"
        },
        {
         "hovertemplate": "Affiliation=Other<br>QID25=%{x}<br>Percent=%{y}<extra></extra>",
         "legendgroup": "Other",
         "marker": {
          "color": "#8c1515",
          "pattern": {
           "shape": ""
          }
         },
         "name": "Other",
         "orientation": "v",
         "showlegend": true,
         "textposition": "auto",
         "type": "bar",
         "x": [
          "No",
          "Yes"
         ],
         "xaxis": "x",
         "y": {
          "bdata": "5iybf8Y0qT+tYbTflOeCPw==",
          "dtype": "f8"
         },
         "yaxis": "y"
        },
        {
         "hovertemplate": "Affiliation=School of Computer Data and Information Sciences<br>QID25=%{x}<br>Percent=%{y}<extra></extra>",
         "legendgroup": "School of Computer Data and Information Sciences",
         "marker": {
          "color": "#9c9c9c",
          "pattern": {
           "shape": ""
          }
         },
         "name": "School of Computer Data and Information Sciences",
         "orientation": "v",
         "showlegend": true,
         "textposition": "auto",
         "type": "bar",
         "x": [
          "No",
          "Yes"
         ],
         "xaxis": "x",
         "y": {
          "bdata": "GHqhF3qhpz8g+IEf+IGPPw==",
          "dtype": "f8"
         },
         "yaxis": "y"
        },
        {
         "hovertemplate": "Affiliation=School of Education<br>QID25=%{x}<br>Percent=%{y}<extra></extra>",
         "legendgroup": "School of Education",
         "marker": {
          "color": "#c2c2c2",
          "pattern": {
           "shape": ""
          }
         },
         "name": "School of Education",
         "orientation": "v",
         "showlegend": true,
         "textposition": "auto",
         "type": "bar",
         "x": [
          "No",
          "Yes"
         ],
         "xaxis": "x",
         "y": {
          "bdata": "Scenry0Olj/mLJt/xjR5Pw==",
          "dtype": "f8"
         },
         "yaxis": "y"
        },
        {
         "hovertemplate": "Affiliation=School of Journalism and Mass Communications<br>QID25=%{x}<br>Percent=%{y}<extra></extra>",
         "legendgroup": "School of Journalism and Mass Communications",
         "marker": {
          "color": "#9B0000",
          "pattern": {
           "shape": ""
          }
         },
         "name": "School of Journalism and Mass Communications",
         "orientation": "v",
         "showlegend": true,
         "textposition": "auto",
         "type": "bar",
         "x": [
          "No"
         ],
         "xaxis": "x",
         "y": {
          "bdata": "5iybf8Y0aT8=",
          "dtype": "f8"
         },
         "yaxis": "y"
        },
        {
         "hovertemplate": "Affiliation=School of Medicine and Public Health<br>QID25=%{x}<br>Percent=%{y}<extra></extra>",
         "legendgroup": "School of Medicine and Public Health",
         "marker": {
          "color": "#666666",
          "pattern": {
           "shape": ""
          }
         },
         "name": "School of Medicine and Public Health",
         "orientation": "v",
         "showlegend": true,
         "textposition": "auto",
         "type": "bar",
         "x": [
          "No",
          "Yes"
         ],
         "xaxis": "x",
         "y": {
          "bdata": "exSuR+F6tD8g+IEf+IGPPw==",
          "dtype": "f8"
         },
         "yaxis": "y"
        },
        {
         "hovertemplate": "Affiliation=School of Nursing<br>QID25=%{x}<br>Percent=%{y}<extra></extra>",
         "legendgroup": "School of Nursing",
         "marker": {
          "color": "#B60205",
          "pattern": {
           "shape": ""
          }
         },
         "name": "School of Nursing",
         "orientation": "v",
         "showlegend": true,
         "textposition": "auto",
         "type": "bar",
         "x": [
          "No",
          "Yes"
         ],
         "xaxis": "x",
         "y": {
          "bdata": "rWG035Tnkj/mLJt/xjR5Pw==",
          "dtype": "f8"
         },
         "yaxis": "y"
        },
        {
         "hovertemplate": "Affiliation=School of Veterinary Medicine<br>QID25=%{x}<br>Percent=%{y}<extra></extra>",
         "legendgroup": "School of Veterinary Medicine",
         "marker": {
          "color": "#8c1515",
          "pattern": {
           "shape": ""
          }
         },
         "name": "School of Veterinary Medicine",
         "orientation": "v",
         "showlegend": true,
         "textposition": "auto",
         "type": "bar",
         "x": [
          "No"
         ],
         "xaxis": "x",
         "y": {
          "bdata": "5iybf8Y0aT8=",
          "dtype": "f8"
         },
         "yaxis": "y"
        },
        {
         "hovertemplate": "Affiliation=Unaffiliated<br>QID25=%{x}<br>Percent=%{y}<extra></extra>",
         "legendgroup": "Unaffiliated",
         "marker": {
          "color": "#9c9c9c",
          "pattern": {
           "shape": ""
          }
         },
         "name": "Unaffiliated",
         "orientation": "v",
         "showlegend": true,
         "textposition": "auto",
         "type": "bar",
         "x": [
          "No",
          "Yes"
         ],
         "xaxis": "x",
         "y": {
          "bdata": "5iybf8Y0eT/mLJt/xjRpPw==",
          "dtype": "f8"
         },
         "yaxis": "y"
        },
        {
         "hovertemplate": "Affiliation=Wisconsin School of Business<br>QID25=%{x}<br>Percent=%{y}<extra></extra>",
         "legendgroup": "Wisconsin School of Business",
         "marker": {
          "color": "#c2c2c2",
          "pattern": {
           "shape": ""
          }
         },
         "name": "Wisconsin School of Business",
         "orientation": "v",
         "showlegend": true,
         "textposition": "auto",
         "type": "bar",
         "x": [
          "No",
          "Yes"
         ],
         "xaxis": "x",
         "y": {
          "bdata": "5iybf8Y0eT/mLJt/xjRpPw==",
          "dtype": "f8"
         },
         "yaxis": "y"
        }
       ],
       "layout": {
        "barmode": "stack",
        "hoverlabel": {
         "namelength": -1
        },
        "legend": {
         "title": {
          "text": "Affiliation"
         },
         "tracegroupgap": 0
        },
        "paper_bgcolor": "white",
        "plot_bgcolor": "white",
        "template": {
         "data": {
          "bar": [
           {
            "error_x": {
             "color": "#2a3f5f"
            },
            "error_y": {
             "color": "#2a3f5f"
            },
            "marker": {
             "line": {
              "color": "white",
              "width": 0.5
             },
             "pattern": {
              "fillmode": "overlay",
              "size": 10,
              "solidity": 0.2
             }
            },
            "type": "bar"
           }
          ],
          "barpolar": [
           {
            "marker": {
             "line": {
              "color": "white",
              "width": 0.5
             },
             "pattern": {
              "fillmode": "overlay",
              "size": 10,
              "solidity": 0.2
             }
            },
            "type": "barpolar"
           }
          ],
          "carpet": [
           {
            "aaxis": {
             "endlinecolor": "#2a3f5f",
             "gridcolor": "#C8D4E3",
             "linecolor": "#C8D4E3",
             "minorgridcolor": "#C8D4E3",
             "startlinecolor": "#2a3f5f"
            },
            "baxis": {
             "endlinecolor": "#2a3f5f",
             "gridcolor": "#C8D4E3",
             "linecolor": "#C8D4E3",
             "minorgridcolor": "#C8D4E3",
             "startlinecolor": "#2a3f5f"
            },
            "type": "carpet"
           }
          ],
          "choropleth": [
           {
            "colorbar": {
             "outlinewidth": 0,
             "ticks": ""
            },
            "type": "choropleth"
           }
          ],
          "contour": [
           {
            "colorbar": {
             "outlinewidth": 0,
             "ticks": ""
            },
            "colorscale": [
             [
              0.0,
              "#0d0887"
             ],
             [
              0.1111111111111111,
              "#46039f"
             ],
             [
              0.2222222222222222,
              "#7201a8"
             ],
             [
              0.3333333333333333,
              "#9c179e"
             ],
             [
              0.4444444444444444,
              "#bd3786"
             ],
             [
              0.5555555555555556,
              "#d8576b"
             ],
             [
              0.6666666666666666,
              "#ed7953"
             ],
             [
              0.7777777777777778,
              "#fb9f3a"
             ],
             [
              0.8888888888888888,
              "#fdca26"
             ],
             [
              1.0,
              "#f0f921"
             ]
            ],
            "type": "contour"
           }
          ],
          "contourcarpet": [
           {
            "colorbar": {
             "outlinewidth": 0,
             "ticks": ""
            },
            "type": "contourcarpet"
           }
          ],
          "heatmap": [
           {
            "colorbar": {
             "outlinewidth": 0,
             "ticks": ""
            },
            "colorscale": [
             [
              0.0,
              "#0d0887"
             ],
             [
              0.1111111111111111,
              "#46039f"
             ],
             [
              0.2222222222222222,
              "#7201a8"
             ],
             [
              0.3333333333333333,
              "#9c179e"
             ],
             [
              0.4444444444444444,
              "#bd3786"
             ],
             [
              0.5555555555555556,
              "#d8576b"
             ],
             [
              0.6666666666666666,
              "#ed7953"
             ],
             [
              0.7777777777777778,
              "#fb9f3a"
             ],
             [
              0.8888888888888888,
              "#fdca26"
             ],
             [
              1.0,
              "#f0f921"
             ]
            ],
            "type": "heatmap"
           }
          ],
          "histogram": [
           {
            "marker": {
             "pattern": {
              "fillmode": "overlay",
              "size": 10,
              "solidity": 0.2
             }
            },
            "type": "histogram"
           }
          ],
          "histogram2d": [
           {
            "colorbar": {
             "outlinewidth": 0,
             "ticks": ""
            },
            "colorscale": [
             [
              0.0,
              "#0d0887"
             ],
             [
              0.1111111111111111,
              "#46039f"
             ],
             [
              0.2222222222222222,
              "#7201a8"
             ],
             [
              0.3333333333333333,
              "#9c179e"
             ],
             [
              0.4444444444444444,
              "#bd3786"
             ],
             [
              0.5555555555555556,
              "#d8576b"
             ],
             [
              0.6666666666666666,
              "#ed7953"
             ],
             [
              0.7777777777777778,
              "#fb9f3a"
             ],
             [
              0.8888888888888888,
              "#fdca26"
             ],
             [
              1.0,
              "#f0f921"
             ]
            ],
            "type": "histogram2d"
           }
          ],
          "histogram2dcontour": [
           {
            "colorbar": {
             "outlinewidth": 0,
             "ticks": ""
            },
            "colorscale": [
             [
              0.0,
              "#0d0887"
             ],
             [
              0.1111111111111111,
              "#46039f"
             ],
             [
              0.2222222222222222,
              "#7201a8"
             ],
             [
              0.3333333333333333,
              "#9c179e"
             ],
             [
              0.4444444444444444,
              "#bd3786"
             ],
             [
              0.5555555555555556,
              "#d8576b"
             ],
             [
              0.6666666666666666,
              "#ed7953"
             ],
             [
              0.7777777777777778,
              "#fb9f3a"
             ],
             [
              0.8888888888888888,
              "#fdca26"
             ],
             [
              1.0,
              "#f0f921"
             ]
            ],
            "type": "histogram2dcontour"
           }
          ],
          "mesh3d": [
           {
            "colorbar": {
             "outlinewidth": 0,
             "ticks": ""
            },
            "type": "mesh3d"
           }
          ],
          "parcoords": [
           {
            "line": {
             "colorbar": {
              "outlinewidth": 0,
              "ticks": ""
             }
            },
            "type": "parcoords"
           }
          ],
          "pie": [
           {
            "automargin": true,
            "type": "pie"
           }
          ],
          "scatter": [
           {
            "fillpattern": {
             "fillmode": "overlay",
             "size": 10,
             "solidity": 0.2
            },
            "type": "scatter"
           }
          ],
          "scatter3d": [
           {
            "line": {
             "colorbar": {
              "outlinewidth": 0,
              "ticks": ""
             }
            },
            "marker": {
             "colorbar": {
              "outlinewidth": 0,
              "ticks": ""
             }
            },
            "type": "scatter3d"
           }
          ],
          "scattercarpet": [
           {
            "marker": {
             "colorbar": {
              "outlinewidth": 0,
              "ticks": ""
             }
            },
            "type": "scattercarpet"
           }
          ],
          "scattergeo": [
           {
            "marker": {
             "colorbar": {
              "outlinewidth": 0,
              "ticks": ""
             }
            },
            "type": "scattergeo"
           }
          ],
          "scattergl": [
           {
            "marker": {
             "colorbar": {
              "outlinewidth": 0,
              "ticks": ""
             }
            },
            "type": "scattergl"
           }
          ],
          "scattermap": [
           {
            "marker": {
             "colorbar": {
              "outlinewidth": 0,
              "ticks": ""
             }
            },
            "type": "scattermap"
           }
          ],
          "scattermapbox": [
           {
            "marker": {
             "colorbar": {
              "outlinewidth": 0,
              "ticks": ""
             }
            },
            "type": "scattermapbox"
           }
          ],
          "scatterpolar": [
           {
            "marker": {
             "colorbar": {
              "outlinewidth": 0,
              "ticks": ""
             }
            },
            "type": "scatterpolar"
           }
          ],
          "scatterpolargl": [
           {
            "marker": {
             "colorbar": {
              "outlinewidth": 0,
              "ticks": ""
             }
            },
            "type": "scatterpolargl"
           }
          ],
          "scatterternary": [
           {
            "marker": {
             "colorbar": {
              "outlinewidth": 0,
              "ticks": ""
             }
            },
            "type": "scatterternary"
           }
          ],
          "surface": [
           {
            "colorbar": {
             "outlinewidth": 0,
             "ticks": ""
            },
            "colorscale": [
             [
              0.0,
              "#0d0887"
             ],
             [
              0.1111111111111111,
              "#46039f"
             ],
             [
              0.2222222222222222,
              "#7201a8"
             ],
             [
              0.3333333333333333,
              "#9c179e"
             ],
             [
              0.4444444444444444,
              "#bd3786"
             ],
             [
              0.5555555555555556,
              "#d8576b"
             ],
             [
              0.6666666666666666,
              "#ed7953"
             ],
             [
              0.7777777777777778,
              "#fb9f3a"
             ],
             [
              0.8888888888888888,
              "#fdca26"
             ],
             [
              1.0,
              "#f0f921"
             ]
            ],
            "type": "surface"
           }
          ],
          "table": [
           {
            "cells": {
             "fill": {
              "color": "#EBF0F8"
             },
             "line": {
              "color": "white"
             }
            },
            "header": {
             "fill": {
              "color": "#C8D4E3"
             },
             "line": {
              "color": "white"
             }
            },
            "type": "table"
           }
          ]
         },
         "layout": {
          "annotationdefaults": {
           "arrowcolor": "#2a3f5f",
           "arrowhead": 0,
           "arrowwidth": 1
          },
          "autotypenumbers": "strict",
          "coloraxis": {
           "colorbar": {
            "outlinewidth": 0,
            "ticks": ""
           }
          },
          "colorscale": {
           "diverging": [
            [
             0,
             "#8e0152"
            ],
            [
             0.1,
             "#c51b7d"
            ],
            [
             0.2,
             "#de77ae"
            ],
            [
             0.3,
             "#f1b6da"
            ],
            [
             0.4,
             "#fde0ef"
            ],
            [
             0.5,
             "#f7f7f7"
            ],
            [
             0.6,
             "#e6f5d0"
            ],
            [
             0.7,
             "#b8e186"
            ],
            [
             0.8,
             "#7fbc41"
            ],
            [
             0.9,
             "#4d9221"
            ],
            [
             1,
             "#276419"
            ]
           ],
           "sequential": [
            [
             0.0,
             "#0d0887"
            ],
            [
             0.1111111111111111,
             "#46039f"
            ],
            [
             0.2222222222222222,
             "#7201a8"
            ],
            [
             0.3333333333333333,
             "#9c179e"
            ],
            [
             0.4444444444444444,
             "#bd3786"
            ],
            [
             0.5555555555555556,
             "#d8576b"
            ],
            [
             0.6666666666666666,
             "#ed7953"
            ],
            [
             0.7777777777777778,
             "#fb9f3a"
            ],
            [
             0.8888888888888888,
             "#fdca26"
            ],
            [
             1.0,
             "#f0f921"
            ]
           ],
           "sequentialminus": [
            [
             0.0,
             "#0d0887"
            ],
            [
             0.1111111111111111,
             "#46039f"
            ],
            [
             0.2222222222222222,
             "#7201a8"
            ],
            [
             0.3333333333333333,
             "#9c179e"
            ],
            [
             0.4444444444444444,
             "#bd3786"
            ],
            [
             0.5555555555555556,
             "#d8576b"
            ],
            [
             0.6666666666666666,
             "#ed7953"
            ],
            [
             0.7777777777777778,
             "#fb9f3a"
            ],
            [
             0.8888888888888888,
             "#fdca26"
            ],
            [
             1.0,
             "#f0f921"
            ]
           ]
          },
          "colorway": [
           "#9B0000",
           "#666666",
           "#B60205",
           "#8c1515",
           "#9c9c9c",
           "#c2c2c2"
          ],
          "font": {
           "color": "#2a3f5f",
           "family": "Red Hat Text, Arial, sans-serif"
          },
          "geo": {
           "bgcolor": "white",
           "lakecolor": "white",
           "landcolor": "white",
           "showlakes": true,
           "showland": true,
           "subunitcolor": "#C8D4E3"
          },
          "hoverlabel": {
           "align": "left"
          },
          "hovermode": "closest",
          "legend": {
           "bgcolor": "rgba(0,0,0,0)"
          },
          "mapbox": {
           "style": "light"
          },
          "margin": {
           "b": 40,
           "l": 40,
           "r": 20,
           "t": 60
          },
          "paper_bgcolor": "#F7F7F7",
          "plot_bgcolor": "#F7F7F7",
          "polar": {
           "angularaxis": {
            "gridcolor": "#EBF0F8",
            "linecolor": "#EBF0F8",
            "ticks": ""
           },
           "bgcolor": "white",
           "radialaxis": {
            "gridcolor": "#EBF0F8",
            "linecolor": "#EBF0F8",
            "ticks": ""
           }
          },
          "scene": {
           "xaxis": {
            "backgroundcolor": "white",
            "gridcolor": "#DFE8F3",
            "gridwidth": 2,
            "linecolor": "#EBF0F8",
            "showbackground": true,
            "ticks": "",
            "zerolinecolor": "#EBF0F8"
           },
           "yaxis": {
            "backgroundcolor": "white",
            "gridcolor": "#DFE8F3",
            "gridwidth": 2,
            "linecolor": "#EBF0F8",
            "showbackground": true,
            "ticks": "",
            "zerolinecolor": "#EBF0F8"
           },
           "zaxis": {
            "backgroundcolor": "white",
            "gridcolor": "#DFE8F3",
            "gridwidth": 2,
            "linecolor": "#EBF0F8",
            "showbackground": true,
            "ticks": "",
            "zerolinecolor": "#EBF0F8"
           }
          },
          "shapedefaults": {
           "line": {
            "color": "#2a3f5f"
           }
          },
          "ternary": {
           "aaxis": {
            "gridcolor": "#DFE8F3",
            "linecolor": "#A2B1C6",
            "ticks": ""
           },
           "baxis": {
            "gridcolor": "#DFE8F3",
            "linecolor": "#A2B1C6",
            "ticks": ""
           },
           "bgcolor": "white",
           "caxis": {
            "gridcolor": "#DFE8F3",
            "linecolor": "#A2B1C6",
            "ticks": ""
           }
          },
          "title": {
           "x": 0.01,
           "xanchor": "left"
          },
          "xaxis": {
           "automargin": true,
           "gridcolor": "#e9e9e9",
           "linecolor": "#EBF0F8",
           "ticks": "",
           "title": {
            "standoff": 15
           },
           "zeroline": false,
           "zerolinecolor": "#EBF0F8",
           "zerolinewidth": 2
          },
          "yaxis": {
           "automargin": true,
           "gridcolor": "#e9e9e9",
           "linecolor": "#EBF0F8",
           "ticks": "",
           "title": {
            "standoff": 15
           },
           "zeroline": false,
           "zerolinecolor": "#EBF0F8",
           "zerolinewidth": 2
          }
         }
        },
        "title": {
         "text": "Have received open source training at the university (by affiliation)"
        },
        "xaxis": {
         "anchor": "y",
         "domain": [
          0.0,
          1.0
         ],
         "title": {
          "text": ""
         }
        },
        "yaxis": {
         "anchor": "x",
         "domain": [
          0.0,
          1.0
         ],
         "tickformat": ".1%",
         "title": {
          "text": "Percent"
         }
        }
       }
      }
     },
     "metadata": {},
     "output_type": "display_data"
    }
   ],
   "source": [
    "fig4 = px.bar(\n",
    "    c4_df, x=\"QID25\", y=\"Percent\",\n",
    "    color=\"Affiliation\",\n",
    "    barmode=\"stack\", \n",
    "    title=\"Have received open source training at the university (by affiliation)\"\n",
    ")\n",
    "fig4.update_layout(\n",
    "    yaxis=dict(tickformat=\".1%\"),\n",
    "    xaxis_title=\"\",\n",
    "    plot_bgcolor=\"white\",\n",
    "    paper_bgcolor=\"white\"\n",
    ")\n",
    "fig4.update_layout(hoverlabel=dict(namelength=-1))\n",
    "fig4.show()  # This was missing!\n",
    "fig4.write_html('_static/fig4.html', full_html=False, include_plotlyjs='cdn')\n",
    "\n"
   ]
  },
  {
   "cell_type": "markdown",
   "id": "c378c5aa",
   "metadata": {},
   "source": [
    "```{raw} html\n",
    ":file: _static/fig4.html\n",
    "```"
   ]
  },
  {
   "cell_type": "code",
   "execution_count": 7,
   "id": "88ecb9ad",
   "metadata": {
    "tags": [
     "remove-input"
    ]
   },
   "outputs": [],
   "source": [
    "# Interest in more training (QID28) and OSPO workshops (QID29)\n",
    "more_training_pct = prop(df[\"QID28\"], lambda s: s == \"Yes\")\n",
    "ospo_workshops_pct = prop(df[\"QID29\"], lambda s: s == \"Yes\")\n",
    "glue(\"more_training_pct\", more_training_pct, display=False)  # prevents display\n",
    "glue(\"ospo_workshops_pct\", ospo_workshops_pct, display=False)  # prevents display"
   ]
  },
  {
   "cell_type": "markdown",
   "id": "69c22dfe",
   "metadata": {},
   "source": [
    "**{glue:}`more_training_pct`%** of respondents said that they \"would like to see more training, education, or support for learning how to contribute to open source project\" and **{glue:}`ospo_workshops_pct`%** of respondents expressed interest in potential open source training sessions and workshops organized by the Open Source Program Office."
   ]
  }
 ],
 "metadata": {
  "jupytext": {
   "text_representation": {
    "format_name": "myst"
   }
  },
  "kernelspec": {
   "display_name": "Python 3",
   "language": "python",
   "name": "python3"
  },
  "language_info": {
   "codemirror_mode": {
    "name": "ipython",
    "version": 3
   },
   "file_extension": ".py",
   "mimetype": "text/x-python",
   "name": "python",
   "nbconvert_exporter": "python",
   "pygments_lexer": "ipython3",
   "version": "3.10.14"
  },
  "source_map": [
   10,
   16,
   59,
   67,
   72,
   123,
   136,
   170,
   175,
   191,
   199,
   219,
   225,
   233
  ],
  "title": "Campus Culture"
 },
 "nbformat": 4,
 "nbformat_minor": 5
}